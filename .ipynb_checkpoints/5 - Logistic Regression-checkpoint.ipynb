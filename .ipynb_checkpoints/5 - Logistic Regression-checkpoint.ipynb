{
 "cells": [
  {
   "cell_type": "markdown",
   "metadata": {},
   "source": [
    "# Part 5 - Logistic Regression"
   ]
  },
  {
   "cell_type": "markdown",
   "metadata": {},
   "source": [
    "**By Aziz Presswala**"
   ]
  },
  {
   "cell_type": "code",
   "execution_count": 1,
   "metadata": {},
   "outputs": [],
   "source": [
    "%matplotlib inline\n",
    "import warnings\n",
    "warnings.filterwarnings(\"ignore\")\n",
    "\n",
    "import pickle\n",
    "import os\n",
    "import math\n",
    "import sqlite3\n",
    "import pandas as pd\n",
    "import numpy as np\n",
    "import matplotlib.pyplot as plt\n",
    "import seaborn as sns\n",
    "from scipy.sparse import find\n",
    "from tqdm import tqdm\n",
    "from prettytable import PrettyTable\n",
    "\n",
    "from sklearn.feature_extraction.text import TfidfTransformer\n",
    "from sklearn.feature_extraction.text import TfidfVectorizer\n",
    "from sklearn.feature_extraction.text import CountVectorizer\n",
    "from sklearn import model_selection\n",
    "from sklearn.metrics import confusion_matrix\n",
    "from sklearn import metrics\n",
    "from sklearn.metrics import roc_curve, auc, roc_auc_score\n",
    "from sklearn.linear_model import LogisticRegression\n",
    "from sklearn.model_selection import GridSearchCV\n",
    "from sklearn.preprocessing import StandardScaler\n",
    "\n",
    "from gensim.models import Word2Vec\n",
    "from gensim.models import KeyedVectors"
   ]
  },
  {
   "cell_type": "markdown",
   "metadata": {},
   "source": [
    "### Splitting the Dataset into Train & Test"
   ]
  },
  {
   "cell_type": "code",
   "execution_count": 2,
   "metadata": {},
   "outputs": [
    {
     "data": {
      "text/plain": [
       "(364171, 12)"
      ]
     },
     "execution_count": 2,
     "metadata": {},
     "output_type": "execute_result"
    }
   ],
   "source": [
    "# Using the CleanedText column saved in final.sqlite db\n",
    "con = sqlite3.connect('final.sqlite')\n",
    "filtered_data = pd.read_sql_query(\"SELECT * FROM Reviews\", con)\n",
    "filtered_data.shape"
   ]
  },
  {
   "cell_type": "code",
   "execution_count": 3,
   "metadata": {},
   "outputs": [],
   "source": [
    "# replacing all the 'positive' values of the Score attribute with 1\n",
    "filtered_data['Score']=filtered_data['Score'].replace('positive',1)"
   ]
  },
  {
   "cell_type": "code",
   "execution_count": 4,
   "metadata": {},
   "outputs": [],
   "source": [
    "# replacing all the 'neagtive' values of the Score attribute with 0\n",
    "filtered_data['Score']=filtered_data['Score'].replace('negative',0)"
   ]
  },
  {
   "cell_type": "code",
   "execution_count": 5,
   "metadata": {},
   "outputs": [],
   "source": [
    "#randomly selecting 100k points from the dataset\n",
    "df=filtered_data.sample(100000)"
   ]
  },
  {
   "cell_type": "code",
   "execution_count": 6,
   "metadata": {},
   "outputs": [],
   "source": [
    "#sort the dataset by timestamp\n",
    "df = df.sort_values('Time')\n",
    "#splitting the dataset into train(70%) & test(30%)\n",
    "train_data = df[0:70000]\n",
    "test_data = df[70000:100000]"
   ]
  },
  {
   "cell_type": "markdown",
   "metadata": {},
   "source": [
    "## Featurization"
   ]
  },
  {
   "cell_type": "markdown",
   "metadata": {},
   "source": [
    "### BAG OF WORDS"
   ]
  },
  {
   "cell_type": "code",
   "execution_count": 7,
   "metadata": {},
   "outputs": [
    {
     "data": {
      "text/plain": [
       "(70000, 7220)"
      ]
     },
     "execution_count": 7,
     "metadata": {},
     "output_type": "execute_result"
    }
   ],
   "source": [
    "#applying fit transform on train datasset\n",
    "count_vect = CountVectorizer(min_df=10)\n",
    "x_train_bow = count_vect.fit_transform(train_data['CleanedText'].values)\n",
    "x_train_bow.shape"
   ]
  },
  {
   "cell_type": "code",
   "execution_count": 8,
   "metadata": {},
   "outputs": [
    {
     "data": {
      "text/plain": [
       "(30000, 7220)"
      ]
     },
     "execution_count": 8,
     "metadata": {},
     "output_type": "execute_result"
    }
   ],
   "source": [
    "#applying transform on test dataset\n",
    "x_test_bow = count_vect.transform(test_data['CleanedText'].values)\n",
    "x_test_bow.shape"
   ]
  },
  {
   "cell_type": "code",
   "execution_count": 9,
   "metadata": {},
   "outputs": [],
   "source": [
    "y_train_bow = train_data['Score']\n",
    "y_test_bow = test_data['Score']"
   ]
  },
  {
   "cell_type": "markdown",
   "metadata": {},
   "source": [
    "### TF-IDF"
   ]
  },
  {
   "cell_type": "code",
   "execution_count": 10,
   "metadata": {},
   "outputs": [
    {
     "data": {
      "text/plain": [
       "(70000, 7205)"
      ]
     },
     "execution_count": 10,
     "metadata": {},
     "output_type": "execute_result"
    }
   ],
   "source": [
    "#applying fit transform on train datasset\n",
    "tf_idf_vect = TfidfVectorizer(min_df=10)\n",
    "x_train_tfidf = tf_idf_vect.fit_transform(train_data['CleanedText'].values)\n",
    "x_train_tfidf.shape"
   ]
  },
  {
   "cell_type": "code",
   "execution_count": 11,
   "metadata": {},
   "outputs": [
    {
     "data": {
      "text/plain": [
       "(30000, 7205)"
      ]
     },
     "execution_count": 11,
     "metadata": {},
     "output_type": "execute_result"
    }
   ],
   "source": [
    "#applying transform on test dataset\n",
    "x_test_tfidf = tf_idf_vect.transform(test_data['CleanedText'].values)\n",
    "x_test_tfidf.shape"
   ]
  },
  {
   "cell_type": "code",
   "execution_count": 12,
   "metadata": {},
   "outputs": [],
   "source": [
    "y_train_tfidf = train_data['Score']\n",
    "y_test_tfidf = test_data['Score']"
   ]
  },
  {
   "cell_type": "markdown",
   "metadata": {},
   "source": [
    "### Avg. Word2Vec"
   ]
  },
  {
   "cell_type": "code",
   "execution_count": 59,
   "metadata": {},
   "outputs": [],
   "source": [
    "#training Word2Vec Model for train dataset\n",
    "i=0\n",
    "list_of_sent=[]\n",
    "for sent in train_data['CleanedText'].values:\n",
    "    list_of_sent.append(sent.split())"
   ]
  },
  {
   "cell_type": "code",
   "execution_count": 60,
   "metadata": {},
   "outputs": [],
   "source": [
    "w2v_model=Word2Vec(list_of_sent,min_count=5,size=50, workers=4)"
   ]
  },
  {
   "cell_type": "code",
   "execution_count": 61,
   "metadata": {},
   "outputs": [],
   "source": [
    "X = w2v_model[w2v_model.wv.vocab]"
   ]
  },
  {
   "cell_type": "code",
   "execution_count": 62,
   "metadata": {},
   "outputs": [
    {
     "name": "stderr",
     "output_type": "stream",
     "text": [
      "100%|███████████████████████████████████████████████████████████████████████████| 70000/70000 [02:58<00:00, 393.20it/s]\n"
     ]
    },
    {
     "name": "stdout",
     "output_type": "stream",
     "text": [
      "70000\n",
      "50\n"
     ]
    }
   ],
   "source": [
    "#computing Avg Word2Vec for train dataset\n",
    "w2v_words = list(w2v_model.wv.vocab)\n",
    "sent_vectors = []; # the avg-w2v for each sentence/review is stored in this list\n",
    "for sent in tqdm(list_of_sent): # for each review/sentence\n",
    "    sent_vec = np.zeros(50) # as word vectors are of zero length\n",
    "    cnt_words =0; # num of words with a valid vector in the sentence/review\n",
    "    for word in sent: # for each word in a review/sentence\n",
    "        if word in w2v_words:\n",
    "            vec = w2v_model.wv[word]\n",
    "            sent_vec += vec\n",
    "            cnt_words += 1\n",
    "    if cnt_words != 0:\n",
    "        sent_vec /= cnt_words\n",
    "    sent_vectors.append(sent_vec)\n",
    "print(len(sent_vectors))\n",
    "print(len(sent_vectors[0]))"
   ]
  },
  {
   "cell_type": "code",
   "execution_count": 63,
   "metadata": {},
   "outputs": [
    {
     "data": {
      "text/plain": [
       "(70000, 50)"
      ]
     },
     "execution_count": 63,
     "metadata": {},
     "output_type": "execute_result"
    }
   ],
   "source": [
    "x_train_w2v = np.array(sent_vectors)\n",
    "y_train_w2v = train_data['Score']\n",
    "x_train_w2v.shape"
   ]
  },
  {
   "cell_type": "code",
   "execution_count": 64,
   "metadata": {},
   "outputs": [],
   "source": [
    "#training Word2Vec Model for test dataset\n",
    "i=0\n",
    "list_of_sent1=[]\n",
    "for sent in test_data['CleanedText'].values:\n",
    "    list_of_sent1.append(sent.split())"
   ]
  },
  {
   "cell_type": "code",
   "execution_count": 65,
   "metadata": {},
   "outputs": [
    {
     "name": "stderr",
     "output_type": "stream",
     "text": [
      "100%|███████████████████████████████████████████████████████████████████████████| 30000/30000 [01:14<00:00, 405.07it/s]\n"
     ]
    },
    {
     "name": "stdout",
     "output_type": "stream",
     "text": [
      "30000\n",
      "50\n"
     ]
    }
   ],
   "source": [
    "#computing Avg Word2Vec for test dataset\n",
    "w2v_words = list(w2v_model.wv.vocab)\n",
    "sent_vectors = []; # the avg-w2v for each sentence/review is stored in this list\n",
    "for sent in tqdm(list_of_sent1): # for each review/sentence\n",
    "    sent_vec = np.zeros(50) # as word vectors are of zero length\n",
    "    cnt_words =0; # num of words with a valid vector in the sentence/review\n",
    "    for word in sent: # for each word in a review/sentence\n",
    "        if word in w2v_words:\n",
    "            vec = w2v_model.wv[word]\n",
    "            sent_vec += vec\n",
    "            cnt_words += 1\n",
    "    if cnt_words != 0:\n",
    "        sent_vec /= cnt_words\n",
    "    sent_vectors.append(sent_vec)\n",
    "print(len(sent_vectors))\n",
    "print(len(sent_vectors[0]))"
   ]
  },
  {
   "cell_type": "code",
   "execution_count": 66,
   "metadata": {},
   "outputs": [
    {
     "data": {
      "text/plain": [
       "(30000, 50)"
      ]
     },
     "execution_count": 66,
     "metadata": {},
     "output_type": "execute_result"
    }
   ],
   "source": [
    "x_test_w2v = np.array(sent_vectors)\n",
    "y_test_w2v = test_data['Score']\n",
    "x_test_w2v.shape"
   ]
  },
  {
   "cell_type": "markdown",
   "metadata": {},
   "source": [
    "### TFIDF - Word2Vec"
   ]
  },
  {
   "cell_type": "code",
   "execution_count": 75,
   "metadata": {},
   "outputs": [],
   "source": [
    "# training model for training data\n",
    "model = TfidfVectorizer()\n",
    "tf_idf_matrix = model.fit_transform(train_data['CleanedText'].values)\n",
    "# we are converting a dictionary with word as a key, and the idf as a value\n",
    "dictionary = dict(zip(model.get_feature_names(), list(model.idf_)))"
   ]
  },
  {
   "cell_type": "code",
   "execution_count": 76,
   "metadata": {
    "scrolled": true
   },
   "outputs": [
    {
     "name": "stderr",
     "output_type": "stream",
     "text": [
      "100%|███████████████████████████████████████████████████████████████████████████| 70000/70000 [03:03<00:00, 380.69it/s]\n"
     ]
    }
   ],
   "source": [
    "# TF-IDF weighted Word2Vec\n",
    "tfidf_feat = model.get_feature_names() # tfidf words/col-names\n",
    "# final_tf_idf is the sparse matrix with row= sentence, col=word and cell_val = tfidf\n",
    "\n",
    "tfidf_sent_vectors = []; # the tfidf-w2v for each sentence/review is stored in this list\n",
    "row=0;\n",
    "for sent in tqdm(list_of_sent): # for each review/sentence \n",
    "    sent_vec = np.zeros(50) # as word vectors are of zero length\n",
    "    weight_sum =0; # num of words with a valid vector in the sentence/review\n",
    "    for word in sent: # for each word in a review/sentence\n",
    "        if word in w2v_words:\n",
    "            vec = w2v_model.wv[word]\n",
    "            # tf_idf = tf_idf_matrix[row, tfidf_feat.index(word)]\n",
    "            # to reduce the computation we are \n",
    "            # dictionary[word] = idf value of word in whole courpus\n",
    "            # sent.count(word) = tf valeus of word in this review\n",
    "            tf_idf = dictionary[word]*(sent.count(word)/len(sent))\n",
    "            sent_vec += (vec * tf_idf)\n",
    "            weight_sum += tf_idf\n",
    "    if weight_sum != 0:\n",
    "        sent_vec /= weight_sum\n",
    "    tfidf_sent_vectors.append(sent_vec)\n",
    "    row += 1"
   ]
  },
  {
   "cell_type": "code",
   "execution_count": 77,
   "metadata": {},
   "outputs": [
    {
     "data": {
      "text/plain": [
       "(70000, 50)"
      ]
     },
     "execution_count": 77,
     "metadata": {},
     "output_type": "execute_result"
    }
   ],
   "source": [
    "x_train_tfw2v = np.array(tfidf_sent_vectors)\n",
    "y_train_tfw2v = train_data['Score']\n",
    "x_train_tfw2v.shape"
   ]
  },
  {
   "cell_type": "code",
   "execution_count": 79,
   "metadata": {},
   "outputs": [],
   "source": [
    "# training model for test dataset\n",
    "model = TfidfVectorizer()\n",
    "tf_idf_matrix = model.fit_transform(test_data['CleanedText'].values)\n",
    "# we are converting a dictionary with word as a key, and the idf as a value\n",
    "dictionary = dict(zip(model.get_feature_names(), list(model.idf_)))"
   ]
  },
  {
   "cell_type": "code",
   "execution_count": 80,
   "metadata": {},
   "outputs": [
    {
     "name": "stderr",
     "output_type": "stream",
     "text": [
      "100%|███████████████████████████████████████████████████████████████████████████| 30000/30000 [01:28<00:00, 338.80it/s]\n"
     ]
    }
   ],
   "source": [
    "# TF-IDF weighted Word2Vec\n",
    "tfidf_feat = model.get_feature_names() # tfidf words/col-names\n",
    "# final_tf_idf is the sparse matrix with row= sentence, col=word and cell_val = tfidf\n",
    "\n",
    "tfidf_sent_vectors = []; # the tfidf-w2v for each sentence/review is stored in this list\n",
    "row=0;\n",
    "for sent in tqdm(list_of_sent1): # for each review/sentence \n",
    "    sent_vec = np.zeros(50) # as word vectors are of zero length\n",
    "    weight_sum =0; # num of words with a valid vector in the sentence/review\n",
    "    for word in sent: # for each word in a review/sentence\n",
    "        if word in w2v_words:\n",
    "            vec = w2v_model.wv[word]\n",
    "            # tf_idf = tf_idf_matrix[row, tfidf_feat.index(word)]\n",
    "            # to reduce the computation we are \n",
    "            # dictionary[word] = idf value of word in whole courpus\n",
    "            # sent.count(word) = tf valeus of word in this review\n",
    "            tf_idf = dictionary[word]*(sent.count(word)/len(sent))\n",
    "            sent_vec += (vec * tf_idf)\n",
    "            weight_sum += tf_idf\n",
    "    if weight_sum != 0:\n",
    "        sent_vec /= weight_sum\n",
    "    tfidf_sent_vectors.append(sent_vec)\n",
    "    row += 1"
   ]
  },
  {
   "cell_type": "code",
   "execution_count": 81,
   "metadata": {},
   "outputs": [
    {
     "data": {
      "text/plain": [
       "(30000, 50)"
      ]
     },
     "execution_count": 81,
     "metadata": {},
     "output_type": "execute_result"
    }
   ],
   "source": [
    "x_test_tfw2v = np.array(tfidf_sent_vectors)\n",
    "y_test_tfw2v = test_data['Score']\n",
    "x_test_tfw2v.shape"
   ]
  },
  {
   "cell_type": "markdown",
   "metadata": {},
   "source": [
    "## Applying Logistic Regression"
   ]
  },
  {
   "cell_type": "markdown",
   "metadata": {},
   "source": [
    "### Logistic Regression on BOW"
   ]
  },
  {
   "cell_type": "markdown",
   "metadata": {},
   "source": [
    "### Applying Logistic Regression with L1 regularization on BOW"
   ]
  },
  {
   "cell_type": "code",
   "execution_count": 10,
   "metadata": {},
   "outputs": [
    {
     "name": "stdout",
     "output_type": "stream",
     "text": [
      "Best C Value:  {'C': 0.5}\n",
      "Best ROC AUC Score: 0.92936\n"
     ]
    }
   ],
   "source": [
    "# initializing Logistic Regression model with L1 regularisation\n",
    "lr = LogisticRegression(penalty='l1')\n",
    "\n",
    "# C values we need to try on classifier\n",
    "C_values = [1000,500,100,50,10,5,1,0.5,0.1,0.05,0.01,0.005,0.001,0.0005,0.0001]\n",
    "param_grid = {'C':[1000,500,100,50,10,5,1,0.5,0.1,0.05,0.01,0.005,0.001,0.0005,0.0001]}\n",
    "\n",
    "# using GridSearchCV to find the optimal value of C\n",
    "# using roc_auc as the scoring parameter & applying 10 fold CV\n",
    "gscv = GridSearchCV(lr,param_grid,scoring='roc_auc',cv=10,return_train_score=True)\n",
    "\n",
    "gscv.fit(x_train_bow,y_train_bow)\n",
    "\n",
    "print(\"Best C Value: \",gscv.best_params_)\n",
    "print(\"Best ROC AUC Score: %.5f\"%(gscv.best_score_))"
   ]
  },
  {
   "cell_type": "code",
   "execution_count": 11,
   "metadata": {},
   "outputs": [
    {
     "name": "stdout",
     "output_type": "stream",
     "text": [
      "\n",
      "**** Test roc_auc_score for C = 0.500000 is 0.932319 ****\n"
     ]
    }
   ],
   "source": [
    "# determining optimal C\n",
    "optimal_C = gscv.best_params_['C']\n",
    "\n",
    "#training the model using the optimal C\n",
    "lrf = LogisticRegression(penalty='l1',C=optimal_C)\n",
    "lrf.fit(x_train_bow,y_train_bow)\n",
    "\n",
    "#predicting the class label using test data \n",
    "y_pred = lrf.predict_proba(x_test_bow)[:,1]\n",
    "\n",
    "#determining the Test roc_auc_score for optimal C\n",
    "auc_score = roc_auc_score(y_test_bow, y_pred)\n",
    "print('\\n**** Test roc_auc_score for C = %f is %f ****' % (optimal_C,auc_score))"
   ]
  },
  {
   "cell_type": "markdown",
   "metadata": {},
   "source": [
    "**AUC vs C plot**"
   ]
  },
  {
   "cell_type": "code",
   "execution_count": 16,
   "metadata": {},
   "outputs": [
    {
     "name": "stdout",
     "output_type": "stream",
     "text": [
      "[6.907755278982137, 6.214608098422191, 4.605170185988092, 3.912023005428146, 2.302585092994046, 1.6094379124341003, 0.0, -0.6931471805599453, -2.3025850929940455, -2.995732273553991, -4.605170185988091, -5.298317366548036, -6.907755278982137, -7.600902459542082, -9.210340371976182]\n"
     ]
    },
    {
     "data": {
      "image/png": "[encoded data removed]",
      "text/plain": [
       "<Figure size 432x288 with 1 Axes>"
      ]
     },
     "metadata": {
      "needs_background": "light"
     },
     "output_type": "display_data"
    }
   ],
   "source": [
    "# plotting AUC vs C on Train & Validation dataset\n",
    "log_alpha=[math.log(x) for x in C_values]\n",
    "print(log_alpha)\n",
    "plt.xlim(-12,10)\n",
    "plt.ylim(0.0,1.0)\n",
    "plt.xlabel(r\"C\",fontsize=15)\n",
    "plt.ylabel('AUC')\n",
    "plt.title(r'AUC v/s C')\n",
    "plt.plot(log_alpha, gscv.cv_results_['mean_test_score'], 'r', label='CV AUC')\n",
    "plt.plot(log_alpha, gscv.cv_results_['mean_train_score'], 'b', label='Train AUC')\n",
    "plt.legend(loc='lower right')\n",
    "plt.show()"
   ]
  },
  {
   "cell_type": "code",
   "execution_count": 17,
   "metadata": {},
   "outputs": [
    {
     "name": "stdout",
     "output_type": "stream",
     "text": [
      "[[ 3197  1957]\n",
      " [  762 24084]]\n"
     ]
    },
    {
     "data": {
      "text/plain": [
       "<matplotlib.axes._subplots.AxesSubplot at 0x886618d550>"
      ]
     },
     "execution_count": 17,
     "metadata": {},
     "output_type": "execute_result"
    },
    {
     "data": {
      "image/png": "[encoded data removed]",
      "text/plain": [
       "<Figure size 432x288 with 2 Axes>"
      ]
     },
     "metadata": {},
     "output_type": "display_data"
    }
   ],
   "source": [
    "#plotting confusion matrix as heatmap\n",
    "cm = confusion_matrix(y_test_bow, y_pred)\n",
    "print(cm)\n",
    "df_cm = pd.DataFrame(cm, range(2),range(2))\n",
    "sns.set(font_scale=1.4)\n",
    "sns.heatmap(df_cm, annot=True,annot_kws={\"size\": 16}, fmt='g')"
   ]
  },
  {
   "cell_type": "markdown",
   "metadata": {},
   "source": [
    "**ROC Curve**"
   ]
  },
  {
   "cell_type": "code",
   "execution_count": 18,
   "metadata": {},
   "outputs": [
    {
     "data": {
      "image/png": "[encoded data removed]",
      "text/plain": [
       "<Figure size 432x288 with 1 Axes>"
      ]
     },
     "metadata": {},
     "output_type": "display_data"
    }
   ],
   "source": [
    "# Plotting roc curve on Train Data\n",
    "pred_train = lrf.predict_proba(x_train_bow)[:,1]\n",
    "fpr, tpr, threshold = roc_curve(y_train_bow, pred_train)\n",
    "plt.plot(fpr, tpr, 'b', label='Train')\n",
    "\n",
    "# Plotting roc curve on Test Data\n",
    "pred_test = lrf.predict_proba(x_test_bow)[:,1]\n",
    "fpr, tpr, threshold = roc_curve(y_test_bow, pred_test)\n",
    "plt.plot(fpr, tpr, 'g', label='Test')\n",
    "\n",
    "plt.title('ROC Curve')\n",
    "plt.plot([0, 1], [0, 1],'r--')\n",
    "plt.xlim([0, 1])\n",
    "plt.ylim([0, 1])\n",
    "plt.legend(loc='lower right')\n",
    "plt.show()"
   ]
  },
  {
   "cell_type": "markdown",
   "metadata": {},
   "source": [
    "#### [1.1.1.1] Calculating sparsity on weight vector obtained using L1 regularization on BOW,<font color='red'> SET 1</font>"
   ]
  },
  {
   "cell_type": "code",
   "execution_count": 19,
   "metadata": {},
   "outputs": [
    {
     "name": "stdout",
     "output_type": "stream",
     "text": [
      "Size of the weight vector: 7205\n",
      "No. of Non Zero weights: 2608\n",
      "Sparsity = 4597\n"
     ]
    }
   ],
   "source": [
    "#Calculating sparsity on weight vector using optimal C value and L1 regularization\n",
    "lrf = LogisticRegression(C=optimal_C, penalty= 'l1')\n",
    "lrf.fit(x_train_bow,y_train_bow)\n",
    "pred = lrf.predict(x_test_bow)\n",
    "print(\"Size of the weight vector:\",len(lrf.coef_[0]))\n",
    "print(\"No. of Non Zero weights:\",np.count_nonzero(lrf.coef_))\n",
    "print('Sparsity =', (len(lrf.coef_[0])-np.count_nonzero(lrf.coef_)))"
   ]
  },
  {
   "cell_type": "markdown",
   "metadata": {},
   "source": [
    "### Applying Logistic Regression with L2 regularization on BOW"
   ]
  },
  {
   "cell_type": "code",
   "execution_count": 41,
   "metadata": {},
   "outputs": [
    {
     "name": "stdout",
     "output_type": "stream",
     "text": [
      "Best C Value:  {'C': 0.1}\n",
      "Best ROC AUC Score: 0.87426\n"
     ]
    }
   ],
   "source": [
    "# initializing Logistic Regression model with L2 regularisation\n",
    "lr = LogisticRegression(penalty='l2',max_iter=1000)\n",
    "\n",
    "# using GridSearchCV to find the optimal value of C\n",
    "# using roc_auc as the scoring parameter & applying 1 fold CV\n",
    "gscv = GridSearchCV(lr,param_grid,scoring='roc_auc',cv=2,return_train_score=True)\n",
    "\n",
    "gscv.fit(x_train_bow,y_train_bow)\n",
    "\n",
    "print(\"Best C Value: \",gscv.best_params_)\n",
    "print(\"Best ROC AUC Score: %.5f\"%(gscv.best_score_))"
   ]
  },
  {
   "cell_type": "code",
   "execution_count": 42,
   "metadata": {},
   "outputs": [
    {
     "name": "stdout",
     "output_type": "stream",
     "text": [
      "\n",
      "**** Test roc_auc_score for C = 0.100000 is 0.774518 ****\n"
     ]
    }
   ],
   "source": [
    "# determining optimal C\n",
    "optimal_C = gscv.best_params_['C']\n",
    "\n",
    "#training the model using the optimal C\n",
    "lrf = LogisticRegression(penalty='l2',C=optimal_C)\n",
    "lrf.fit(x_train_bow,y_train_bow)\n",
    "\n",
    "#predicting the class label using test data \n",
    "y_pred = lrf.predict(x_test_bow)\n",
    "\n",
    "#determining the Test roc_auc_score for optimal C\n",
    "auc_score = roc_auc_score(y_test_bow, y_pred)\n",
    "print('\\n**** Test roc_auc_score for C = %f is %f ****' % (optimal_C,auc_score))"
   ]
  },
  {
   "cell_type": "markdown",
   "metadata": {},
   "source": [
    "**AUC vs C plot**"
   ]
  },
  {
   "cell_type": "code",
   "execution_count": 43,
   "metadata": {},
   "outputs": [
    {
     "name": "stdout",
     "output_type": "stream",
     "text": [
      "[6.907755278982137, 6.214608098422191, 4.605170185988092, 3.912023005428146, 2.302585092994046, 1.6094379124341003, 0.0, -0.6931471805599453, -2.3025850929940455, -2.995732273553991, -4.605170185988091, -5.298317366548036, -6.907755278982137, -7.600902459542082, -9.210340371976182]\n"
     ]
    },
    {
     "data": {
      "image/png": "[encoded data removed]",
      "text/plain": [
       "<Figure size 432x288 with 1 Axes>"
      ]
     },
     "metadata": {},
     "output_type": "display_data"
    }
   ],
   "source": [
    "# plotting AUC vs C on Train & Validation dataset\n",
    "log_alpha=[math.log(x) for x in C_values]\n",
    "print(log_alpha)\n",
    "plt.xlim(-12,10)\n",
    "plt.ylim(0.0,1.0)\n",
    "plt.xlabel(r\"C\",fontsize=15)\n",
    "plt.ylabel('AUC')\n",
    "plt.title(r'AUC v/s C')\n",
    "plt.plot(log_alpha, gscv.cv_results_['mean_test_score'], 'r', label='CV AUC')\n",
    "plt.plot(log_alpha, gscv.cv_results_['mean_train_score'], 'b', label='Train AUC')\n",
    "plt.legend(loc='lower right')\n",
    "plt.show()"
   ]
  },
  {
   "cell_type": "code",
   "execution_count": 44,
   "metadata": {},
   "outputs": [
    {
     "name": "stdout",
     "output_type": "stream",
     "text": [
      "[[ 3197  1957]\n",
      " [  762 24084]]\n"
     ]
    },
    {
     "data": {
      "text/plain": [
       "<matplotlib.axes._subplots.AxesSubplot at 0x8874b2e358>"
      ]
     },
     "execution_count": 44,
     "metadata": {},
     "output_type": "execute_result"
    },
    {
     "data": {
      "image/png": "[encoded data removed]",
      "text/plain": [
       "<Figure size 432x288 with 2 Axes>"
      ]
     },
     "metadata": {},
     "output_type": "display_data"
    }
   ],
   "source": [
    "#plotting confusion matrix as heatmap\n",
    "cm = confusion_matrix(y_test_bow, pred)\n",
    "print(cm)\n",
    "df_cm = pd.DataFrame(cm, range(2),range(2))\n",
    "sns.set(font_scale=1.4)\n",
    "sns.heatmap(df_cm, annot=True,annot_kws={\"size\": 16}, fmt='g')"
   ]
  },
  {
   "cell_type": "markdown",
   "metadata": {},
   "source": [
    "#### Performing pertubation test (multicollinearity check) on BOW"
   ]
  },
  {
   "cell_type": "code",
   "execution_count": 20,
   "metadata": {},
   "outputs": [
    {
     "name": "stdout",
     "output_type": "stream",
     "text": [
      "[ 0.          0.          0.          0.19961079  0.          0.\n",
      "  0.          0.         -0.93373078  0.27533887  0.          0.\n",
      "  0.          0.          0.          0.          0.         -0.27312584\n",
      "  0.          0.         -0.57000398  0.          0.12731565  0.13471111\n",
      "  0.          0.          0.          0.          0.          1.28418421\n",
      "  0.          1.00466245  0.          0.         -0.28736664  0.\n",
      "  0.79777289  0.         -0.11235233 -0.13702158  0.          0.\n",
      "  0.16282287  0.         -0.25887163  0.54482719  0.          0.\n",
      "  0.          0.08212421]\n"
     ]
    }
   ],
   "source": [
    "# weight vector before adding noise\n",
    "weight1 = lrf.coef_[0]\n",
    "print(weight1[:50])"
   ]
  },
  {
   "cell_type": "code",
   "execution_count": 21,
   "metadata": {},
   "outputs": [],
   "source": [
    "X_train_t = x_train_bow\n",
    "#Random noise\n",
    "epsilon = np.random.uniform(low=-0.0001, high=0.0001, size=(find(X_train_t)[0].size,))\n",
    "\n",
    "#Getting the postions(row and column) and value of non-zero datapoints \n",
    "a,b,c = find(X_train_t)\n",
    "\n",
    "#Introducing random noise to non-zero datapoints\n",
    "X_train_t[a,b] = epsilon + X_train_t[a,b]"
   ]
  },
  {
   "cell_type": "code",
   "execution_count": 22,
   "metadata": {},
   "outputs": [
    {
     "name": "stdout",
     "output_type": "stream",
     "text": [
      "Non Zero weights: 2423\n"
     ]
    }
   ],
   "source": [
    "#Training the model on the noise added dataset\n",
    "lr = LogisticRegression(C= optimal_C, penalty= 'l1')\n",
    "lr.fit(X_train_t,y_train_bow)\n",
    "y_pred = lr.predict(x_test_bow)\n",
    "print(\"Non Zero weights:\",np.count_nonzero(lr.coef_))"
   ]
  },
  {
   "cell_type": "code",
   "execution_count": 23,
   "metadata": {},
   "outputs": [
    {
     "name": "stdout",
     "output_type": "stream",
     "text": [
      "[ 0.          0.          0.          0.27306786  0.          0.\n",
      "  0.          0.         -0.56250695  0.37033967  0.          0.\n",
      "  0.          0.          0.15584686  0.          0.         -0.16526306\n",
      "  0.          0.         -0.98455298  0.64297284  0.          0.\n",
      "  0.          0.          0.          0.          0.          0.24996729\n",
      "  0.          0.28208293  0.          0.          0.          0.\n",
      "  0.          0.         -0.11049378  0.          0.          0.\n",
      "  0.         -0.78722114 -0.32519839  0.35393533  0.          0.\n",
      "  0.         -0.02090544]\n"
     ]
    }
   ],
   "source": [
    "# weight vector after adding noise\n",
    "weight2 = lr.coef_[0]\n",
    "print(weight2[:50])"
   ]
  },
  {
   "cell_type": "code",
   "execution_count": 24,
   "metadata": {},
   "outputs": [],
   "source": [
    "#adding a small value to both the weight vectors\n",
    "val=10**-6\n",
    "weight1+=val\n",
    "weight2+=val"
   ]
  },
  {
   "cell_type": "code",
   "execution_count": 25,
   "metadata": {},
   "outputs": [
    {
     "name": "stdout",
     "output_type": "stream",
     "text": [
      "2475\n"
     ]
    }
   ],
   "source": [
    "# calculating the percentage change \n",
    "percent_change = abs((weight1 - weight2)/weight1) * 100\n",
    "# no. of vectors that have a percentage change of more than 30%\n",
    "print(percent_change[np.where(percent_change>30)].size)"
   ]
  },
  {
   "cell_type": "markdown",
   "metadata": {},
   "source": [
    "**2475 features of 7205 have a percentage change greater than 30%. Hence the features are multicollinear.** "
   ]
  },
  {
   "cell_type": "markdown",
   "metadata": {},
   "source": [
    "### Feature Importance on BOW"
   ]
  },
  {
   "cell_type": "markdown",
   "metadata": {},
   "source": [
    "#### Top 10 important features of positive & negative class"
   ]
  },
  {
   "cell_type": "code",
   "execution_count": 42,
   "metadata": {},
   "outputs": [
    {
     "name": "stdout",
     "output_type": "stream",
     "text": [
      "\t\t\tNegative\t\t\t\tPositive\n",
      "__________________________________________________________________________________________________\n",
      "\t-2.4672\tworst          \t\t\t\t2.3582\tskeptic        \n",
      "\t-1.9923\taw             \t\t\t\t2.1666\thappier        \n",
      "\t-1.9653\tterribl        \t\t\t\t2.0430\thook           \n",
      "\t-1.9143\tthrew          \t\t\t\t1.5808\tyummi          \n",
      "\t-1.9120\ttasteless      \t\t\t\t1.5784\tuniqu          \n",
      "\t-1.8529\tyuck           \t\t\t\t1.5019\texcel          \n",
      "\t-1.6849\tcancel         \t\t\t\t1.5008\tamaz           \n",
      "\t-1.6487\thorribl        \t\t\t\t1.4916\tawesom         \n",
      "\t-1.6437\tdisappoint     \t\t\t\t1.4478\tdelici         \n",
      "\t-1.5628\tbland          \t\t\t\t1.4238\taddict         \n"
     ]
    }
   ],
   "source": [
    "#getting the feature names\n",
    "feature_names = count_vect.get_feature_names()\n",
    "\n",
    "#getting their corresponding log probabilities\n",
    "coefs_with_fns = sorted(zip(lrf.coef_[0], feature_names))\n",
    "\n",
    "#selecting the top 10 negative & positive features \n",
    "top = zip(coefs_with_fns[:10], coefs_with_fns[:-(10 + 1):-1])\n",
    "print(\"\\t\\t\\tNegative\\t\\t\\t\\tPositive\")\n",
    "print(\"__________________________________________________________________________________________________\")\n",
    "for (coef_1, fn_1), (coef_2, fn_2) in top:\n",
    "    print(\"\\t%.4f\\t%-15s\\t\\t\\t\\t%.4f\\t%-15s\" % (coef_1, fn_1, coef_2, fn_2))"
   ]
  },
  {
   "cell_type": "markdown",
   "metadata": {},
   "source": [
    "### Logistic Regression on TFIDF"
   ]
  },
  {
   "cell_type": "markdown",
   "metadata": {},
   "source": [
    "### Applying Logistic Regression with L1 regularization on TFIDF"
   ]
  },
  {
   "cell_type": "code",
   "execution_count": 32,
   "metadata": {},
   "outputs": [
    {
     "name": "stdout",
     "output_type": "stream",
     "text": [
      "Best C Value:  {'C': 1}\n",
      "Best ROC AUC Score: 0.94246\n"
     ]
    }
   ],
   "source": [
    "# initializing Logistic Regression model with L1 regularisation\n",
    "lr = LogisticRegression(penalty='l1')\n",
    "\n",
    "# using GridSearchCV to find the optimal value of C\n",
    "# using roc_auc as the scoring parameter & applying 10 fold CV\n",
    "gscv = GridSearchCV(lr,param_grid,scoring='roc_auc',cv=10,return_train_score=True)\n",
    "\n",
    "gscv.fit(x_train_tfidf,y_train_tfidf)\n",
    "\n",
    "print(\"Best C Value: \",gscv.best_params_)\n",
    "print(\"Best ROC AUC Score: %.5f\"%(gscv.best_score_))"
   ]
  },
  {
   "cell_type": "code",
   "execution_count": 33,
   "metadata": {},
   "outputs": [
    {
     "name": "stdout",
     "output_type": "stream",
     "text": [
      "\n",
      "**** Test roc_auc_score for C = 1.000000 is 0.793112 ****\n"
     ]
    }
   ],
   "source": [
    "# determining optimal C\n",
    "optimal_C = gscv.best_params_['C']\n",
    "\n",
    "#training the model using the optimal C\n",
    "lrf = LogisticRegression(penalty='l1',C=optimal_C)\n",
    "lrf.fit(x_train_tfidf,y_train_tfidf)\n",
    "\n",
    "#predicting the class label using test data \n",
    "y_pred = lrf.predict(x_test_tfidf)\n",
    "\n",
    "#determining the Test roc_auc_score for optimal C\n",
    "auc_score = roc_auc_score(y_test_tfidf, y_pred)\n",
    "print('\\n**** Test roc_auc_score for C = %f is %f ****' % (optimal_C,auc_score))"
   ]
  },
  {
   "cell_type": "markdown",
   "metadata": {},
   "source": [
    "**AUC vs C plot**"
   ]
  },
  {
   "cell_type": "code",
   "execution_count": 34,
   "metadata": {},
   "outputs": [
    {
     "name": "stdout",
     "output_type": "stream",
     "text": [
      "[6.907755278982137, 6.214608098422191, 4.605170185988092, 3.912023005428146, 2.302585092994046, 1.6094379124341003, 0.0, -0.6931471805599453, -2.3025850929940455, -2.995732273553991, -4.605170185988091, -5.298317366548036, -6.907755278982137, -7.600902459542082, -9.210340371976182]\n"
     ]
    },
    {
     "data": {
      "image/png": "[encoded data removed]",
      "text/plain": [
       "<Figure size 432x288 with 1 Axes>"
      ]
     },
     "metadata": {},
     "output_type": "display_data"
    }
   ],
   "source": [
    "# plotting AUC vs C on Train & Validation dataset\n",
    "log_alpha=[math.log(x) for x in C_values]\n",
    "print(log_alpha)\n",
    "plt.xlim(-12,10)\n",
    "plt.ylim(0.0,1.0)\n",
    "plt.xlabel(r\"C\",fontsize=15)\n",
    "plt.ylabel('AUC')\n",
    "plt.title(r'AUC v/s C')\n",
    "plt.plot(log_alpha, gscv.cv_results_['mean_test_score'], 'r', label='CV AUC')\n",
    "plt.plot(log_alpha, gscv.cv_results_['mean_train_score'], 'b', label='Train AUC')\n",
    "plt.legend(loc='lower right')\n",
    "plt.show()"
   ]
  },
  {
   "cell_type": "code",
   "execution_count": 35,
   "metadata": {},
   "outputs": [
    {
     "name": "stdout",
     "output_type": "stream",
     "text": [
      "[[ 3197  1957]\n",
      " [  762 24084]]\n"
     ]
    },
    {
     "data": {
      "text/plain": [
       "<matplotlib.axes._subplots.AxesSubplot at 0x886a599630>"
      ]
     },
     "execution_count": 35,
     "metadata": {},
     "output_type": "execute_result"
    },
    {
     "data": {
      "image/png": "[encoded data removed]",
      "text/plain": [
       "<Figure size 432x288 with 2 Axes>"
      ]
     },
     "metadata": {},
     "output_type": "display_data"
    }
   ],
   "source": [
    "#plotting confusion matrix as heatmap\n",
    "cm = confusion_matrix(y_test_tfidf, pred)\n",
    "print(cm)\n",
    "df_cm = pd.DataFrame(cm, range(2),range(2))\n",
    "sns.set(font_scale=1.4)\n",
    "sns.heatmap(df_cm, annot=True,annot_kws={\"size\": 16}, fmt='g')"
   ]
  },
  {
   "cell_type": "markdown",
   "metadata": {},
   "source": [
    "### Applying Logistic Regression with L2 regularization on TFIDF"
   ]
  },
  {
   "cell_type": "code",
   "execution_count": 36,
   "metadata": {},
   "outputs": [
    {
     "name": "stdout",
     "output_type": "stream",
     "text": [
      "Best C Value:  {'C': 1}\n",
      "Best ROC AUC Score: 0.94428\n"
     ]
    }
   ],
   "source": [
    "# initializing Logistic Regression model with L2 regularisation\n",
    "lr = LogisticRegression(penalty='l2')\n",
    "\n",
    "# using GridSearchCV to find the optimal value of C\n",
    "# using roc_auc as the scoring parameter & applying 10 fold CV\n",
    "gscv = GridSearchCV(lr,param_grid,scoring='roc_auc',cv=10,return_train_score=True)\n",
    "\n",
    "gscv.fit(x_train_tfidf,y_train_tfidf)\n",
    "\n",
    "print(\"Best C Value: \",gscv.best_params_)\n",
    "print(\"Best ROC AUC Score: %.5f\"%(gscv.best_score_))"
   ]
  },
  {
   "cell_type": "code",
   "execution_count": 37,
   "metadata": {},
   "outputs": [
    {
     "name": "stdout",
     "output_type": "stream",
     "text": [
      "\n",
      "**** Test roc_auc_score for C = 1.000000 is 0.776427 ****\n"
     ]
    }
   ],
   "source": [
    "# determining optimal C\n",
    "optimal_C = gscv.best_params_['C']\n",
    "\n",
    "#training the model using the optimal C\n",
    "lrf = LogisticRegression(penalty='l2',C=optimal_C)\n",
    "lrf.fit(x_train_tfidf,y_train_tfidf)\n",
    "\n",
    "#predicting the class label using test data \n",
    "y_pred = lrf.predict(x_test_tfidf)\n",
    "\n",
    "#determining the Test roc_auc_score for optimal C\n",
    "auc_score = roc_auc_score(y_test_tfidf, y_pred)\n",
    "print('\\n**** Test roc_auc_score for C = %f is %f ****' % (optimal_C,auc_score))"
   ]
  },
  {
   "cell_type": "markdown",
   "metadata": {},
   "source": [
    "**AUC vs C plot**"
   ]
  },
  {
   "cell_type": "code",
   "execution_count": 38,
   "metadata": {},
   "outputs": [
    {
     "name": "stdout",
     "output_type": "stream",
     "text": [
      "[6.907755278982137, 6.214608098422191, 4.605170185988092, 3.912023005428146, 2.302585092994046, 1.6094379124341003, 0.0, -0.6931471805599453, -2.3025850929940455, -2.995732273553991, -4.605170185988091, -5.298317366548036, -6.907755278982137, -7.600902459542082, -9.210340371976182]\n"
     ]
    },
    {
     "data": {
      "image/png": "[encoded data removed]",
      "text/plain": [
       "<Figure size 432x288 with 1 Axes>"
      ]
     },
     "metadata": {},
     "output_type": "display_data"
    }
   ],
   "source": [
    "# plotting AUC vs C on Train & Validation dataset\n",
    "log_alpha=[math.log(x) for x in C_values]\n",
    "print(log_alpha)\n",
    "plt.xlim(-12,10)\n",
    "plt.ylim(0.0,1.0)\n",
    "plt.xlabel(r\"C\",fontsize=15)\n",
    "plt.ylabel('AUC')\n",
    "plt.title(r'AUC v/s C')\n",
    "plt.plot(log_alpha, gscv.cv_results_['mean_test_score'], 'r', label='CV AUC')\n",
    "plt.plot(log_alpha, gscv.cv_results_['mean_train_score'], 'b', label='Train AUC')\n",
    "plt.legend(loc='lower right')\n",
    "plt.show()"
   ]
  },
  {
   "cell_type": "code",
   "execution_count": 39,
   "metadata": {},
   "outputs": [
    {
     "name": "stdout",
     "output_type": "stream",
     "text": [
      "[[ 3197  1957]\n",
      " [  762 24084]]\n"
     ]
    },
    {
     "data": {
      "text/plain": [
       "<matplotlib.axes._subplots.AxesSubplot at 0x8873258668>"
      ]
     },
     "execution_count": 39,
     "metadata": {},
     "output_type": "execute_result"
    },
    {
     "data": {
      "image/png": "[encoded data removed]",
      "text/plain": [
       "<Figure size 432x288 with 2 Axes>"
      ]
     },
     "metadata": {},
     "output_type": "display_data"
    }
   ],
   "source": [
    "#plotting confusion matrix as heatmap\n",
    "cm = confusion_matrix(y_test_tfidf, pred)\n",
    "print(cm)\n",
    "df_cm = pd.DataFrame(cm, range(2),range(2))\n",
    "sns.set(font_scale=1.4)\n",
    "sns.heatmap(df_cm, annot=True,annot_kws={\"size\": 16}, fmt='g')"
   ]
  },
  {
   "cell_type": "markdown",
   "metadata": {},
   "source": [
    "### Feature Importance on TFIDF"
   ]
  },
  {
   "cell_type": "markdown",
   "metadata": {},
   "source": [
    "#### Top 10 important features of positive & negative class"
   ]
  },
  {
   "cell_type": "code",
   "execution_count": 58,
   "metadata": {},
   "outputs": [
    {
     "name": "stdout",
     "output_type": "stream",
     "text": [
      "\t\t\tNegative\t\t\t\tPositive\n",
      "__________________________________________________________________________________________________\n",
      "\t-7.6603\tdisappoint     \t\t\t\t10.5891\tgreat          \n",
      "\t-6.9781\tworst          \t\t\t\t8.0863\tbest           \n",
      "\t-6.2206\tterribl        \t\t\t\t7.7130\tlove           \n",
      "\t-5.9027\taw             \t\t\t\t7.1773\tdelici         \n",
      "\t-5.8746\thorribl        \t\t\t\t6.7693\tperfect        \n",
      "\t-5.1977\treturn         \t\t\t\t6.1566\texcel          \n",
      "\t-5.1381\tthrew          \t\t\t\t5.6250\tamaz           \n",
      "\t-4.7565\tunfortun       \t\t\t\t5.4546\tgood           \n",
      "\t-4.7096\tbland          \t\t\t\t5.1198\tnice           \n",
      "\t-4.6534\tstale          \t\t\t\t5.0755\tfavorit        \n"
     ]
    }
   ],
   "source": [
    "#getting the feature names\n",
    "feature_names = tf_idf_vect.get_feature_names()\n",
    "\n",
    "#getting their corresponding log probabilities\n",
    "coefs_with_fns = sorted(zip(lrf.coef_[0], feature_names))\n",
    "\n",
    "#selecting the top 10 negative & positive features \n",
    "top = zip(coefs_with_fns[:10], coefs_with_fns[:-(10 + 1):-1])\n",
    "print(\"\\t\\t\\tNegative\\t\\t\\t\\tPositive\")\n",
    "print(\"__________________________________________________________________________________________________\")\n",
    "for (coef_1, fn_1), (coef_2, fn_2) in top:\n",
    "    print(\"\\t%.4f\\t%-15s\\t\\t\\t\\t%.4f\\t%-15s\" % (coef_1, fn_1, coef_2, fn_2))"
   ]
  },
  {
   "cell_type": "markdown",
   "metadata": {},
   "source": [
    "### Logistic Regression on AVG W2V"
   ]
  },
  {
   "cell_type": "markdown",
   "metadata": {},
   "source": [
    "### Applying Logistic Regression with L1 regularization on AVG W2V"
   ]
  },
  {
   "cell_type": "code",
   "execution_count": 67,
   "metadata": {},
   "outputs": [
    {
     "name": "stdout",
     "output_type": "stream",
     "text": [
      "Best C Value:  {'C': 0.5}\n",
      "Best ROC AUC Score: 0.90405\n"
     ]
    }
   ],
   "source": [
    "# initializing Logistic Regression model with L1 regularisation\n",
    "lr = LogisticRegression(penalty='l1')\n",
    "\n",
    "# using GridSearchCV to find the optimal value of C\n",
    "# using roc_auc as the scoring parameter & applying 10 fold CV\n",
    "gscv = GridSearchCV(lr,param_grid,scoring='roc_auc',cv=10,return_train_score=True)\n",
    "\n",
    "gscv.fit(x_train_w2v,y_train_w2v)\n",
    "\n",
    "print(\"Best C Value: \",gscv.best_params_)\n",
    "print(\"Best ROC AUC Score: %.5f\"%(gscv.best_score_))"
   ]
  },
  {
   "cell_type": "code",
   "execution_count": 68,
   "metadata": {},
   "outputs": [
    {
     "name": "stdout",
     "output_type": "stream",
     "text": [
      "\n",
      "**** Test roc_auc_score for C = 0.500000 is 0.719229 ****\n"
     ]
    }
   ],
   "source": [
    "# determining optimal C\n",
    "optimal_C = gscv.best_params_['C']\n",
    "\n",
    "#training the model using the optimal C\n",
    "lrf = LogisticRegression(penalty='l1',C=optimal_C)\n",
    "lrf.fit(x_train_w2v,y_train_w2v)\n",
    "\n",
    "#predicting the class label using test data \n",
    "y_pred = lrf.predict(x_test_w2v)\n",
    "\n",
    "#determining the Test roc_auc_score for optimal C\n",
    "auc_score = roc_auc_score(y_test_w2v, y_pred)\n",
    "print('\\n**** Test roc_auc_score for C = %f is %f ****' % (optimal_C,auc_score))"
   ]
  },
  {
   "cell_type": "markdown",
   "metadata": {},
   "source": [
    "**AUC vs C plot**"
   ]
  },
  {
   "cell_type": "code",
   "execution_count": 69,
   "metadata": {},
   "outputs": [
    {
     "name": "stdout",
     "output_type": "stream",
     "text": [
      "[6.907755278982137, 6.214608098422191, 4.605170185988092, 3.912023005428146, 2.302585092994046, 1.6094379124341003, 0.0, -0.6931471805599453, -2.3025850929940455, -2.995732273553991, -4.605170185988091, -5.298317366548036, -6.907755278982137, -7.600902459542082, -9.210340371976182]\n"
     ]
    },
    {
     "data": {
      "image/png": "[encoded data removed]",
      "text/plain": [
       "<Figure size 432x288 with 1 Axes>"
      ]
     },
     "metadata": {},
     "output_type": "display_data"
    }
   ],
   "source": [
    "# plotting AUC vs C on Train & Validation dataset\n",
    "log_alpha=[math.log(x) for x in C_values]\n",
    "print(log_alpha)\n",
    "plt.xlim(-12,10)\n",
    "plt.ylim(0.0,1.0)\n",
    "plt.xlabel(r\"C\",fontsize=15)\n",
    "plt.ylabel('AUC')\n",
    "plt.title(r'AUC v/s C')\n",
    "plt.plot(log_alpha, gscv.cv_results_['mean_test_score'], 'r', label='CV AUC')\n",
    "plt.plot(log_alpha, gscv.cv_results_['mean_train_score'], 'b', label='Train AUC')\n",
    "plt.legend(loc='lower right')\n",
    "plt.show()"
   ]
  },
  {
   "cell_type": "code",
   "execution_count": 70,
   "metadata": {},
   "outputs": [
    {
     "name": "stdout",
     "output_type": "stream",
     "text": [
      "[[ 3201  1964]\n",
      " [  801 24034]]\n"
     ]
    },
    {
     "data": {
      "text/plain": [
       "<matplotlib.axes._subplots.AxesSubplot at 0xa9c0438a20>"
      ]
     },
     "execution_count": 70,
     "metadata": {},
     "output_type": "execute_result"
    },
    {
     "data": {
      "image/png": "[encoded data removed]",
      "text/plain": [
       "<Figure size 432x288 with 2 Axes>"
      ]
     },
     "metadata": {},
     "output_type": "display_data"
    }
   ],
   "source": [
    "#plotting confusion matrix as heatmap\n",
    "cm = confusion_matrix(y_test_w2v, pred)\n",
    "print(cm)\n",
    "df_cm = pd.DataFrame(cm, range(2),range(2))\n",
    "sns.set(font_scale=1.4)\n",
    "sns.heatmap(df_cm, annot=True,annot_kws={\"size\": 16}, fmt='g')"
   ]
  },
  {
   "cell_type": "markdown",
   "metadata": {},
   "source": [
    "### Applying Logistic Regression with L2 regularization on AVG W2V"
   ]
  },
  {
   "cell_type": "code",
   "execution_count": 71,
   "metadata": {},
   "outputs": [
    {
     "name": "stdout",
     "output_type": "stream",
     "text": [
      "Best C Value:  {'C': 0.05}\n",
      "Best ROC AUC Score: 0.90407\n"
     ]
    }
   ],
   "source": [
    "# initializing Logistic Regression model with L2 regularisation\n",
    "lr = LogisticRegression(penalty='l2')\n",
    "\n",
    "# using GridSearchCV to find the optimal value of C\n",
    "# using roc_auc as the scoring parameter & applying 10 fold CV\n",
    "gscv = GridSearchCV(lr,param_grid,scoring='roc_auc',cv=10,return_train_score=True)\n",
    "\n",
    "gscv.fit(x_train_w2v,y_train_w2v)\n",
    "\n",
    "print(\"Best C Value: \",gscv.best_params_)\n",
    "print(\"Best ROC AUC Score: %.5f\"%(gscv.best_score_))"
   ]
  },
  {
   "cell_type": "code",
   "execution_count": 72,
   "metadata": {},
   "outputs": [
    {
     "name": "stdout",
     "output_type": "stream",
     "text": [
      "\n",
      "**** Test roc_auc_score for C = 0.050000 is 0.715671 ****\n"
     ]
    }
   ],
   "source": [
    "# determining optimal C\n",
    "optimal_C = gscv.best_params_['C']\n",
    "\n",
    "#training the model using the optimal C\n",
    "lrf = LogisticRegression(penalty='l2',C=optimal_C)\n",
    "lrf.fit(x_train_w2v,y_train_w2v)\n",
    "\n",
    "#predicting the class label using test data \n",
    "y_pred = lrf.predict(x_test_w2v)\n",
    "\n",
    "#determining the Test roc_auc_score for optimal C\n",
    "auc_score = roc_auc_score(y_test_w2v, y_pred)\n",
    "print('\\n**** Test roc_auc_score for C = %f is %f ****' % (optimal_C,auc_score))"
   ]
  },
  {
   "cell_type": "markdown",
   "metadata": {},
   "source": [
    "**AUC vs C plot**"
   ]
  },
  {
   "cell_type": "code",
   "execution_count": 73,
   "metadata": {},
   "outputs": [
    {
     "name": "stdout",
     "output_type": "stream",
     "text": [
      "[6.907755278982137, 6.214608098422191, 4.605170185988092, 3.912023005428146, 2.302585092994046, 1.6094379124341003, 0.0, -0.6931471805599453, -2.3025850929940455, -2.995732273553991, -4.605170185988091, -5.298317366548036, -6.907755278982137, -7.600902459542082, -9.210340371976182]\n"
     ]
    },
    {
     "data": {
      "image/png": "[encoded data removed]",
      "text/plain": [
       "<Figure size 432x288 with 1 Axes>"
      ]
     },
     "metadata": {},
     "output_type": "display_data"
    }
   ],
   "source": [
    "# plotting AUC vs C on Train & Validation dataset\n",
    "log_alpha=[math.log(x) for x in C_values]\n",
    "print(log_alpha)\n",
    "plt.xlim(-12,10)\n",
    "plt.ylim(0.0,1.0)\n",
    "plt.xlabel(r\"C\",fontsize=15)\n",
    "plt.ylabel('AUC')\n",
    "plt.title(r'AUC v/s C')\n",
    "plt.plot(log_alpha, gscv.cv_results_['mean_test_score'], 'r', label='CV AUC')\n",
    "plt.plot(log_alpha, gscv.cv_results_['mean_train_score'], 'b', label='Train AUC')\n",
    "plt.legend(loc='lower right')\n",
    "plt.show()"
   ]
  },
  {
   "cell_type": "code",
   "execution_count": 74,
   "metadata": {},
   "outputs": [
    {
     "name": "stdout",
     "output_type": "stream",
     "text": [
      "[[ 3201  1964]\n",
      " [  801 24034]]\n"
     ]
    },
    {
     "data": {
      "text/plain": [
       "<matplotlib.axes._subplots.AxesSubplot at 0xa9c0f46358>"
      ]
     },
     "execution_count": 74,
     "metadata": {},
     "output_type": "execute_result"
    },
    {
     "data": {
      "image/png": "[encoded data removed]",
      "text/plain": [
       "<Figure size 432x288 with 2 Axes>"
      ]
     },
     "metadata": {},
     "output_type": "display_data"
    }
   ],
   "source": [
    "#plotting confusion matrix as heatmap\n",
    "cm = confusion_matrix(y_test_w2v, pred)\n",
    "print(cm)\n",
    "df_cm = pd.DataFrame(cm, range(2),range(2))\n",
    "sns.set(font_scale=1.4)\n",
    "sns.heatmap(df_cm, annot=True,annot_kws={\"size\": 16}, fmt='g')"
   ]
  },
  {
   "cell_type": "markdown",
   "metadata": {},
   "source": [
    "### Logistic Regression on TFIDF W2V"
   ]
  },
  {
   "cell_type": "markdown",
   "metadata": {},
   "source": [
    "### Applying Logistic Regression with L1 regularization on TFIDF W2V"
   ]
  },
  {
   "cell_type": "code",
   "execution_count": 82,
   "metadata": {},
   "outputs": [
    {
     "name": "stdout",
     "output_type": "stream",
     "text": [
      "Best C Value:  {'C': 0.1}\n",
      "Best ROC AUC Score: 0.87825\n"
     ]
    }
   ],
   "source": [
    "# initializing Logistic Regression model with L1 regularisation\n",
    "lr = LogisticRegression(penalty='l1')\n",
    "\n",
    "# using GridSearchCV to find the optimal value of C\n",
    "# using roc_auc as the scoring parameter & applying 10 fold CV\n",
    "gscv = GridSearchCV(lr,param_grid,scoring='roc_auc',cv=10,return_train_score=True)\n",
    "\n",
    "gscv.fit(x_train_tfw2v,y_train_tfw2v)\n",
    "\n",
    "print(\"Best C Value: \",gscv.best_params_)\n",
    "print(\"Best ROC AUC Score: %.5f\"%(gscv.best_score_))"
   ]
  },
  {
   "cell_type": "code",
   "execution_count": 83,
   "metadata": {},
   "outputs": [
    {
     "name": "stdout",
     "output_type": "stream",
     "text": [
      "\n",
      "**** Test roc_auc_score for C = 0.100000 is 0.666148 ****\n"
     ]
    }
   ],
   "source": [
    "# determining optimal C\n",
    "optimal_C = gscv.best_params_['C']\n",
    "\n",
    "#training the model using the optimal C\n",
    "lrf = LogisticRegression(penalty='l1',C=optimal_C)\n",
    "lrf.fit(x_train_tfw2v,y_train_tfw2v)\n",
    "\n",
    "#predicting the class label using test data \n",
    "y_pred = lrf.predict(x_test_tfw2v)\n",
    "\n",
    "#determining the Test roc_auc_score for optimal C\n",
    "auc_score = roc_auc_score(y_test_tfw2v, y_pred)\n",
    "print('\\n**** Test roc_auc_score for C = %f is %f ****' % (optimal_C,auc_score))"
   ]
  },
  {
   "cell_type": "markdown",
   "metadata": {},
   "source": [
    "**AUC vs C plot**"
   ]
  },
  {
   "cell_type": "code",
   "execution_count": 84,
   "metadata": {},
   "outputs": [
    {
     "name": "stdout",
     "output_type": "stream",
     "text": [
      "[6.907755278982137, 6.214608098422191, 4.605170185988092, 3.912023005428146, 2.302585092994046, 1.6094379124341003, 0.0, -0.6931471805599453, -2.3025850929940455, -2.995732273553991, -4.605170185988091, -5.298317366548036, -6.907755278982137, -7.600902459542082, -9.210340371976182]\n"
     ]
    },
    {
     "data": {
      "image/png": "[encoded data removed]",
      "text/plain": [
       "<Figure size 432x288 with 1 Axes>"
      ]
     },
     "metadata": {},
     "output_type": "display_data"
    }
   ],
   "source": [
    "# plotting AUC vs C on Train & Validation dataset\n",
    "log_alpha=[math.log(x) for x in C_values]\n",
    "print(log_alpha)\n",
    "plt.xlim(-12,10)\n",
    "plt.ylim(0.0,1.0)\n",
    "plt.xlabel(r\"C\",fontsize=15)\n",
    "plt.ylabel('AUC')\n",
    "plt.title(r'AUC v/s C')\n",
    "plt.plot(log_alpha, gscv.cv_results_['mean_test_score'], 'r', label='CV AUC')\n",
    "plt.plot(log_alpha, gscv.cv_results_['mean_train_score'], 'b', label='Train AUC')\n",
    "plt.legend(loc='lower right')\n",
    "plt.show()"
   ]
  },
  {
   "cell_type": "code",
   "execution_count": 85,
   "metadata": {},
   "outputs": [
    {
     "name": "stdout",
     "output_type": "stream",
     "text": [
      "[[ 3201  1964]\n",
      " [  801 24034]]\n"
     ]
    },
    {
     "data": {
      "text/plain": [
       "<matplotlib.axes._subplots.AxesSubplot at 0xa9c10187b8>"
      ]
     },
     "execution_count": 85,
     "metadata": {},
     "output_type": "execute_result"
    },
    {
     "data": {
      "image/png": "[encoded data removed]",
      "text/plain": [
       "<Figure size 432x288 with 2 Axes>"
      ]
     },
     "metadata": {},
     "output_type": "display_data"
    }
   ],
   "source": [
    "#plotting confusion matrix as heatmap\n",
    "cm = confusion_matrix(y_test_tfw2v, pred)\n",
    "print(cm)\n",
    "df_cm = pd.DataFrame(cm, range(2),range(2))\n",
    "sns.set(font_scale=1.4)\n",
    "sns.heatmap(df_cm, annot=True,annot_kws={\"size\": 16}, fmt='g')"
   ]
  },
  {
   "cell_type": "markdown",
   "metadata": {},
   "source": [
    "### Applying Logistic Regression with L2 regularization on TFIDF W2V"
   ]
  },
  {
   "cell_type": "code",
   "execution_count": 86,
   "metadata": {},
   "outputs": [
    {
     "name": "stdout",
     "output_type": "stream",
     "text": [
      "Best C Value:  {'C': 0.05}\n",
      "Best ROC AUC Score: 0.87827\n"
     ]
    }
   ],
   "source": [
    "# initializing Logistic Regression model with L2 regularisation\n",
    "lr = LogisticRegression(penalty='l2')\n",
    "\n",
    "# using GridSearchCV to find the optimal value of C\n",
    "# using roc_auc as the scoring parameter & applying 10 fold CV\n",
    "gscv = GridSearchCV(lr,param_grid,scoring='roc_auc',cv=10,return_train_score=True)\n",
    "\n",
    "gscv.fit(x_train_tfw2v,y_train_tfw2v)\n",
    "\n",
    "print(\"Best C Value: \",gscv.best_params_)\n",
    "print(\"Best ROC AUC Score: %.5f\"%(gscv.best_score_))"
   ]
  },
  {
   "cell_type": "code",
   "execution_count": 87,
   "metadata": {},
   "outputs": [
    {
     "name": "stdout",
     "output_type": "stream",
     "text": [
      "\n",
      "**** Test roc_auc_score for C = 0.050000 is 0.664893 ****\n"
     ]
    }
   ],
   "source": [
    "# determining optimal C\n",
    "optimal_C = gscv.best_params_['C']\n",
    "\n",
    "#training the model using the optimal C\n",
    "lrf = LogisticRegression(penalty='l2',C=optimal_C)\n",
    "lrf.fit(x_train_tfw2v,y_train_tfw2v)\n",
    "\n",
    "#predicting the class label using test data \n",
    "y_pred = lrf.predict(x_test_tfw2v)\n",
    "\n",
    "#determining the Test roc_auc_score for optimal C\n",
    "auc_score = roc_auc_score(y_test_tfw2v, y_pred)\n",
    "print('\\n**** Test roc_auc_score for C = %f is %f ****' % (optimal_C,auc_score))"
   ]
  },
  {
   "cell_type": "markdown",
   "metadata": {},
   "source": [
    "**AUC vs C plot**"
   ]
  },
  {
   "cell_type": "code",
   "execution_count": 88,
   "metadata": {},
   "outputs": [
    {
     "name": "stdout",
     "output_type": "stream",
     "text": [
      "[6.907755278982137, 6.214608098422191, 4.605170185988092, 3.912023005428146, 2.302585092994046, 1.6094379124341003, 0.0, -0.6931471805599453, -2.3025850929940455, -2.995732273553991, -4.605170185988091, -5.298317366548036, -6.907755278982137, -7.600902459542082, -9.210340371976182]\n"
     ]
    },
    {
     "data": {
      "image/png": "[encoded data removed]",
      "text/plain": [
       "<Figure size 432x288 with 1 Axes>"
      ]
     },
     "metadata": {},
     "output_type": "display_data"
    }
   ],
   "source": [
    "# plotting AUC vs C on Train & Validation dataset\n",
    "log_alpha=[math.log(x) for x in C_values]\n",
    "print(log_alpha)\n",
    "plt.xlim(-12,10)\n",
    "plt.ylim(0.0,1.0)\n",
    "plt.xlabel(r\"C\",fontsize=15)\n",
    "plt.ylabel('AUC')\n",
    "plt.title(r'AUC v/s C')\n",
    "plt.plot(log_alpha, gscv.cv_results_['mean_test_score'], 'r', label='CV AUC')\n",
    "plt.plot(log_alpha, gscv.cv_results_['mean_train_score'], 'b', label='Train AUC')\n",
    "plt.legend(loc='lower right')\n",
    "plt.show()"
   ]
  },
  {
   "cell_type": "code",
   "execution_count": 89,
   "metadata": {},
   "outputs": [
    {
     "name": "stdout",
     "output_type": "stream",
     "text": [
      "[[ 3201  1964]\n",
      " [  801 24034]]\n"
     ]
    },
    {
     "data": {
      "text/plain": [
       "<matplotlib.axes._subplots.AxesSubplot at 0xa9c11ef550>"
      ]
     },
     "execution_count": 89,
     "metadata": {},
     "output_type": "execute_result"
    },
    {
     "data": {
      "image/png": "[encoded data removed]",
      "text/plain": [
       "<Figure size 432x288 with 2 Axes>"
      ]
     },
     "metadata": {},
     "output_type": "display_data"
    }
   ],
   "source": [
    "#plotting confusion matrix as heatmap\n",
    "cm = confusion_matrix(y_test_tfw2v, pred)\n",
    "print(cm)\n",
    "df_cm = pd.DataFrame(cm, range(2),range(2))\n",
    "sns.set(font_scale=1.4)\n",
    "sns.heatmap(df_cm, annot=True,annot_kws={\"size\": 16}, fmt='g')"
   ]
  },
  {
   "cell_type": "markdown",
   "metadata": {},
   "source": [
    "# Conclusion"
   ]
  },
  {
   "cell_type": "code",
   "execution_count": 45,
   "metadata": {},
   "outputs": [
    {
     "name": "stdout",
     "output_type": "stream",
     "text": [
      "+---------------+---------+------+----------+\n",
      "|   Vectorizer  | Penalty |  C   |   AUC    |\n",
      "+---------------+---------+------+----------+\n",
      "|      BOW      |    L1   | 0.50 | 0.794813 |\n",
      "|      BOW      |    L2   | 0.10 | 0.774518 |\n",
      "|     Tfidf     |    L1   | 1.00 | 0.793112 |\n",
      "|     Tfidf     |    L2   | 1.00 | 0.776427 |\n",
      "| Avg. Word2Vec |    L1   | 0.50 | 0.719229 |\n",
      "| Avg. Word2Vec |    L2   | 0.05 | 0.715671 |\n",
      "|   Tfidf W2V   |    L1   | 0.10 | 0.666148 |\n",
      "|   Tfidf W2V   |    L2   | 0.05 | 0.664893 |\n",
      "+---------------+---------+------+----------+\n"
     ]
    }
   ],
   "source": [
    "# Summarizing the observations\n",
    "x=PrettyTable()\n",
    "x.field_names = ['Vectorizer','Penalty','C','AUC']\n",
    "x.add_row(['BOW','L1','0.50','0.794813'])\n",
    "x.add_row(['BOW','L2','0.10','0.774518'])\n",
    "x.add_row(['Tfidf','L1','1.00','0.793112'])\n",
    "x.add_row(['Tfidf','L2','1.00','0.776427'])\n",
    "x.add_row(['Avg. Word2Vec','L1','0.50','0.719229'])\n",
    "x.add_row(['Avg. Word2Vec','L2','0.05','0.715671'])\n",
    "x.add_row(['Tfidf W2V','L1','0.10','0.666148'])\n",
    "x.add_row(['Tfidf W2V','L2','0.05','0.664893'])\n",
    "print(x)"
   ]
  },
  {
   "cell_type": "markdown",
   "metadata": {},
   "source": [
    "Conclusions:-\n",
    "1. From the above table, the performance of Logistic Regression using different vectorizers can be summed as follows -\n",
    "   BoW > TFIDF > Avg. Word2Vec > TFIDF-W2V, with performance of BoW being the greatest in terms of AUC scores.\n",
    "2. As proved in theory that L1 regularization increases sparsity, same was observed when BoW was implemented with L1    regularization.\n",
    "3. Also, it was proved that the features were multicollinear when Pertubation Test was performed."
   ]
  }
 ],
 "metadata": {
  "kernelspec": {
   "display_name": "Python 3",
   "language": "python",
   "name": "python3"
  },
  "language_info": {
   "codemirror_mode": {
    "name": "ipython",
    "version": 3
   },
   "file_extension": ".py",
   "mimetype": "text/x-python",
   "name": "python",
   "nbconvert_exporter": "python",
   "pygments_lexer": "ipython3",
   "version": "3.7.1"
  }
 },
 "nbformat": 4,
 "nbformat_minor": 2
}
