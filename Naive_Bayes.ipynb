{
 "cells": [
  {
   "cell_type": "markdown",
   "metadata": {},
   "source": [
    "# Part 4 - Naive Bayes"
   ]
  },
  {
   "cell_type": "markdown",
   "metadata": {},
   "source": [
    "#### By Aziz Presswala"
   ]
  },
  {
   "cell_type": "code",
   "execution_count": 1,
   "metadata": {},
   "outputs": [],
   "source": [
    "#importing libraries\n",
    "import math\n",
    "import numpy as np\n",
    "import pandas as pd\n",
    "import seaborn as sn\n",
    "import sqlite3\n",
    "import matplotlib.pyplot as plt\n",
    "from prettytable import PrettyTable\n",
    "\n",
    "from sklearn.feature_extraction.text import CountVectorizer\n",
    "from sklearn.feature_extraction.text import TfidfTransformer\n",
    "from sklearn.feature_extraction.text import TfidfVectorizer\n",
    "\n",
    "from sklearn.model_selection import GridSearchCV\n",
    "from sklearn.naive_bayes import MultinomialNB\n",
    "from sklearn.metrics import confusion_matrix\n",
    "from sklearn.metrics import roc_auc_score, auc, roc_curve\n",
    "from sklearn import model_selection"
   ]
  },
  {
   "cell_type": "code",
   "execution_count": 2,
   "metadata": {},
   "outputs": [
    {
     "data": {
      "text/plain": [
       "(364171, 12)"
      ]
     },
     "execution_count": 2,
     "metadata": {},
     "output_type": "execute_result"
    }
   ],
   "source": [
    "# Using the CleanedText column saved in final.sqlite db\n",
    "con = sqlite3.connect('final.sqlite')\n",
    "filtered_data = pd.read_sql_query(\"SELECT * FROM Reviews\", con)\n",
    "filtered_data.shape"
   ]
  },
  {
   "cell_type": "code",
   "execution_count": 3,
   "metadata": {},
   "outputs": [],
   "source": [
    "# replacing all the 'positive' values of the Score attribute with 1\n",
    "filtered_data['Score']=filtered_data['Score'].replace('positive',1)"
   ]
  },
  {
   "cell_type": "code",
   "execution_count": 4,
   "metadata": {},
   "outputs": [],
   "source": [
    "# replacing all the 'neagtive' values of the Score attribute with 0\n",
    "filtered_data['Score']=filtered_data['Score'].replace('negative',0)"
   ]
  },
  {
   "cell_type": "code",
   "execution_count": 5,
   "metadata": {},
   "outputs": [],
   "source": [
    "#randomly selecting 100k points from the dataset\n",
    "df=filtered_data.sample(100000)"
   ]
  },
  {
   "cell_type": "code",
   "execution_count": 6,
   "metadata": {},
   "outputs": [],
   "source": [
    "#sort the dataset by timestamp\n",
    "df = df.sort_values('Time')\n",
    "#splitting the dataset into train(70%) & test(30%)\n",
    "train_data = df[0:70000]\n",
    "test_data = df[70000:100000]"
   ]
  },
  {
   "cell_type": "markdown",
   "metadata": {},
   "source": [
    "##  Featurization"
   ]
  },
  {
   "cell_type": "markdown",
   "metadata": {},
   "source": [
    "### BoW"
   ]
  },
  {
   "cell_type": "code",
   "execution_count": 7,
   "metadata": {},
   "outputs": [
    {
     "data": {
      "text/plain": [
       "(70000, 7180)"
      ]
     },
     "execution_count": 7,
     "metadata": {},
     "output_type": "execute_result"
    }
   ],
   "source": [
    "#applying fit transform on train datasset\n",
    "count_vect = CountVectorizer(min_df=10)\n",
    "x_train_bow = count_vect.fit_transform(train_data['CleanedText'].values)\n",
    "x_train_bow.shape"
   ]
  },
  {
   "cell_type": "code",
   "execution_count": 8,
   "metadata": {},
   "outputs": [
    {
     "data": {
      "text/plain": [
       "(30000, 7180)"
      ]
     },
     "execution_count": 8,
     "metadata": {},
     "output_type": "execute_result"
    }
   ],
   "source": [
    "#applying transform on test dataset\n",
    "x_test_bow = count_vect.transform(test_data['CleanedText'].values)\n",
    "x_test_bow.shape"
   ]
  },
  {
   "cell_type": "code",
   "execution_count": 9,
   "metadata": {},
   "outputs": [],
   "source": [
    "y_train_bow = train_data['Score']\n",
    "y_test_bow = test_data['Score']"
   ]
  },
  {
   "cell_type": "markdown",
   "metadata": {},
   "source": [
    "### TF-IDF"
   ]
  },
  {
   "cell_type": "code",
   "execution_count": 10,
   "metadata": {},
   "outputs": [
    {
     "data": {
      "text/plain": [
       "(70000, 7180)"
      ]
     },
     "execution_count": 10,
     "metadata": {},
     "output_type": "execute_result"
    }
   ],
   "source": [
    "#applying fit transform on train datasset\n",
    "tf_idf_vect = TfidfVectorizer(min_df=10)\n",
    "x_train_tfidf = tf_idf_vect.fit_transform(train_data['CleanedText'].values)\n",
    "x_train_tfidf.shape"
   ]
  },
  {
   "cell_type": "code",
   "execution_count": 11,
   "metadata": {},
   "outputs": [
    {
     "data": {
      "text/plain": [
       "(30000, 7180)"
      ]
     },
     "execution_count": 11,
     "metadata": {},
     "output_type": "execute_result"
    }
   ],
   "source": [
    "#applying transform on test dataset\n",
    "x_test_tfidf = tf_idf_vect.transform(test_data['CleanedText'].values)\n",
    "x_test_tfidf.shape"
   ]
  },
  {
   "cell_type": "code",
   "execution_count": 12,
   "metadata": {},
   "outputs": [],
   "source": [
    "y_train_tfidf = train_data['Score']\n",
    "y_test_tfidf = test_data['Score']"
   ]
  },
  {
   "cell_type": "markdown",
   "metadata": {},
   "source": [
    "# Applying Multinomial Naive Bayes"
   ]
  },
  {
   "cell_type": "markdown",
   "metadata": {},
   "source": [
    "## Applying Naive Bayes on BOW"
   ]
  },
  {
   "cell_type": "markdown",
   "metadata": {},
   "source": [
    "**GridSearchCV**"
   ]
  },
  {
   "cell_type": "code",
   "execution_count": 13,
   "metadata": {},
   "outputs": [
    {
     "name": "stdout",
     "output_type": "stream",
     "text": [
      "Best Alpha Value:  {'alpha': 1}\n",
      "Best ROC AUC Score: 0.91149\n"
     ]
    }
   ],
   "source": [
    "# initializing Mutinomial Naive Bayes model\n",
    "nb = MultinomialNB()\n",
    "\n",
    "# alpha values we need to try on classifier\n",
    "alpha_values = [10**-5,10**-4,10**-3,10**-2,10**-1,10**0,10**1,10**2,10**3,10**4]\n",
    "param_grid = {'alpha':[10**-5,10**-4,10**-3,10**-2,10**-1,10**0,10**1,10**2,10**3,10**4]}\n",
    "\n",
    "# using GridSearchCV to find the optimal value of alpha\n",
    "# using roc_auc as the scoring parameter & applying 10 fold CV\n",
    "gscv = GridSearchCV(nb,param_grid,scoring='roc_auc',cv=10,return_train_score=True)\n",
    "\n",
    "gscv.fit(x_train_bow,y_train_bow)\n",
    "\n",
    "print(\"Best Alpha Value: \",gscv.best_params_)\n",
    "print(\"Best ROC AUC Score: %.5f\"%(gscv.best_score_))"
   ]
  },
  {
   "cell_type": "code",
   "execution_count": 14,
   "metadata": {},
   "outputs": [
    {
     "name": "stdout",
     "output_type": "stream",
     "text": [
      "\n",
      "**** Test roc_auc_score for alpha = 1.000000 is 0.912246 ****\n"
     ]
    }
   ],
   "source": [
    "# determining optimal alpha\n",
    "optimal_alpha = gscv.best_params_['alpha']\n",
    "\n",
    "#training the model using the optimal alpha\n",
    "nbf = MultinomialNB(alpha=optimal_alpha)\n",
    "nbf.fit(x_train_bow,y_train_bow)\n",
    "\n",
    "#predicting the class label using test data \n",
    "y_pred = nbf.predict_proba(x_test_bow)[:,1]\n",
    "\n",
    "#determining the Test roc_auc_score for optimal alpha\n",
    "auc_score = roc_auc_score(y_test_bow, y_pred)\n",
    "print('\\n**** Test roc_auc_score for alpha = %f is %f ****' % (optimal_alpha,auc_score))"
   ]
  },
  {
   "cell_type": "markdown",
   "metadata": {},
   "source": [
    "**AUC vs alpha plot**"
   ]
  },
  {
   "cell_type": "code",
   "execution_count": 15,
   "metadata": {},
   "outputs": [
    {
     "name": "stdout",
     "output_type": "stream",
     "text": [
      "[-11.512925464970229, -9.210340371976182, -6.907755278982137, -4.605170185988091, -2.3025850929940455, 0.0, 2.302585092994046, 4.605170185988092, 6.907755278982137, 9.210340371976184]\n"
     ]
    },
    {
     "data": {
      "image/png": "[encoded data removed]",
      "text/plain": [
       "<Figure size 432x288 with 1 Axes>"
      ]
     },
     "metadata": {
      "needs_background": "light"
     },
     "output_type": "display_data"
    }
   ],
   "source": [
    "# plotting AUC vs alpha on Train & Validation dataset\n",
    "log_alpha=[math.log(x) for x in alpha_values]\n",
    "print(log_alpha)\n",
    "plt.xlim(-12,10)\n",
    "plt.ylim(0.0,1.0)\n",
    "plt.xlabel(r\"$\\alpha$\",fontsize=15)\n",
    "plt.ylabel('AUC')\n",
    "plt.title(r'AUC v/s $\\alpha$')\n",
    "plt.plot(log_alpha, gscv.cv_results_['mean_test_score'], 'r', label='CV AUC')\n",
    "plt.plot(log_alpha, gscv.cv_results_['mean_train_score'], 'b', label='Train AUC')\n",
    "plt.legend(loc='lower right')\n",
    "plt.show()"
   ]
  },
  {
   "cell_type": "markdown",
   "metadata": {},
   "source": [
    "**Confusion Matrix**"
   ]
  },
  {
   "cell_type": "code",
   "execution_count": 16,
   "metadata": {},
   "outputs": [
    {
     "name": "stdout",
     "output_type": "stream",
     "text": [
      "[[ 3681  1537]\n",
      " [ 1811 22971]]\n"
     ]
    },
    {
     "data": {
      "text/plain": [
       "<matplotlib.axes._subplots.AxesSubplot at 0x70ca13fb38>"
      ]
     },
     "execution_count": 16,
     "metadata": {},
     "output_type": "execute_result"
    },
    {
     "data": {
      "image/png": "[encoded data removed]",
      "text/plain": [
       "<Figure size 432x288 with 2 Axes>"
      ]
     },
     "metadata": {},
     "output_type": "display_data"
    }
   ],
   "source": [
    "#plotting confusion matrix as heatmap\n",
    "pred = nbf.predict(x_test_bow)\n",
    "cm = confusion_matrix(y_test_bow, pred)\n",
    "print(cm)\n",
    "df_cm = pd.DataFrame(cm, range(2),range(2))\n",
    "sn.set(font_scale=1.4)\n",
    "sn.heatmap(df_cm, annot=True,annot_kws={\"size\": 16}, fmt='g')"
   ]
  },
  {
   "cell_type": "markdown",
   "metadata": {},
   "source": [
    "### Top 10 important features of positive & negative class"
   ]
  },
  {
   "cell_type": "code",
   "execution_count": 21,
   "metadata": {},
   "outputs": [
    {
     "name": "stdout",
     "output_type": "stream",
     "text": [
      "[3600 6272 2712 2389 3688 2774 6748 4342 6288 4872] [6272 3600 4872 4342 2389 7071 6550 6748 2712 1224]\n",
      "\t\tPositive\t\t\t\tNegative\n",
      "__________________________________________________________________________________________________\n",
      "\t2389.0000\tabil           \t\t\t\t1224.0000\tabsolutley     \n",
      "\t2712.0000\tabdomin        \t\t\t\t2389.0000\tabl            \n",
      "\t2774.0000\tabroad         \t\t\t\t2712.0000\tabsolut        \n",
      "\t3600.0000\taback          \t\t\t\t3600.0000\tabandon        \n",
      "\t3688.0000\tabl            \t\t\t\t4342.0000\tabil           \n",
      "\t4342.0000\tabsent         \t\t\t\t4872.0000\tabdomin        \n",
      "\t4872.0000\tabsolutley     \t\t\t\t6272.0000\taback          \n",
      "\t6272.0000\tabandon        \t\t\t\t6550.0000\tabsenc         \n",
      "\t6288.0000\tabsolut        \t\t\t\t6748.0000\tabsent         \n",
      "\t6748.0000\tabsenc         \t\t\t\t7071.0000\tabroad         \n"
     ]
    }
   ],
   "source": [
    "feature_names = count_vect.get_feature_names()\n",
    "max_ind_pos=np.argsort((nbf.feature_log_prob_)[1])[::-1][0:10]\n",
    "max_ind_neg=np.argsort((nbf.feature_log_prob_)[0])[::-1][0:10]\n",
    "print(max_ind_pos,max_ind_neg)\n",
    "coefs_with_fns1 = sorted(zip(max_ind_pos, feature_names))\n",
    "coefs_with_fns2 = sorted(zip(max_ind_neg, feature_names))\n",
    "top = zip(coefs_with_fns1, coefs_with_fns2)\n",
    "print(\"\\t\\tPositive\\t\\t\\t\\tNegative\")\n",
    "print(\"__________________________________________________________________________________________________\")\n",
    "for (coef_1, fn_1), (coef_2, fn_2) in top:\n",
    "    print(\"\\t%.4f\\t%-15s\\t\\t\\t\\t%.4f\\t%-15s\" % (coef_1, fn_1, coef_2, fn_2))"
   ]
  },
  {
   "cell_type": "code",
   "execution_count": 51,
   "metadata": {
    "scrolled": true
   },
   "outputs": [
    {
     "name": "stdout",
     "output_type": "stream",
     "text": [
      "\t\tPositive\t\t\t\tNegative\n",
      "__________________________________________________________________________________________________\n",
      "\t-4.4269\tlike           \t\t\t\t-13.9164\tmisrepresent   \n",
      "\t-4.4929\ttast           \t\t\t\t-13.5109\tfraud          \n",
      "\t-4.6308\tgood           \t\t\t\t-13.2232\temptor         \n",
      "\t-4.6471\tflavor         \t\t\t\t-13.2232\tletdown        \n",
      "\t-4.6778\tlove           \t\t\t\t-13.2232\tpawn           \n",
      "\t-4.7085\tgreat          \t\t\t\t-13.2232\trubbish        \n",
      "\t-4.7177\tuse            \t\t\t\t-13.2232\tunidentifi     \n",
      "\t-4.7642\tone            \t\t\t\t-13.2232\tunsaf          \n",
      "\t-4.8520\ttea            \t\t\t\t-13.0001\tacesulfam      \n",
      "\t-4.8555\tproduct        \t\t\t\t-13.0001\theed           \n"
     ]
    }
   ],
   "source": [
    "feature_names = count_vect.get_feature_names()\n",
    "coefs_with_fns = sorted(zip(nbf.coef_[0], feature_names),reverse=True)\n",
    "top = zip(coefs_with_fns[:10], coefs_with_fns[:-(10 + 1):-1])\n",
    "print(\"\\t\\tPositive\\t\\t\\t\\tNegative\")\n",
    "print(\"__________________________________________________________________________________________________\")\n",
    "for (coef_1, fn_1), (coef_2, fn_2) in top:\n",
    "    print(\"\\t%.4f\\t%-15s\\t\\t\\t\\t%.4f\\t%-15s\" % (coef_1, fn_1, coef_2, fn_2))"
   ]
  },
  {
   "cell_type": "markdown",
   "metadata": {},
   "source": [
    "**ROC Curve**"
   ]
  },
  {
   "cell_type": "code",
   "execution_count": 52,
   "metadata": {},
   "outputs": [
    {
     "data": {
      "image/png": "[encoded data removed]",
      "text/plain": [
       "<Figure size 432x288 with 1 Axes>"
      ]
     },
     "metadata": {},
     "output_type": "display_data"
    }
   ],
   "source": [
    "# Plotting roc curve on Train Data\n",
    "prob_train = nbf.predict_proba(x_train_bow)[:,1]\n",
    "fpr, tpr, threshold = roc_curve(y_train_bow, prob_train)\n",
    "plt.plot(fpr, tpr, 'b', label='Train')\n",
    "\n",
    "# Plotting roc curve on Test Data\n",
    "prob_test = nbf.predict_proba(x_test_bow)[:,1]\n",
    "fpr, tpr, threshold = roc_curve(y_test_bow, prob_test)\n",
    "plt.plot(fpr, tpr, 'g', label='Test')\n",
    "\n",
    "plt.title('ROC Curve')\n",
    "plt.plot([0, 1], [0, 1],'r--')\n",
    "plt.xlim([0, 1])\n",
    "plt.ylim([0, 1])\n",
    "plt.legend(loc='lower right')\n",
    "plt.show()"
   ]
  },
  {
   "cell_type": "markdown",
   "metadata": {},
   "source": [
    "## Applying Naive Bayes on TFIDF"
   ]
  },
  {
   "cell_type": "markdown",
   "metadata": {},
   "source": [
    "**GridSearchCV**"
   ]
  },
  {
   "cell_type": "code",
   "execution_count": 53,
   "metadata": {},
   "outputs": [
    {
     "name": "stdout",
     "output_type": "stream",
     "text": [
      "Best Alpha Value:  {'alpha': 0.1}\n",
      "Best ROC AUC Score: 0.92205\n"
     ]
    }
   ],
   "source": [
    "# initializing Mutinomial Naive Bayes model\n",
    "nb = MultinomialNB()\n",
    "\n",
    "# alpha values we need to try on classifier\n",
    "alpha_values = [10**-5,10**-4,10**-3,10**-2,10**-1,10**0,10**1,10**2,10**3,10**4]\n",
    "param_grid = {'alpha':[10**-5,10**-4,10**-3,10**-2,10**-1,10**0,10**1,10**2,10**3,10**4]}\n",
    "\n",
    "# using GridSearchCV to find the optimal value of alpha\n",
    "# using roc_auc as the scoring parameter & applying 10 fold CV\n",
    "gst = GridSearchCV(nb,param_grid,scoring='roc_auc',cv=10,return_train_score=True)\n",
    "\n",
    "gst.fit(x_train_tfidf,y_train_tfidf)\n",
    "\n",
    "print(\"Best Alpha Value: \",gst.best_params_)\n",
    "print(\"Best ROC AUC Score: %.5f\"%(gst.best_score_))"
   ]
  },
  {
   "cell_type": "code",
   "execution_count": 54,
   "metadata": {},
   "outputs": [
    {
     "name": "stdout",
     "output_type": "stream",
     "text": [
      "\n",
      "**** Test roc_auc_score for alpha = 0.100000 is 0.919208 ****\n"
     ]
    }
   ],
   "source": [
    "# determining optimal alpha\n",
    "optimal_alpha = gst.best_params_['alpha']\n",
    "\n",
    "#training the model using the optimal alpha\n",
    "nbf = MultinomialNB(alpha=optimal_alpha)\n",
    "nbf.fit(x_train_tfidf,y_train_tfidf)\n",
    "\n",
    "#predicting the class label using test data \n",
    "y_pred = nbf.predict_proba(x_test_tfidf)[:,1]\n",
    "\n",
    "#determining the Test roc_auc_score for optimal alpha\n",
    "auc_score = roc_auc_score(y_test_tfidf, y_pred)\n",
    "print('\\n**** Test roc_auc_score for alpha = %f is %f ****' % (optimal_alpha,auc_score))"
   ]
  },
  {
   "cell_type": "markdown",
   "metadata": {},
   "source": [
    "**AUC vs alpha plot**"
   ]
  },
  {
   "cell_type": "code",
   "execution_count": 55,
   "metadata": {},
   "outputs": [
    {
     "name": "stdout",
     "output_type": "stream",
     "text": [
      "[-11.512925464970229, -9.210340371976182, -6.907755278982137, -4.605170185988091, -2.3025850929940455, 0.0, 2.302585092994046, 4.605170185988092, 6.907755278982137, 9.210340371976184]\n"
     ]
    },
    {
     "data": {
      "image/png": "[encoded data removed]",
      "text/plain": [
       "<Figure size 432x288 with 1 Axes>"
      ]
     },
     "metadata": {},
     "output_type": "display_data"
    }
   ],
   "source": [
    "# plotting AUC vs alpha on Train & Validation dataset\n",
    "log_alpha=[math.log(x) for x in alpha_values]\n",
    "print(log_alpha)\n",
    "plt.xlim(-12,10)\n",
    "plt.ylim(0.0,1.0)\n",
    "plt.xlabel(r\"$\\alpha$\",fontsize=15)\n",
    "plt.ylabel('AUC')\n",
    "plt.title(r'AUC v/s $\\alpha$')\n",
    "plt.plot(log_alpha, gst.cv_results_['mean_test_score'], 'r', label='CV AUC')\n",
    "plt.plot(log_alpha, gst.cv_results_['mean_train_score'], 'b', label='Train AUC')\n",
    "plt.legend(loc='lower right')\n",
    "plt.show()"
   ]
  },
  {
   "cell_type": "markdown",
   "metadata": {},
   "source": [
    "**Confusion Matrix**"
   ]
  },
  {
   "cell_type": "code",
   "execution_count": 56,
   "metadata": {},
   "outputs": [
    {
     "name": "stdout",
     "output_type": "stream",
     "text": [
      "[[ 1206  3953]\n",
      " [  101 24740]]\n"
     ]
    },
    {
     "data": {
      "text/plain": [
       "<matplotlib.axes._subplots.AxesSubplot at 0x51267d7898>"
      ]
     },
     "execution_count": 56,
     "metadata": {},
     "output_type": "execute_result"
    },
    {
     "data": {
      "image/png": "[encoded data removed]",
      "text/plain": [
       "<Figure size 432x288 with 2 Axes>"
      ]
     },
     "metadata": {},
     "output_type": "display_data"
    }
   ],
   "source": [
    "#plotting confusion matrix as heatmap\n",
    "pred = nbf.predict(x_test_tfidf)\n",
    "cm = confusion_matrix(y_test_tfidf, pred)\n",
    "print(cm)\n",
    "df_cm = pd.DataFrame(cm, range(2),range(2))\n",
    "sn.set(font_scale=1.4)\n",
    "sn.heatmap(df_cm, annot=True,annot_kws={\"size\": 16}, fmt='g')"
   ]
  },
  {
   "cell_type": "markdown",
   "metadata": {},
   "source": [
    "### Top 10 important features of positive & negative class"
   ]
  },
  {
   "cell_type": "code",
   "execution_count": 57,
   "metadata": {},
   "outputs": [
    {
     "name": "stdout",
     "output_type": "stream",
     "text": [
      "\t\tPositive\t\t\t\tNegative\n",
      "__________________________________________________________________________________________________\n",
      "\t-5.0301\tgreat          \t\t\t\t-14.1393\tmisrepresent   \n",
      "\t-5.0355\tlove           \t\t\t\t-13.4209\tfraud          \n",
      "\t-5.1026\tgood           \t\t\t\t-13.2250\temptor         \n",
      "\t-5.1037\ttast           \t\t\t\t-13.1347\tacesulfam      \n",
      "\t-5.1274\tlike           \t\t\t\t-13.0502\timprop         \n",
      "\t-5.1321\ttea            \t\t\t\t-12.9497\tunsaf          \n",
      "\t-5.1764\tflavor         \t\t\t\t-12.9250\tunwil          \n",
      "\t-5.2095\tcoffe          \t\t\t\t-12.8997\tmonsanto       \n",
      "\t-5.2718\tproduct        \t\t\t\t-12.8976\trude           \n",
      "\t-5.2896\tuse            \t\t\t\t-12.8954\tletdown        \n"
     ]
    }
   ],
   "source": [
    "# Please write all the code with proper documentation\n",
    "feature_names = tf_idf_vect.get_feature_names()\n",
    "coefs_with_fns = sorted(zip(nbf.coef_[0], feature_names),reverse=True)\n",
    "top = zip(coefs_with_fns[:10], coefs_with_fns[:-(10 + 1):-1])\n",
    "print(\"\\t\\tPositive\\t\\t\\t\\tNegative\")\n",
    "print(\"__________________________________________________________________________________________________\")\n",
    "for (coef_1, fn_1), (coef_2, fn_2) in top:\n",
    "    print(\"\\t%.4f\\t%-15s\\t\\t\\t\\t%.4f\\t%-15s\" % (coef_1, fn_1, coef_2, fn_2))"
   ]
  },
  {
   "cell_type": "markdown",
   "metadata": {},
   "source": [
    "**ROC Curve**"
   ]
  },
  {
   "cell_type": "code",
   "execution_count": 45,
   "metadata": {},
   "outputs": [
    {
     "data": {
      "image/png": "[encoded data removed]",
      "text/plain": [
       "<Figure size 432x288 with 1 Axes>"
      ]
     },
     "metadata": {},
     "output_type": "display_data"
    }
   ],
   "source": [
    "# Plotting roc curve on Train Data\n",
    "prob_train = nbf.predict_proba(x_train_tfidf)[:,1]\n",
    "fpr, tpr, threshold = roc_curve(y_train_tfidf, prob_train)\n",
    "plt.plot(fpr, tpr, 'b', label='Train')\n",
    "\n",
    "# Plotting roc curve on Test Data\n",
    "prob_test = nbf.predict_proba(x_test_tfidf)[:,1]\n",
    "fpr, tpr, threshold = roc_curve(y_test_tfidf, prob_test)\n",
    "plt.plot(fpr, tpr, 'g', label='Test')\n",
    "\n",
    "plt.title('ROC Curve')\n",
    "plt.plot([0, 1], [0, 1],'r--')\n",
    "plt.xlim([0, 1])\n",
    "plt.ylim([0, 1])\n",
    "plt.legend(loc='lower right')\n",
    "plt.show()"
   ]
  },
  {
   "cell_type": "markdown",
   "metadata": {},
   "source": [
    "## Conclusion"
   ]
  },
  {
   "cell_type": "code",
   "execution_count": 46,
   "metadata": {},
   "outputs": [
    {
     "name": "stdout",
     "output_type": "stream",
     "text": [
      "+------------+-------+----------+\n",
      "| Vectorizer | Alpha |   AUC    |\n",
      "+------------+-------+----------+\n",
      "|    BOW     |  1.0  | 0.914005 |\n",
      "|   Tfidf    |  0.1  | 0.919208 |\n",
      "+------------+-------+----------+\n"
     ]
    }
   ],
   "source": [
    "# Summarizing the observations\n",
    "x=PrettyTable()\n",
    "x.field_names = ['Vectorizer','Alpha','AUC']\n",
    "x.add_row(['BOW','1.0','0.914005'])\n",
    "x.add_row(['Tfidf','0.1','0.919208'])\n",
    "print(x)"
   ]
  },
  {
   "cell_type": "markdown",
   "metadata": {},
   "source": [
    "Conclusions:-\n",
    "1. Training Time of Naive Bayes is significantly less as compared to other classification algorithms (such as KNN).\n",
    "2. Performance of Naive Bayes is almost similar when trained using Bag of Words & TF-IDF (based on AUC scores)."
   ]
  }
 ],
 "metadata": {
  "kernelspec": {
   "display_name": "Python 3",
   "language": "python",
   "name": "python3"
  },
  "language_info": {
   "codemirror_mode": {
    "name": "ipython",
    "version": 3
   },
   "file_extension": ".py",
   "mimetype": "text/x-python",
   "name": "python",
   "nbconvert_exporter": "python",
   "pygments_lexer": "ipython3",
   "version": "3.7.1"
  }
 },
 "nbformat": 4,
 "nbformat_minor": 2
}
