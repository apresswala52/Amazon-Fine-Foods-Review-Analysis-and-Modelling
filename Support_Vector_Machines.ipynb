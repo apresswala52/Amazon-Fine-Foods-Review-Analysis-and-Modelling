{
 "cells": [
  {
   "cell_type": "markdown",
   "metadata": {},
   "source": [
    "# Part 6 - Support Vector Machines (SVM)"
   ]
  },
  {
   "cell_type": "markdown",
   "metadata": {},
   "source": [
    "**By Aziz Presswala**"
   ]
  },
  {
   "cell_type": "code",
   "execution_count": 1,
   "metadata": {},
   "outputs": [],
   "source": [
    "# importing libraries\n",
    "%matplotlib inline\n",
    "import warnings\n",
    "warnings.filterwarnings(\"ignore\")\n",
    "\n",
    "import sqlite3\n",
    "import math\n",
    "import pandas as pd\n",
    "import numpy as np\n",
    "import matplotlib.pyplot as plt\n",
    "import seaborn as sns\n",
    "from scipy.sparse import find\n",
    "from tqdm import tqdm\n",
    "from time import time\n",
    "from prettytable import PrettyTable\n",
    "\n",
    "from sklearn.feature_extraction.text import TfidfTransformer\n",
    "from sklearn.feature_extraction.text import TfidfVectorizer\n",
    "from sklearn.feature_extraction.text import CountVectorizer\n",
    "from sklearn import model_selection\n",
    "from sklearn.metrics import confusion_matrix\n",
    "from sklearn import metrics\n",
    "from sklearn.linear_model import SGDClassifier\n",
    "from sklearn.calibration import CalibratedClassifierCV\n",
    "from sklearn.svm import SVC\n",
    "from sklearn.model_selection import GridSearchCV\n",
    "from sklearn.metrics import roc_curve, auc, roc_auc_score\n",
    "\n",
    "from gensim.models import Word2Vec"
   ]
  },
  {
   "cell_type": "markdown",
   "metadata": {},
   "source": [
    "### [1.0] Splitting the Dataset into Train & Test"
   ]
  },
  {
   "cell_type": "code",
   "execution_count": 2,
   "metadata": {},
   "outputs": [
    {
     "data": {
      "text/plain": [
       "(364171, 12)"
      ]
     },
     "execution_count": 2,
     "metadata": {},
     "output_type": "execute_result"
    }
   ],
   "source": [
    "# Using the CleanedText column saved in final.sqlite db\n",
    "con = sqlite3.connect('final.sqlite')\n",
    "filtered_data = pd.read_sql_query(\"SELECT * FROM Reviews\", con)\n",
    "filtered_data.shape"
   ]
  },
  {
   "cell_type": "code",
   "execution_count": 3,
   "metadata": {},
   "outputs": [],
   "source": [
    "# replacing all the 'positive' values of the Score attribute with 1\n",
    "filtered_data['Score']=filtered_data['Score'].replace('positive',1)"
   ]
  },
  {
   "cell_type": "code",
   "execution_count": 4,
   "metadata": {},
   "outputs": [],
   "source": [
    "# replacing all the 'neagtive' values of the Score attribute with 0\n",
    "filtered_data['Score']=filtered_data['Score'].replace('negative',0)"
   ]
  },
  {
   "cell_type": "code",
   "execution_count": 5,
   "metadata": {},
   "outputs": [],
   "source": [
    "#randomly selecting 100k points from the dataset\n",
    "df=filtered_data.sample(100000)"
   ]
  },
  {
   "cell_type": "code",
   "execution_count": 6,
   "metadata": {},
   "outputs": [],
   "source": [
    "#sort the dataset by timestamp\n",
    "df = df.sort_values('Time')\n",
    "#splitting the dataset into train(70%) & test(30%)\n",
    "train_data = df[0:70000]\n",
    "test_data = df[70000:100000]"
   ]
  },
  {
   "cell_type": "code",
   "execution_count": 7,
   "metadata": {},
   "outputs": [],
   "source": [
    "#randomly selecting 20k points from the dataset for rbf kernel\n",
    "df1=filtered_data.sample(20000)"
   ]
  },
  {
   "cell_type": "code",
   "execution_count": 8,
   "metadata": {},
   "outputs": [],
   "source": [
    "#sort the dataset by timestamp\n",
    "df1 = df1.sort_values('Time')\n",
    "#splitting the dataset into train(70%) & test(30%)\n",
    "train_data_rbf = df1[0:14000]\n",
    "test_data_rbf = df1[14000:20000]"
   ]
  },
  {
   "cell_type": "markdown",
   "metadata": {},
   "source": [
    "### [2.0] Featurization"
   ]
  },
  {
   "cell_type": "markdown",
   "metadata": {},
   "source": [
    "### [2.1] BAG OF WORDS"
   ]
  },
  {
   "cell_type": "markdown",
   "metadata": {},
   "source": [
    "**For Linear Kernel**"
   ]
  },
  {
   "cell_type": "code",
   "execution_count": 9,
   "metadata": {},
   "outputs": [
    {
     "data": {
      "text/plain": [
       "(70000, 7164)"
      ]
     },
     "execution_count": 9,
     "metadata": {},
     "output_type": "execute_result"
    }
   ],
   "source": [
    "#applying fit transform on train datasset\n",
    "count_vect = CountVectorizer(min_df=10)\n",
    "x_train_bow = count_vect.fit_transform(train_data['CleanedText'].values)\n",
    "x_train_bow.shape"
   ]
  },
  {
   "cell_type": "code",
   "execution_count": 10,
   "metadata": {},
   "outputs": [
    {
     "data": {
      "text/plain": [
       "(30000, 7164)"
      ]
     },
     "execution_count": 10,
     "metadata": {},
     "output_type": "execute_result"
    }
   ],
   "source": [
    "#applying transform on test dataset\n",
    "x_test_bow = count_vect.transform(test_data['CleanedText'].values)\n",
    "x_test_bow.shape"
   ]
  },
  {
   "cell_type": "code",
   "execution_count": 11,
   "metadata": {},
   "outputs": [],
   "source": [
    "y_train_bow = train_data['Score']\n",
    "y_test_bow = test_data['Score']"
   ]
  },
  {
   "cell_type": "markdown",
   "metadata": {},
   "source": [
    "**For RBF Kernel**"
   ]
  },
  {
   "cell_type": "code",
   "execution_count": 25,
   "metadata": {},
   "outputs": [
    {
     "data": {
      "text/plain": [
       "(14000, 3337)"
      ]
     },
     "execution_count": 25,
     "metadata": {},
     "output_type": "execute_result"
    }
   ],
   "source": [
    "#applying fit transform on train datasset\n",
    "count_vect_rbf = CountVectorizer(min_df=10)\n",
    "x_train_bow_rbf = count_vect_rbf.fit_transform(train_data_rbf['CleanedText'].values)\n",
    "x_train_bow_rbf.shape"
   ]
  },
  {
   "cell_type": "code",
   "execution_count": 26,
   "metadata": {},
   "outputs": [
    {
     "data": {
      "text/plain": [
       "(6000, 3337)"
      ]
     },
     "execution_count": 26,
     "metadata": {},
     "output_type": "execute_result"
    }
   ],
   "source": [
    "#applying fit transform on test dataset\n",
    "x_test_bow_rbf = count_vect_rbf.transform(test_data_rbf['CleanedText'].values)\n",
    "x_test_bow_rbf.shape"
   ]
  },
  {
   "cell_type": "code",
   "execution_count": 27,
   "metadata": {},
   "outputs": [],
   "source": [
    "y_train_bow_rbf = train_data_rbf['Score']\n",
    "y_test_bow_rbf = test_data_rbf['Score']"
   ]
  },
  {
   "cell_type": "markdown",
   "metadata": {},
   "source": [
    "### [2.2] TF-IDF"
   ]
  },
  {
   "cell_type": "markdown",
   "metadata": {},
   "source": [
    "**For Linear Kernel**"
   ]
  },
  {
   "cell_type": "code",
   "execution_count": 18,
   "metadata": {},
   "outputs": [
    {
     "data": {
      "text/plain": [
       "(70000, 7164)"
      ]
     },
     "execution_count": 18,
     "metadata": {},
     "output_type": "execute_result"
    }
   ],
   "source": [
    "#applying fit transform on train datasset\n",
    "tf_idf_vect = TfidfVectorizer(min_df=10)\n",
    "x_train_tfidf = tf_idf_vect.fit_transform(train_data['CleanedText'].values)\n",
    "x_train_tfidf.shape"
   ]
  },
  {
   "cell_type": "code",
   "execution_count": 19,
   "metadata": {},
   "outputs": [
    {
     "data": {
      "text/plain": [
       "(30000, 7164)"
      ]
     },
     "execution_count": 19,
     "metadata": {},
     "output_type": "execute_result"
    }
   ],
   "source": [
    "#applying transform on test dataset\n",
    "x_test_tfidf = tf_idf_vect.transform(test_data['CleanedText'].values)\n",
    "x_test_tfidf.shape"
   ]
  },
  {
   "cell_type": "code",
   "execution_count": 20,
   "metadata": {},
   "outputs": [],
   "source": [
    "y_train_tfidf = train_data['Score']\n",
    "y_test_tfidf = test_data['Score']"
   ]
  },
  {
   "cell_type": "markdown",
   "metadata": {},
   "source": [
    "**For RBF Kernel**"
   ]
  },
  {
   "cell_type": "code",
   "execution_count": 31,
   "metadata": {},
   "outputs": [
    {
     "data": {
      "text/plain": [
       "(14000, 3337)"
      ]
     },
     "execution_count": 31,
     "metadata": {},
     "output_type": "execute_result"
    }
   ],
   "source": [
    "#applying fit transform on train datasset\n",
    "tf_idf_vect_rbf = TfidfVectorizer(min_df=10)\n",
    "x_train_tfidf_rbf = tf_idf_vect_rbf.fit_transform(train_data_rbf['CleanedText'].values)\n",
    "x_train_tfidf_rbf.shape"
   ]
  },
  {
   "cell_type": "code",
   "execution_count": 32,
   "metadata": {},
   "outputs": [
    {
     "data": {
      "text/plain": [
       "(6000, 3337)"
      ]
     },
     "execution_count": 32,
     "metadata": {},
     "output_type": "execute_result"
    }
   ],
   "source": [
    "#applying transform on test dataset\n",
    "x_test_tfidf_rbf = tf_idf_vect_rbf.transform(test_data_rbf['CleanedText'].values)\n",
    "x_test_tfidf_rbf.shape"
   ]
  },
  {
   "cell_type": "code",
   "execution_count": 33,
   "metadata": {},
   "outputs": [],
   "source": [
    "y_train_tfidf_rbf = train_data_rbf['Score']\n",
    "y_test_tfidf_rbf = test_data_rbf['Score']"
   ]
  },
  {
   "cell_type": "markdown",
   "metadata": {},
   "source": [
    "### [2.3] Avg. Word2Vec"
   ]
  },
  {
   "cell_type": "markdown",
   "metadata": {},
   "source": [
    "**For Linear Kernel**"
   ]
  },
  {
   "cell_type": "code",
   "execution_count": 34,
   "metadata": {},
   "outputs": [],
   "source": [
    "#training Word2Vec Model for train dataset\n",
    "i=0\n",
    "list_of_sent=[]\n",
    "for sent in train_data['CleanedText'].values:\n",
    "    list_of_sent.append(sent.split())"
   ]
  },
  {
   "cell_type": "code",
   "execution_count": 35,
   "metadata": {},
   "outputs": [],
   "source": [
    "w2v_model=Word2Vec(list_of_sent,min_count=5,size=50, workers=4)"
   ]
  },
  {
   "cell_type": "code",
   "execution_count": 36,
   "metadata": {},
   "outputs": [],
   "source": [
    "X = w2v_model[w2v_model.wv.vocab]"
   ]
  },
  {
   "cell_type": "code",
   "execution_count": 37,
   "metadata": {},
   "outputs": [
    {
     "name": "stderr",
     "output_type": "stream",
     "text": [
      "100%|███████████████████████████████████████████████████████████████████████████| 70000/70000 [02:19<00:00, 500.06it/s]\n"
     ]
    },
    {
     "name": "stdout",
     "output_type": "stream",
     "text": [
      "70000\n",
      "50\n"
     ]
    }
   ],
   "source": [
    "#computing Avg Word2Vec for train dataset\n",
    "w2v_words = list(w2v_model.wv.vocab)\n",
    "sent_vectors = []; # the avg-w2v for each sentence/review is stored in this list\n",
    "for sent in tqdm(list_of_sent): # for each review/sentence\n",
    "    sent_vec = np.zeros(50) # as word vectors are of zero length\n",
    "    cnt_words =0; # num of words with a valid vector in the sentence/review\n",
    "    for word in sent: # for each word in a review/sentence\n",
    "        if word in w2v_words:\n",
    "            vec = w2v_model.wv[word]\n",
    "            sent_vec += vec\n",
    "            cnt_words += 1\n",
    "    if cnt_words != 0:\n",
    "        sent_vec /= cnt_words\n",
    "    sent_vectors.append(sent_vec)\n",
    "print(len(sent_vectors))\n",
    "print(len(sent_vectors[0]))"
   ]
  },
  {
   "cell_type": "code",
   "execution_count": 38,
   "metadata": {},
   "outputs": [
    {
     "data": {
      "text/plain": [
       "(70000, 50)"
      ]
     },
     "execution_count": 38,
     "metadata": {},
     "output_type": "execute_result"
    }
   ],
   "source": [
    "x_train_w2v = np.array(sent_vectors)\n",
    "y_train_w2v = train_data['Score']\n",
    "x_train_w2v.shape"
   ]
  },
  {
   "cell_type": "code",
   "execution_count": 39,
   "metadata": {},
   "outputs": [],
   "source": [
    "#training Word2Vec Model for test dataset\n",
    "i=0\n",
    "list_of_sent1=[]\n",
    "for sent in test_data['CleanedText'].values:\n",
    "    list_of_sent1.append(sent.split())"
   ]
  },
  {
   "cell_type": "code",
   "execution_count": 40,
   "metadata": {},
   "outputs": [
    {
     "name": "stderr",
     "output_type": "stream",
     "text": [
      "100%|███████████████████████████████████████████████████████████████████████████| 30000/30000 [01:12<00:00, 415.77it/s]\n"
     ]
    },
    {
     "name": "stdout",
     "output_type": "stream",
     "text": [
      "30000\n",
      "50\n"
     ]
    }
   ],
   "source": [
    "#computing Avg Word2Vec for test dataset\n",
    "w2v_words = list(w2v_model.wv.vocab)\n",
    "sent_vectors = []; # the avg-w2v for each sentence/review is stored in this list\n",
    "for sent in tqdm(list_of_sent1): # for each review/sentence\n",
    "    sent_vec = np.zeros(50) # as word vectors are of zero length\n",
    "    cnt_words =0; # num of words with a valid vector in the sentence/review\n",
    "    for word in sent: # for each word in a review/sentence\n",
    "        if word in w2v_words:\n",
    "            vec = w2v_model.wv[word]\n",
    "            sent_vec += vec\n",
    "            cnt_words += 1\n",
    "    if cnt_words != 0:\n",
    "        sent_vec /= cnt_words\n",
    "    sent_vectors.append(sent_vec)\n",
    "print(len(sent_vectors))\n",
    "print(len(sent_vectors[0]))"
   ]
  },
  {
   "cell_type": "code",
   "execution_count": 41,
   "metadata": {},
   "outputs": [
    {
     "data": {
      "text/plain": [
       "(30000, 50)"
      ]
     },
     "execution_count": 41,
     "metadata": {},
     "output_type": "execute_result"
    }
   ],
   "source": [
    "x_test_w2v = np.array(sent_vectors)\n",
    "y_test_w2v = test_data['Score']\n",
    "x_test_w2v.shape"
   ]
  },
  {
   "cell_type": "markdown",
   "metadata": {},
   "source": [
    "**For RBF Kernel**"
   ]
  },
  {
   "cell_type": "code",
   "execution_count": 49,
   "metadata": {},
   "outputs": [],
   "source": [
    "#training Word2Vec Model for train dataset\n",
    "i=0\n",
    "list_of_sent=[]\n",
    "for sent in train_data_rbf['CleanedText'].values:\n",
    "    list_of_sent.append(sent.split())"
   ]
  },
  {
   "cell_type": "code",
   "execution_count": 50,
   "metadata": {},
   "outputs": [],
   "source": [
    "w2v_model=Word2Vec(list_of_sent,min_count=5,size=50, workers=4)"
   ]
  },
  {
   "cell_type": "code",
   "execution_count": 51,
   "metadata": {},
   "outputs": [],
   "source": [
    "X = w2v_model[w2v_model.wv.vocab]"
   ]
  },
  {
   "cell_type": "code",
   "execution_count": 52,
   "metadata": {},
   "outputs": [
    {
     "name": "stderr",
     "output_type": "stream",
     "text": [
      "100%|███████████████████████████████████████████████████████████████████████████| 14000/14000 [00:19<00:00, 726.18it/s]\n"
     ]
    },
    {
     "name": "stdout",
     "output_type": "stream",
     "text": [
      "14000\n",
      "50\n"
     ]
    }
   ],
   "source": [
    "#computing Avg Word2Vec for train dataset\n",
    "w2v_words = list(w2v_model.wv.vocab)\n",
    "sent_vectors = []; # the avg-w2v for each sentence/review is stored in this list\n",
    "for sent in tqdm(list_of_sent): # for each review/sentence\n",
    "    sent_vec = np.zeros(50) # as word vectors are of zero length\n",
    "    cnt_words =0; # num of words with a valid vector in the sentence/review\n",
    "    for word in sent: # for each word in a review/sentence\n",
    "        if word in w2v_words:\n",
    "            vec = w2v_model.wv[word]\n",
    "            sent_vec += vec\n",
    "            cnt_words += 1\n",
    "    if cnt_words != 0:\n",
    "        sent_vec /= cnt_words\n",
    "    sent_vectors.append(sent_vec)\n",
    "print(len(sent_vectors))\n",
    "print(len(sent_vectors[0]))"
   ]
  },
  {
   "cell_type": "code",
   "execution_count": 53,
   "metadata": {},
   "outputs": [
    {
     "data": {
      "text/plain": [
       "(14000, 50)"
      ]
     },
     "execution_count": 53,
     "metadata": {},
     "output_type": "execute_result"
    }
   ],
   "source": [
    "x_train_w2v_rbf = np.array(sent_vectors)\n",
    "y_train_w2v_rbf = train_data_rbf['Score']\n",
    "x_train_w2v_rbf.shape"
   ]
  },
  {
   "cell_type": "code",
   "execution_count": 54,
   "metadata": {},
   "outputs": [],
   "source": [
    "#training Word2Vec Model for test dataset\n",
    "i=0\n",
    "list_of_sent1=[]\n",
    "for sent in test_data_rbf['CleanedText'].values:\n",
    "    list_of_sent1.append(sent.split())"
   ]
  },
  {
   "cell_type": "code",
   "execution_count": 55,
   "metadata": {},
   "outputs": [
    {
     "name": "stderr",
     "output_type": "stream",
     "text": [
      "100%|█████████████████████████████████████████████████████████████████████████████| 6000/6000 [00:08<00:00, 703.16it/s]\n"
     ]
    },
    {
     "name": "stdout",
     "output_type": "stream",
     "text": [
      "6000\n",
      "50\n"
     ]
    }
   ],
   "source": [
    "#computing Avg Word2Vec for test dataset\n",
    "w2v_words = list(w2v_model.wv.vocab)\n",
    "sent_vectors = []; # the avg-w2v for each sentence/review is stored in this list\n",
    "for sent in tqdm(list_of_sent1): # for each review/sentence\n",
    "    sent_vec = np.zeros(50) # as word vectors are of zero length\n",
    "    cnt_words =0; # num of words with a valid vector in the sentence/review\n",
    "    for word in sent: # for each word in a review/sentence\n",
    "        if word in w2v_words:\n",
    "            vec = w2v_model.wv[word]\n",
    "            sent_vec += vec\n",
    "            cnt_words += 1\n",
    "    if cnt_words != 0:\n",
    "        sent_vec /= cnt_words\n",
    "    sent_vectors.append(sent_vec)\n",
    "print(len(sent_vectors))\n",
    "print(len(sent_vectors[0]))"
   ]
  },
  {
   "cell_type": "code",
   "execution_count": 56,
   "metadata": {},
   "outputs": [
    {
     "data": {
      "text/plain": [
       "(6000, 50)"
      ]
     },
     "execution_count": 56,
     "metadata": {},
     "output_type": "execute_result"
    }
   ],
   "source": [
    "x_test_w2v_rbf = np.array(sent_vectors)\n",
    "y_test_w2v_rbf = test_data_rbf['Score']\n",
    "x_test_w2v_rbf.shape"
   ]
  },
  {
   "cell_type": "markdown",
   "metadata": {},
   "source": [
    "### [2.4] TFIDF - Word2Vec"
   ]
  },
  {
   "cell_type": "markdown",
   "metadata": {},
   "source": [
    "**For Linear Kernel**"
   ]
  },
  {
   "cell_type": "code",
   "execution_count": 66,
   "metadata": {},
   "outputs": [],
   "source": [
    "# training model for training data\n",
    "model = TfidfVectorizer()\n",
    "tf_idf_matrix = model.fit_transform(train_data['CleanedText'].values)\n",
    "# we are converting a dictionary with word as a key, and the idf as a value\n",
    "dictionary = dict(zip(model.get_feature_names(), list(model.idf_)))"
   ]
  },
  {
   "cell_type": "code",
   "execution_count": 67,
   "metadata": {},
   "outputs": [
    {
     "name": "stderr",
     "output_type": "stream",
     "text": [
      "100%|███████████████████████████████████████████████████████████████████████████| 70000/70000 [02:48<00:00, 414.90it/s]\n"
     ]
    }
   ],
   "source": [
    "# TF-IDF weighted Word2Vec\n",
    "tfidf_feat = model.get_feature_names() # tfidf words/col-names\n",
    "# final_tf_idf is the sparse matrix with row= sentence, col=word and cell_val = tfidf\n",
    "\n",
    "tfidf_sent_vectors = []; # the tfidf-w2v for each sentence/review is stored in this list\n",
    "row=0;\n",
    "for sent in tqdm(list_of_sent): # for each review/sentence \n",
    "    sent_vec = np.zeros(50) # as word vectors are of zero length\n",
    "    weight_sum =0; # num of words with a valid vector in the sentence/review\n",
    "    for word in sent: # for each word in a review/sentence\n",
    "        if word in w2v_words:\n",
    "            vec = w2v_model.wv[word]\n",
    "            # tf_idf = tf_idf_matrix[row, tfidf_feat.index(word)]\n",
    "            # to reduce the computation we are \n",
    "            # dictionary[word] = idf value of word in whole courpus\n",
    "            # sent.count(word) = tf valeus of word in this review\n",
    "            tf_idf = dictionary[word]*(sent.count(word)/len(sent))\n",
    "            sent_vec += (vec * tf_idf)\n",
    "            weight_sum += tf_idf\n",
    "    if weight_sum != 0:\n",
    "        sent_vec /= weight_sum\n",
    "    tfidf_sent_vectors.append(sent_vec)\n",
    "    row += 1"
   ]
  },
  {
   "cell_type": "code",
   "execution_count": 68,
   "metadata": {},
   "outputs": [
    {
     "data": {
      "text/plain": [
       "(70000, 50)"
      ]
     },
     "execution_count": 68,
     "metadata": {},
     "output_type": "execute_result"
    }
   ],
   "source": [
    "x_train_tfw2v = np.array(tfidf_sent_vectors)\n",
    "y_train_tfw2v = train_data['Score']\n",
    "x_train_tfw2v.shape"
   ]
  },
  {
   "cell_type": "code",
   "execution_count": 69,
   "metadata": {},
   "outputs": [],
   "source": [
    "# training model for test dataset\n",
    "model = TfidfVectorizer()\n",
    "tf_idf_matrix = model.fit_transform(test_data['CleanedText'].values)\n",
    "# we are converting a dictionary with word as a key, and the idf as a value\n",
    "dictionary = dict(zip(model.get_feature_names(), list(model.idf_)))"
   ]
  },
  {
   "cell_type": "code",
   "execution_count": 70,
   "metadata": {},
   "outputs": [
    {
     "name": "stderr",
     "output_type": "stream",
     "text": [
      "100%|███████████████████████████████████████████████████████████████████████████| 30000/30000 [01:19<00:00, 377.03it/s]\n"
     ]
    }
   ],
   "source": [
    "# TF-IDF weighted Word2Vec\n",
    "tfidf_feat = model.get_feature_names() # tfidf words/col-names\n",
    "# final_tf_idf is the sparse matrix with row= sentence, col=word and cell_val = tfidf\n",
    "\n",
    "tfidf_sent_vectors = []; # the tfidf-w2v for each sentence/review is stored in this list\n",
    "row=0;\n",
    "for sent in tqdm(list_of_sent1): # for each review/sentence \n",
    "    sent_vec = np.zeros(50) # as word vectors are of zero length\n",
    "    weight_sum =0; # num of words with a valid vector in the sentence/review\n",
    "    for word in sent: # for each word in a review/sentence\n",
    "        if word in w2v_words:\n",
    "            vec = w2v_model.wv[word]\n",
    "            # tf_idf = tf_idf_matrix[row, tfidf_feat.index(word)]\n",
    "            # to reduce the computation we are \n",
    "            # dictionary[word] = idf value of word in whole courpus\n",
    "            # sent.count(word) = tf valeus of word in this review\n",
    "            tf_idf = dictionary[word]*(sent.count(word)/len(sent))\n",
    "            sent_vec += (vec * tf_idf)\n",
    "            weight_sum += tf_idf\n",
    "    if weight_sum != 0:\n",
    "        sent_vec /= weight_sum\n",
    "    tfidf_sent_vectors.append(sent_vec)\n",
    "    row += 1"
   ]
  },
  {
   "cell_type": "code",
   "execution_count": 71,
   "metadata": {},
   "outputs": [
    {
     "data": {
      "text/plain": [
       "(30000, 50)"
      ]
     },
     "execution_count": 71,
     "metadata": {},
     "output_type": "execute_result"
    }
   ],
   "source": [
    "x_test_tfw2v = np.array(tfidf_sent_vectors)\n",
    "y_test_tfw2v = test_data['Score']\n",
    "x_test_tfw2v.shape"
   ]
  },
  {
   "cell_type": "markdown",
   "metadata": {},
   "source": [
    "**For RBF Kernel**"
   ]
  },
  {
   "cell_type": "code",
   "execution_count": 72,
   "metadata": {},
   "outputs": [],
   "source": [
    "# training model for training data\n",
    "model = TfidfVectorizer()\n",
    "tf_idf_matrix = model.fit_transform(train_data_rbf['CleanedText'].values)\n",
    "# we are converting a dictionary with word as a key, and the idf as a value\n",
    "dictionary = dict(zip(model.get_feature_names(), list(model.idf_)))"
   ]
  },
  {
   "cell_type": "code",
   "execution_count": 62,
   "metadata": {},
   "outputs": [
    {
     "name": "stderr",
     "output_type": "stream",
     "text": [
      "100%|███████████████████████████████████████████████████████████████████████████| 14000/14000 [00:24<00:00, 576.98it/s]\n"
     ]
    }
   ],
   "source": [
    "# TF-IDF weighted Word2Vec\n",
    "tfidf_feat = model.get_feature_names() # tfidf words/col-names\n",
    "# final_tf_idf is the sparse matrix with row= sentence, col=word and cell_val = tfidf\n",
    "\n",
    "tfidf_sent_vectors = []; # the tfidf-w2v for each sentence/review is stored in this list\n",
    "row=0;\n",
    "for sent in tqdm(list_of_sent): # for each review/sentence \n",
    "    sent_vec = np.zeros(50) # as word vectors are of zero length\n",
    "    weight_sum =0; # num of words with a valid vector in the sentence/review\n",
    "    for word in sent: # for each word in a review/sentence\n",
    "        if word in w2v_words:\n",
    "            vec = w2v_model.wv[word]\n",
    "            # tf_idf = tf_idf_matrix[row, tfidf_feat.index(word)]\n",
    "            # to reduce the computation we are \n",
    "            # dictionary[word] = idf value of word in whole courpus\n",
    "            # sent.count(word) = tf valeus of word in this review\n",
    "            tf_idf = dictionary[word]*(sent.count(word)/len(sent))\n",
    "            sent_vec += (vec * tf_idf)\n",
    "            weight_sum += tf_idf\n",
    "    if weight_sum != 0:\n",
    "        sent_vec /= weight_sum\n",
    "    tfidf_sent_vectors.append(sent_vec)\n",
    "    row += 1"
   ]
  },
  {
   "cell_type": "code",
   "execution_count": 63,
   "metadata": {},
   "outputs": [
    {
     "data": {
      "text/plain": [
       "(14000, 50)"
      ]
     },
     "execution_count": 63,
     "metadata": {},
     "output_type": "execute_result"
    }
   ],
   "source": [
    "x_train_tfw2v_rbf = np.array(tfidf_sent_vectors)\n",
    "y_train_tfw2v_rbf = train_data_rbf['Score']\n",
    "x_train_tfw2v_rbf.shape"
   ]
  },
  {
   "cell_type": "code",
   "execution_count": 64,
   "metadata": {},
   "outputs": [],
   "source": [
    "# training model for test dataset\n",
    "model = TfidfVectorizer()\n",
    "tf_idf_matrix = model.fit_transform(test_data_rbf['CleanedText'].values)\n",
    "# we are converting a dictionary with word as a key, and the idf as a value\n",
    "dictionary = dict(zip(model.get_feature_names(), list(model.idf_)))"
   ]
  },
  {
   "cell_type": "code",
   "execution_count": 65,
   "metadata": {},
   "outputs": [
    {
     "name": "stderr",
     "output_type": "stream",
     "text": [
      "100%|█████████████████████████████████████████████████████████████████████████████| 6000/6000 [00:10<00:00, 554.98it/s]\n"
     ]
    }
   ],
   "source": [
    "# TF-IDF weighted Word2Vec\n",
    "tfidf_feat = model.get_feature_names() # tfidf words/col-names\n",
    "# final_tf_idf is the sparse matrix with row= sentence, col=word and cell_val = tfidf\n",
    "\n",
    "tfidf_sent_vectors = []; # the tfidf-w2v for each sentence/review is stored in this list\n",
    "row=0;\n",
    "for sent in tqdm(list_of_sent1): # for each review/sentence \n",
    "    sent_vec = np.zeros(50) # as word vectors are of zero length\n",
    "    weight_sum =0; # num of words with a valid vector in the sentence/review\n",
    "    for word in sent: # for each word in a review/sentence\n",
    "        if word in w2v_words:\n",
    "            vec = w2v_model.wv[word]\n",
    "            # tf_idf = tf_idf_matrix[row, tfidf_feat.index(word)]\n",
    "            # to reduce the computation we are \n",
    "            # dictionary[word] = idf value of word in whole courpus\n",
    "            # sent.count(word) = tf valeus of word in this review\n",
    "            tf_idf = dictionary[word]*(sent.count(word)/len(sent))\n",
    "            sent_vec += (vec * tf_idf)\n",
    "            weight_sum += tf_idf\n",
    "    if weight_sum != 0:\n",
    "        sent_vec /= weight_sum\n",
    "    tfidf_sent_vectors.append(sent_vec)\n",
    "    row += 1"
   ]
  },
  {
   "cell_type": "code",
   "execution_count": 66,
   "metadata": {},
   "outputs": [
    {
     "data": {
      "text/plain": [
       "(6000, 50)"
      ]
     },
     "execution_count": 66,
     "metadata": {},
     "output_type": "execute_result"
    }
   ],
   "source": [
    "x_test_tfw2v_rbf = np.array(tfidf_sent_vectors)\n",
    "y_test_tfw2v_rbf = test_data_rbf['Score']\n",
    "x_test_tfw2v_rbf.shape"
   ]
  },
  {
   "cell_type": "markdown",
   "metadata": {},
   "source": [
    "### [3.0] Applying SVM"
   ]
  },
  {
   "cell_type": "markdown",
   "metadata": {},
   "source": [
    "### [3.1] Linear SVM"
   ]
  },
  {
   "cell_type": "markdown",
   "metadata": {},
   "source": [
    "### [3.1.1] Applying Linear SVM on BOW (l1 reg.),<font color='red'> SET 1</font>"
   ]
  },
  {
   "cell_type": "code",
   "execution_count": 12,
   "metadata": {},
   "outputs": [
    {
     "name": "stdout",
     "output_type": "stream",
     "text": [
      "Best alpha Value:  {'alpha': 0.0001}\n",
      "Best ROC AUC Score: 0.91089\n"
     ]
    }
   ],
   "source": [
    "# initializing SGDClassifier model with L1 regularisation\n",
    "sgdc = SGDClassifier(loss='hinge', penalty='l1', class_weight='balanced')\n",
    "\n",
    "# alpha values we need to try on classifier\n",
    "alpha_values = [10**-4,10**-3,10**-2,10**-1,10**0,10**1,10**2,10**3,10**4]\n",
    "param_grid = {'alpha':alpha_values}\n",
    "\n",
    "# using GridSearchCV to find the optimal value of alpha\n",
    "# using roc_auc as the scoring parameter & applying 10 fold CV\n",
    "gscv = GridSearchCV(sgdc,param_grid,scoring='roc_auc',cv=10,return_train_score=True,n_jobs=-1)\n",
    "gscv.fit(x_train_bow,y_train_bow)\n",
    "\n",
    "# getting the optimal value of alpha\n",
    "print(\"Best alpha Value: \",gscv.best_params_)\n",
    "print(\"Best ROC AUC Score: %.5f\"%(gscv.best_score_))"
   ]
  },
  {
   "cell_type": "code",
   "execution_count": 13,
   "metadata": {},
   "outputs": [
    {
     "name": "stdout",
     "output_type": "stream",
     "text": [
      "\n",
      "**** Test roc_auc_score for alpha = 0.000100 is 0.907703 ****\n"
     ]
    }
   ],
   "source": [
    "# determining optimal alpha\n",
    "optimal_alpha = gscv.best_params_['alpha']\n",
    "\n",
    "# calibrating the above results using CalibratedClassifierCV and training the model\n",
    "ccv = CalibratedClassifierCV(gscv,cv='prefit')\n",
    "ccv.fit(x_train_bow,y_train_bow)\n",
    "\n",
    "#predicting the class label using test data \n",
    "y_pred = ccv.predict_proba(x_test_bow)[:,1]\n",
    "\n",
    "#determining the Test roc_auc_score for optimal alpha\n",
    "auc_score = roc_auc_score(y_test_bow, y_pred)\n",
    "print('\\n**** Test roc_auc_score for alpha = %f is %f ****' % (optimal_alpha,auc_score))"
   ]
  },
  {
   "cell_type": "markdown",
   "metadata": {},
   "source": [
    "**AUC vs alpha**"
   ]
  },
  {
   "cell_type": "code",
   "execution_count": 14,
   "metadata": {},
   "outputs": [
    {
     "name": "stdout",
     "output_type": "stream",
     "text": [
      "[-9.210340371976182, -6.907755278982137, -4.605170185988091, -2.3025850929940455, 0.0, 2.302585092994046, 4.605170185988092, 6.907755278982137, 9.210340371976184]\n"
     ]
    },
    {
     "data": {
      "image/png": "[encoded data removed]",
      "text/plain": [
       "<Figure size 432x288 with 1 Axes>"
      ]
     },
     "metadata": {
      "needs_background": "light"
     },
     "output_type": "display_data"
    }
   ],
   "source": [
    "# plotting AUC vs C on Train & Validation dataset\n",
    "log_alpha=[math.log(x) for x in alpha_values]\n",
    "print(log_alpha)\n",
    "plt.xlim(-12,10)\n",
    "plt.ylim(0.0,1.0)\n",
    "plt.xlabel(r\"C\",fontsize=15)\n",
    "plt.ylabel('AUC')\n",
    "plt.title(r'AUC v/s alpha')\n",
    "plt.plot(log_alpha, gscv.cv_results_['mean_test_score'], 'r', label='CV AUC')\n",
    "plt.plot(log_alpha, gscv.cv_results_['mean_train_score'], 'b', label='Train AUC')\n",
    "plt.legend(loc='lower right')\n",
    "plt.show()"
   ]
  },
  {
   "cell_type": "markdown",
   "metadata": {},
   "source": [
    "**Confusion Matrix on Test Data**"
   ]
  },
  {
   "cell_type": "code",
   "execution_count": 15,
   "metadata": {},
   "outputs": [
    {
     "name": "stdout",
     "output_type": "stream",
     "text": [
      "[[ 2687  2479]\n",
      " [  905 23929]]\n"
     ]
    },
    {
     "data": {
      "text/plain": [
       "<matplotlib.axes._subplots.AxesSubplot at 0x1b0be125438>"
      ]
     },
     "execution_count": 15,
     "metadata": {},
     "output_type": "execute_result"
    },
    {
     "data": {
      "image/png": "[encoded data removed]",
      "text/plain": [
       "<Figure size 432x288 with 2 Axes>"
      ]
     },
     "metadata": {},
     "output_type": "display_data"
    }
   ],
   "source": [
    "# plotting confusion matrix as heatmap\n",
    "y_predict = ccv.predict(x_test_bow)\n",
    "cm = confusion_matrix(y_test_bow, y_predict)\n",
    "print(cm)\n",
    "df_cm = pd.DataFrame(cm, range(2),range(2))\n",
    "sns.set(font_scale=1.4)\n",
    "sns.heatmap(df_cm, annot=True,annot_kws={\"size\": 16}, fmt='g')"
   ]
  },
  {
   "cell_type": "markdown",
   "metadata": {},
   "source": [
    "**Confusion Matrix on Train Data**"
   ]
  },
  {
   "cell_type": "code",
   "execution_count": 16,
   "metadata": {},
   "outputs": [
    {
     "name": "stdout",
     "output_type": "stream",
     "text": [
      "[[ 5423  5151]\n",
      " [ 1619 57807]]\n"
     ]
    },
    {
     "data": {
      "text/plain": [
       "<matplotlib.axes._subplots.AxesSubplot at 0x1b0c5be6978>"
      ]
     },
     "execution_count": 16,
     "metadata": {},
     "output_type": "execute_result"
    },
    {
     "data": {
      "image/png": "[encoded data removed]",
      "text/plain": [
       "<Figure size 432x288 with 2 Axes>"
      ]
     },
     "metadata": {},
     "output_type": "display_data"
    }
   ],
   "source": [
    "# plotting confusion matrix as heatmap\n",
    "y_predict = ccv.predict(x_train_bow)\n",
    "cm = confusion_matrix(y_train_bow, y_predict)\n",
    "print(cm)\n",
    "df_cm = pd.DataFrame(cm, range(2),range(2))\n",
    "sns.set(font_scale=1.4)\n",
    "sns.heatmap(df_cm, annot=True,annot_kws={\"size\": 16}, fmt='g')"
   ]
  },
  {
   "cell_type": "markdown",
   "metadata": {},
   "source": [
    "**ROC Curve**"
   ]
  },
  {
   "cell_type": "code",
   "execution_count": 17,
   "metadata": {},
   "outputs": [
    {
     "data": {
      "image/png": "[encoded data removed]",
      "text/plain": [
       "<Figure size 432x288 with 1 Axes>"
      ]
     },
     "metadata": {},
     "output_type": "display_data"
    }
   ],
   "source": [
    "# Plotting roc curve on Train Data\n",
    "pred_train = ccv.predict_proba(x_train_bow)[:,1]\n",
    "fpr, tpr, threshold = roc_curve(y_train_bow, pred_train)\n",
    "plt.plot(fpr, tpr, 'b', label='Train')\n",
    "\n",
    "# Plotting roc curve on Test Data\n",
    "pred_test = ccv.predict_proba(x_test_bow)[:,1]\n",
    "fpr, tpr, threshold = roc_curve(y_test_bow, pred_test)\n",
    "plt.plot(fpr, tpr, 'g', label='Test')\n",
    "\n",
    "plt.title('ROC Curve')\n",
    "plt.plot([0, 1], [0, 1],'r--')\n",
    "plt.xlim([0, 1])\n",
    "plt.ylim([0, 1])\n",
    "plt.legend(loc='lower right')\n",
    "plt.show()"
   ]
  },
  {
   "cell_type": "markdown",
   "metadata": {},
   "source": [
    "### [3.1.2] Applying Linear SVM on BOW (l2 reg.),<font color='red'> SET 1</font>"
   ]
  },
  {
   "cell_type": "code",
   "execution_count": 18,
   "metadata": {},
   "outputs": [
    {
     "name": "stdout",
     "output_type": "stream",
     "text": [
      "Best alpha Value:  {'alpha': 0.001}\n",
      "Best ROC AUC Score: 0.92749\n"
     ]
    }
   ],
   "source": [
    "# initializing SGDClassifier model with L2 regularisation\n",
    "sgdc = SGDClassifier(loss='hinge', penalty='l2', class_weight='balanced')\n",
    "\n",
    "# alpha values we need to try on classifier\n",
    "alpha_values = [10**-4,10**-3,10**-2,10**-1,10**0,10**1,10**2,10**3,10**4]\n",
    "param_grid = {'alpha':alpha_values}\n",
    "\n",
    "# using GridSearchCV to find the optimal value of alpha\n",
    "# using roc_auc as the scoring parameter & applying 10 fold CV\n",
    "gscv = GridSearchCV(sgdc,param_grid,scoring='roc_auc',cv=10,return_train_score=True,n_jobs=-1)\n",
    "gscv.fit(x_train_bow,y_train_bow)\n",
    "\n",
    "# getting the optimal value of alpha\n",
    "print(\"Best alpha Value: \",gscv.best_params_)\n",
    "print(\"Best ROC AUC Score: %.5f\"%(gscv.best_score_))"
   ]
  },
  {
   "cell_type": "code",
   "execution_count": 19,
   "metadata": {},
   "outputs": [
    {
     "name": "stdout",
     "output_type": "stream",
     "text": [
      "\n",
      "**** Test roc_auc_score for alpha = 0.00100 is 0.931857 ****\n"
     ]
    }
   ],
   "source": [
    "# determining optimal alpha\n",
    "optimal_alpha = gscv.best_params_['alpha']\n",
    "\n",
    "# calibrating the above results using CalibratedClassifierCV and training the model\n",
    "ccv = CalibratedClassifierCV(gscv,cv='prefit')\n",
    "ccv.fit(x_train_bow,y_train_bow)\n",
    "\n",
    "#predicting the class label using test data \n",
    "y_pred = ccv.predict_proba(x_test_bow)[:,1]\n",
    "\n",
    "#determining the Test roc_auc_score for optimal alpha\n",
    "auc_score = roc_auc_score(y_test_bow, y_pred)\n",
    "print('\\n**** Test roc_auc_score for alpha = %.5f is %f ****' % (optimal_alpha,auc_score))"
   ]
  },
  {
   "cell_type": "markdown",
   "metadata": {},
   "source": [
    "**AUC vs alpha**"
   ]
  },
  {
   "cell_type": "code",
   "execution_count": 20,
   "metadata": {},
   "outputs": [
    {
     "name": "stdout",
     "output_type": "stream",
     "text": [
      "[-9.210340371976182, -6.907755278982137, -4.605170185988091, -2.3025850929940455, 0.0, 2.302585092994046, 4.605170185988092, 6.907755278982137, 9.210340371976184]\n"
     ]
    },
    {
     "data": {
      "image/png": "[encoded data removed]",
      "text/plain": [
       "<Figure size 432x288 with 1 Axes>"
      ]
     },
     "metadata": {},
     "output_type": "display_data"
    }
   ],
   "source": [
    "# plotting AUC vs C on Train & Validation dataset\n",
    "log_alpha=[math.log(x) for x in alpha_values]\n",
    "print(log_alpha)\n",
    "plt.xlim(-12,10)\n",
    "plt.ylim(0.0,1.0)\n",
    "plt.xlabel(r\"C\",fontsize=15)\n",
    "plt.ylabel('AUC')\n",
    "plt.title(r'AUC v/s alpha')\n",
    "plt.plot(log_alpha, gscv.cv_results_['mean_test_score'], 'r', label='CV AUC')\n",
    "plt.plot(log_alpha, gscv.cv_results_['mean_train_score'], 'b', label='Train AUC')\n",
    "plt.legend(loc='lower right')\n",
    "plt.show()"
   ]
  },
  {
   "cell_type": "markdown",
   "metadata": {},
   "source": [
    "**Confusion Matrix on Test Data**"
   ]
  },
  {
   "cell_type": "code",
   "execution_count": 21,
   "metadata": {},
   "outputs": [
    {
     "name": "stdout",
     "output_type": "stream",
     "text": [
      "[[ 3159  2007]\n",
      " [  917 23917]]\n"
     ]
    },
    {
     "data": {
      "text/plain": [
       "<matplotlib.axes._subplots.AxesSubplot at 0x1b0aa849f28>"
      ]
     },
     "execution_count": 21,
     "metadata": {},
     "output_type": "execute_result"
    },
    {
     "data": {
      "image/png": "[encoded data removed]",
      "text/plain": [
       "<Figure size 432x288 with 2 Axes>"
      ]
     },
     "metadata": {},
     "output_type": "display_data"
    }
   ],
   "source": [
    "# plotting confusion matrix as heatmap\n",
    "y_predict = ccv.predict(x_test_bow)\n",
    "cm = confusion_matrix(y_test_bow, y_predict)\n",
    "print(cm)\n",
    "df_cm = pd.DataFrame(cm, range(2),range(2))\n",
    "sns.set(font_scale=1.4)\n",
    "sns.heatmap(df_cm, annot=True,annot_kws={\"size\": 16}, fmt='g')"
   ]
  },
  {
   "cell_type": "markdown",
   "metadata": {},
   "source": [
    "**Confusion Matrix on Train Data**"
   ]
  },
  {
   "cell_type": "code",
   "execution_count": 22,
   "metadata": {},
   "outputs": [
    {
     "name": "stdout",
     "output_type": "stream",
     "text": [
      "[[ 6663  3911]\n",
      " [ 1657 57769]]\n"
     ]
    },
    {
     "data": {
      "text/plain": [
       "<matplotlib.axes._subplots.AxesSubplot at 0x1b0aee02828>"
      ]
     },
     "execution_count": 22,
     "metadata": {},
     "output_type": "execute_result"
    },
    {
     "data": {
      "image/png": "[encoded data removed]",
      "text/plain": [
       "<Figure size 432x288 with 2 Axes>"
      ]
     },
     "metadata": {},
     "output_type": "display_data"
    }
   ],
   "source": [
    "# plotting confusion matrix as heatmap\n",
    "y_predict = ccv.predict(x_train_bow)\n",
    "cm = confusion_matrix(y_train_bow, y_predict)\n",
    "print(cm)\n",
    "df_cm = pd.DataFrame(cm, range(2),range(2))\n",
    "sns.set(font_scale=1.4)\n",
    "sns.heatmap(df_cm, annot=True,annot_kws={\"size\": 16}, fmt='g')"
   ]
  },
  {
   "cell_type": "markdown",
   "metadata": {},
   "source": [
    "**ROC Curve**"
   ]
  },
  {
   "cell_type": "code",
   "execution_count": 23,
   "metadata": {},
   "outputs": [
    {
     "data": {
      "image/png": "[encoded data removed]",
      "text/plain": [
       "<Figure size 432x288 with 1 Axes>"
      ]
     },
     "metadata": {},
     "output_type": "display_data"
    }
   ],
   "source": [
    "# Plotting roc curve on Train Data\n",
    "pred_train = ccv.predict_proba(x_train_bow)[:,1]\n",
    "fpr, tpr, threshold = roc_curve(y_train_bow, pred_train)\n",
    "plt.plot(fpr, tpr, 'b', label='Train')\n",
    "\n",
    "# Plotting roc curve on Test Data\n",
    "pred_test = ccv.predict_proba(x_test_bow)[:,1]\n",
    "fpr, tpr, threshold = roc_curve(y_test_bow, pred_test)\n",
    "plt.plot(fpr, tpr, 'g', label='Test')\n",
    "\n",
    "plt.title('ROC Curve')\n",
    "plt.plot([0, 1], [0, 1],'r--')\n",
    "plt.xlim([0, 1])\n",
    "plt.ylim([0, 1])\n",
    "plt.legend(loc='lower right')\n",
    "plt.show()"
   ]
  },
  {
   "cell_type": "markdown",
   "metadata": {},
   "source": [
    "### Feature Importance "
   ]
  },
  {
   "cell_type": "code",
   "execution_count": 14,
   "metadata": {},
   "outputs": [
    {
     "data": {
      "text/plain": [
       "SGDClassifier(alpha=0.0001, average=False, class_weight=None,\n",
       "       early_stopping=False, epsilon=0.1, eta0=0.0, fit_intercept=True,\n",
       "       l1_ratio=0.15, learning_rate='optimal', loss='hinge', max_iter=None,\n",
       "       n_iter=None, n_iter_no_change=5, n_jobs=None, penalty='l1',\n",
       "       power_t=0.5, random_state=None, shuffle=True, tol=None,\n",
       "       validation_fraction=0.1, verbose=0, warm_start=False)"
      ]
     },
     "execution_count": 14,
     "metadata": {},
     "output_type": "execute_result"
    }
   ],
   "source": [
    "# Training the model with optimal alpha value to get the feature importance\n",
    "clf = SGDClassifier(loss='hinge', penalty='l1', alpha=optimal_alpha)\n",
    "clf.fit(x_train_bow,y_train_bow)"
   ]
  },
  {
   "cell_type": "code",
   "execution_count": 15,
   "metadata": {},
   "outputs": [
    {
     "name": "stdout",
     "output_type": "stream",
     "text": [
      "\t\tPositive\t\t\t\tNegative\n",
      "__________________________________________________________________________________________________\n",
      "\t47.8184\tzevia          \t\t\t\t-51.6009\tscone          \n",
      "\t29.5217\tblast          \t\t\t\t-41.3797\tworst          \n",
      "\t29.5180\tcommuniti      \t\t\t\t-23.4885\taw             \n",
      "\t24.8816\tlouisiana      \t\t\t\t-22.9970\trip            \n",
      "\t24.7078\toro            \t\t\t\t-22.7622\tterribl        \n",
      "\t24.5689\tqualita        \t\t\t\t-22.6392\tfoil           \n",
      "\t24.2616\taerat          \t\t\t\t-22.3172\thorribl        \n",
      "\t23.4551\taddict         \t\t\t\t-22.2651\tcanida         \n",
      "\t22.7108\texcel          \t\t\t\t-20.7548\tlesson         \n",
      "\t22.5032\trefresh        \t\t\t\t-19.2569\tdisgust        \n"
     ]
    }
   ],
   "source": [
    "feature_names = count_vect.get_feature_names()\n",
    "coefs_with_fns = sorted(zip(clf.coef_[0], feature_names),reverse=True)\n",
    "top = zip(coefs_with_fns[:10], coefs_with_fns[:-(10 + 1):-1])\n",
    "print(\"\\t\\tPositive\\t\\t\\t\\tNegative\")\n",
    "print(\"__________________________________________________________________________________________________\")\n",
    "for (coef_1, fn_1), (coef_2, fn_2) in top:\n",
    "    print(\"\\t%.4f\\t%-15s\\t\\t\\t\\t%.4f\\t%-15s\" % (coef_1, fn_1, coef_2, fn_2))"
   ]
  },
  {
   "cell_type": "markdown",
   "metadata": {},
   "source": [
    "### [3.1.3] Applying Linear SVM on TFIDF (l1 reg.),<font color='red'> SET 2</font>"
   ]
  },
  {
   "cell_type": "code",
   "execution_count": 21,
   "metadata": {},
   "outputs": [
    {
     "name": "stdout",
     "output_type": "stream",
     "text": [
      "Best alpha Value:  {'alpha': 0.0001}\n",
      "Best ROC AUC Score: 0.93541\n"
     ]
    }
   ],
   "source": [
    "# initializing SGDClassifier model with L1 regularisation\n",
    "sgdc = SGDClassifier(loss='hinge', penalty='l1', class_weight='balanced')\n",
    "\n",
    "# alpha values we need to try on classifier\n",
    "alpha_values = [10**-4,10**-3,10**-2,10**-1,10**0,10**1,10**2,10**3,10**4]\n",
    "param_grid = {'alpha': alpha_values}\n",
    "\n",
    "# using GridSearchCV to find the optimal value of alpha\n",
    "# using roc_auc as the scoring parameter & applying 10 fold CV\n",
    "gscv = GridSearchCV(sgdc,param_grid,scoring='roc_auc',cv=10,return_train_score=True)\n",
    "gscv.fit(x_train_tfidf,y_train_tfidf)\n",
    "\n",
    "# getting the optimal value of alpha\n",
    "print(\"Best alpha Value: \",gscv.best_params_)\n",
    "print(\"Best ROC AUC Score: %.5f\"%(gscv.best_score_))"
   ]
  },
  {
   "cell_type": "code",
   "execution_count": 22,
   "metadata": {},
   "outputs": [
    {
     "name": "stdout",
     "output_type": "stream",
     "text": [
      "\n",
      "**** Test roc_auc_score for C = 0.00010 is 0.933137 ****\n"
     ]
    }
   ],
   "source": [
    "# determining optimal alpha\n",
    "optimal_alpha = gscv.best_params_['alpha']\n",
    "\n",
    "# calibrating the above results using CalibratedClassifierCV and training the model\n",
    "ccv = CalibratedClassifierCV(gscv,cv='prefit')\n",
    "ccv.fit(x_train_tfidf,y_train_tfidf)\n",
    "\n",
    "#predicting the class label using test data \n",
    "y_pred = ccv.predict_proba(x_test_tfidf)[:,1]\n",
    "\n",
    "#determining the Test roc_auc_score for optimal alpha\n",
    "auc_score = roc_auc_score(y_test_tfidf, y_pred)\n",
    "print('\\n**** Test roc_auc_score for C = %.5f is %f ****' % (optimal_alpha,auc_score))"
   ]
  },
  {
   "cell_type": "markdown",
   "metadata": {},
   "source": [
    "**AUC vs alpha**"
   ]
  },
  {
   "cell_type": "code",
   "execution_count": 31,
   "metadata": {},
   "outputs": [
    {
     "name": "stdout",
     "output_type": "stream",
     "text": [
      "[-9.210340371976182, -6.907755278982137, -4.605170185988091, -2.3025850929940455, 0.0, 2.302585092994046, 4.605170185988092, 6.907755278982137, 9.210340371976184]\n"
     ]
    },
    {
     "data": {
      "image/png": "[encoded data removed]",
      "text/plain": [
       "<Figure size 432x288 with 1 Axes>"
      ]
     },
     "metadata": {},
     "output_type": "display_data"
    }
   ],
   "source": [
    "# plotting AUC vs C on Train & Validation dataset\n",
    "log_alpha=[math.log(x) for x in alpha_values]\n",
    "print(log_alpha)\n",
    "plt.xlim(-12,10)\n",
    "plt.ylim(0.0,1.0)\n",
    "plt.xlabel(r\"C\",fontsize=15)\n",
    "plt.ylabel('AUC')\n",
    "plt.title(r'AUC v/s alpha')\n",
    "plt.plot(log_alpha, gscv.cv_results_['mean_test_score'], 'r', label='CV AUC')\n",
    "plt.plot(log_alpha, gscv.cv_results_['mean_train_score'], 'b', label='Train AUC')\n",
    "plt.legend(loc='lower right')\n",
    "plt.show()"
   ]
  },
  {
   "cell_type": "markdown",
   "metadata": {},
   "source": [
    "**Confusion Matrix on Test Data**"
   ]
  },
  {
   "cell_type": "code",
   "execution_count": 32,
   "metadata": {},
   "outputs": [
    {
     "name": "stdout",
     "output_type": "stream",
     "text": [
      "[[ 3106  2060]\n",
      " [  894 23940]]\n"
     ]
    },
    {
     "data": {
      "text/plain": [
       "<matplotlib.axes._subplots.AxesSubplot at 0x1b0c19dee48>"
      ]
     },
     "execution_count": 32,
     "metadata": {},
     "output_type": "execute_result"
    },
    {
     "data": {
      "image/png": "[encoded data removed]",
      "text/plain": [
       "<Figure size 432x288 with 2 Axes>"
      ]
     },
     "metadata": {},
     "output_type": "display_data"
    }
   ],
   "source": [
    "# plotting confusion matrix as heatmap\n",
    "y_predict = ccv.predict(x_test_tfidf)\n",
    "cm = confusion_matrix(y_test_tfidf, y_predict)\n",
    "print(cm)\n",
    "df_cm = pd.DataFrame(cm, range(2),range(2))\n",
    "sns.set(font_scale=1.4)\n",
    "sns.heatmap(df_cm, annot=True,annot_kws={\"size\": 16}, fmt='g')"
   ]
  },
  {
   "cell_type": "markdown",
   "metadata": {},
   "source": [
    "**Confusion Matrix on Train Data**"
   ]
  },
  {
   "cell_type": "code",
   "execution_count": 33,
   "metadata": {},
   "outputs": [
    {
     "name": "stdout",
     "output_type": "stream",
     "text": [
      "[[ 6345  4229]\n",
      " [ 1768 57658]]\n"
     ]
    },
    {
     "data": {
      "text/plain": [
       "<matplotlib.axes._subplots.AxesSubplot at 0x1b0ab37f6d8>"
      ]
     },
     "execution_count": 33,
     "metadata": {},
     "output_type": "execute_result"
    },
    {
     "data": {
      "image/png": "[encoded data removed]",
      "text/plain": [
       "<Figure size 432x288 with 2 Axes>"
      ]
     },
     "metadata": {},
     "output_type": "display_data"
    }
   ],
   "source": [
    "# plotting confusion matrix as heatmap\n",
    "y_predict = ccv.predict(x_train_tfidf)\n",
    "cm = confusion_matrix(y_train_tfidf, y_predict)\n",
    "print(cm)\n",
    "df_cm = pd.DataFrame(cm, range(2),range(2))\n",
    "sns.set(font_scale=1.4)\n",
    "sns.heatmap(df_cm, annot=True,annot_kws={\"size\": 16}, fmt='g')"
   ]
  },
  {
   "cell_type": "markdown",
   "metadata": {},
   "source": [
    "**ROC Curve**"
   ]
  },
  {
   "cell_type": "code",
   "execution_count": 34,
   "metadata": {},
   "outputs": [
    {
     "data": {
      "image/png": "[encoded data removed]",
      "text/plain": [
       "<Figure size 432x288 with 1 Axes>"
      ]
     },
     "metadata": {},
     "output_type": "display_data"
    }
   ],
   "source": [
    "# Plotting roc curve on Train Data\n",
    "pred_train = ccv.predict_proba(x_train_tfidf)[:,1]\n",
    "fpr, tpr, threshold = roc_curve(y_train_tfidf, pred_train)\n",
    "plt.plot(fpr, tpr, 'b', label='Train')\n",
    "\n",
    "# Plotting roc curve on Test Data\n",
    "pred_test = ccv.predict_proba(x_test_tfidf)[:,1]\n",
    "fpr, tpr, threshold = roc_curve(y_test_tfidf, pred_test)\n",
    "plt.plot(fpr, tpr, 'g', label='Test')\n",
    "\n",
    "plt.title('ROC Curve')\n",
    "plt.plot([0, 1], [0, 1],'r--')\n",
    "plt.xlim([0, 1])\n",
    "plt.ylim([0, 1])\n",
    "plt.legend(loc='lower right')\n",
    "plt.show()"
   ]
  },
  {
   "cell_type": "markdown",
   "metadata": {},
   "source": [
    "### [3.1.4] Applying Linear SVM on TFIDF (l2 reg.),<font color='red'> SET 2</font>"
   ]
  },
  {
   "cell_type": "code",
   "execution_count": 18,
   "metadata": {},
   "outputs": [
    {
     "name": "stdout",
     "output_type": "stream",
     "text": [
      "Best alpha Value:  {'alpha': 0.0001}\n",
      "Best ROC AUC Score: 0.94330\n"
     ]
    }
   ],
   "source": [
    "# initializing SGDClassifier model with L2 regularisation\n",
    "sgdc = SGDClassifier(loss='hinge', penalty='l2', class_weight='balanced')\n",
    "\n",
    "# alpha values we need to try on classifier\n",
    "alpha_values = [10**-4,10**-3,10**-2,10**-1,10**0,10**1,10**2,10**3,10**4]\n",
    "param_grid = {'alpha':alpha_values}\n",
    "\n",
    "# using GridSearchCV to find the optimal value of alpha\n",
    "# using roc_auc as the scoring parameter & applying 10 fold CV\n",
    "gscv = GridSearchCV(sgdc,param_grid,scoring='roc_auc',cv=10,return_train_score=True)\n",
    "gscv.fit(x_train_tfidf,y_train_tfidf)\n",
    "\n",
    "# getting the optimal value of alpha\n",
    "print(\"Best alpha Value: \",gscv.best_params_)\n",
    "print(\"Best ROC AUC Score: %.5f\"%(gscv.best_score_))"
   ]
  },
  {
   "cell_type": "code",
   "execution_count": 19,
   "metadata": {},
   "outputs": [
    {
     "name": "stdout",
     "output_type": "stream",
     "text": [
      "\n",
      "**** Test roc_auc_score for C = 0.00010 is 0.943233 ****\n"
     ]
    }
   ],
   "source": [
    "# determining optimal alpha\n",
    "optimal_alpha = gscv.best_params_['alpha']\n",
    "\n",
    "# calibrating the above results using CalibratedClassifierCV and training the model\n",
    "ccv = CalibratedClassifierCV(gscv,cv='prefit')\n",
    "ccv.fit(x_train_tfidf,y_train_tfidf)\n",
    "\n",
    "#predicting the class label using test data \n",
    "y_pred = ccv.predict_proba(x_test_tfidf)[:,1]\n",
    "\n",
    "#determining the Test roc_auc_score for optimal alpha\n",
    "auc_score = roc_auc_score(y_test_tfidf, y_pred)\n",
    "print('\\n**** Test roc_auc_score for C = %.5f is %f ****' % (optimal_alpha,auc_score))"
   ]
  },
  {
   "cell_type": "code",
   "execution_count": 20,
   "metadata": {},
   "outputs": [
    {
     "name": "stdout",
     "output_type": "stream",
     "text": [
      "[-9.210340371976182, -6.907755278982137, -4.605170185988091, -2.3025850929940455, 0.0, 2.302585092994046, 4.605170185988092, 6.907755278982137, 9.210340371976184]\n"
     ]
    },
    {
     "data": {
      "image/png": "[encoded data removed]",
      "text/plain": [
       "<Figure size 432x288 with 1 Axes>"
      ]
     },
     "metadata": {},
     "output_type": "display_data"
    }
   ],
   "source": [
    "# plotting AUC vs C on Train & Validation dataset\n",
    "log_alpha=[math.log(x) for x in alpha_values]\n",
    "print(log_alpha)\n",
    "plt.xlim(-12,10)\n",
    "plt.ylim(0.0,1.0)\n",
    "plt.xlabel(r\"C\",fontsize=15)\n",
    "plt.ylabel('AUC')\n",
    "plt.title(r'AUC v/s alpha')\n",
    "plt.plot(log_alpha, gscv.cv_results_['mean_test_score'], 'r', label='CV AUC')\n",
    "plt.plot(log_alpha, gscv.cv_results_['mean_train_score'], 'b', label='Train AUC')\n",
    "plt.legend(loc='lower right')\n",
    "plt.show()"
   ]
  },
  {
   "cell_type": "markdown",
   "metadata": {},
   "source": [
    "**Confusion Matrix on Test Data**"
   ]
  },
  {
   "cell_type": "code",
   "execution_count": 21,
   "metadata": {},
   "outputs": [
    {
     "name": "stdout",
     "output_type": "stream",
     "text": [
      "[[ 3472  1833]\n",
      " [  887 23808]]\n"
     ]
    },
    {
     "data": {
      "text/plain": [
       "<matplotlib.axes._subplots.AxesSubplot at 0x231cf234080>"
      ]
     },
     "execution_count": 21,
     "metadata": {},
     "output_type": "execute_result"
    },
    {
     "data": {
      "image/png": "[encoded data removed]",
      "text/plain": [
       "<Figure size 432x288 with 2 Axes>"
      ]
     },
     "metadata": {},
     "output_type": "display_data"
    }
   ],
   "source": [
    "# plotting confusion matrix as heatmap\n",
    "y_predict = ccv.predict(x_test_tfidf)\n",
    "cm = confusion_matrix(y_test_tfidf, y_predict)\n",
    "print(cm)\n",
    "df_cm = pd.DataFrame(cm, range(2),range(2))\n",
    "sns.set(font_scale=1.4)\n",
    "sns.heatmap(df_cm, annot=True,annot_kws={\"size\": 16}, fmt='g')"
   ]
  },
  {
   "cell_type": "markdown",
   "metadata": {},
   "source": [
    "**Confusion Matrix on Train Data**"
   ]
  },
  {
   "cell_type": "code",
   "execution_count": 22,
   "metadata": {},
   "outputs": [
    {
     "name": "stdout",
     "output_type": "stream",
     "text": [
      "[[ 7414  3022]\n",
      " [ 1741 57823]]\n"
     ]
    },
    {
     "data": {
      "text/plain": [
       "<matplotlib.axes._subplots.AxesSubplot at 0x231d2e2d6d8>"
      ]
     },
     "execution_count": 22,
     "metadata": {},
     "output_type": "execute_result"
    },
    {
     "data": {
      "image/png": "[encoded data removed]",
      "text/plain": [
       "<Figure size 432x288 with 2 Axes>"
      ]
     },
     "metadata": {},
     "output_type": "display_data"
    }
   ],
   "source": [
    "# plotting confusion matrix as heatmap\n",
    "y_predict = ccv.predict(x_train_tfidf)\n",
    "cm = confusion_matrix(y_train_tfidf, y_predict)\n",
    "print(cm)\n",
    "df_cm = pd.DataFrame(cm, range(2),range(2))\n",
    "sns.set(font_scale=1.4)\n",
    "sns.heatmap(df_cm, annot=True,annot_kws={\"size\": 16}, fmt='g')"
   ]
  },
  {
   "cell_type": "markdown",
   "metadata": {},
   "source": [
    "**ROC Curve**"
   ]
  },
  {
   "cell_type": "code",
   "execution_count": 23,
   "metadata": {},
   "outputs": [
    {
     "data": {
      "image/png": "[encoded data removed]",
      "text/plain": [
       "<Figure size 432x288 with 1 Axes>"
      ]
     },
     "metadata": {},
     "output_type": "display_data"
    }
   ],
   "source": [
    "# Plotting roc curve on Train Data\n",
    "pred_train = ccv.predict_proba(x_train_tfidf)[:,1]\n",
    "fpr, tpr, threshold = roc_curve(y_train_tfidf, pred_train)\n",
    "plt.plot(fpr, tpr, 'b', label='Train')\n",
    "\n",
    "# Plotting roc curve on Test Data\n",
    "pred_test = ccv.predict_proba(x_test_tfidf)[:,1]\n",
    "fpr, tpr, threshold = roc_curve(y_test_tfidf, pred_test)\n",
    "plt.plot(fpr, tpr, 'g', label='Test')\n",
    "\n",
    "plt.title('ROC Curve')\n",
    "plt.plot([0, 1], [0, 1],'r--')\n",
    "plt.xlim([0, 1])\n",
    "plt.ylim([0, 1])\n",
    "plt.legend(loc='lower right')\n",
    "plt.show()"
   ]
  },
  {
   "cell_type": "markdown",
   "metadata": {},
   "source": [
    "### Feature Importance "
   ]
  },
  {
   "cell_type": "code",
   "execution_count": 23,
   "metadata": {},
   "outputs": [
    {
     "data": {
      "text/plain": [
       "SGDClassifier(alpha=0.0001, average=False, class_weight=None,\n",
       "       early_stopping=False, epsilon=0.1, eta0=0.0, fit_intercept=True,\n",
       "       l1_ratio=0.15, learning_rate='optimal', loss='hinge', max_iter=None,\n",
       "       n_iter=None, n_iter_no_change=5, n_jobs=None, penalty='l1',\n",
       "       power_t=0.5, random_state=None, shuffle=True, tol=None,\n",
       "       validation_fraction=0.1, verbose=0, warm_start=False)"
      ]
     },
     "execution_count": 23,
     "metadata": {},
     "output_type": "execute_result"
    }
   ],
   "source": [
    "# Training the model with optimal alpha value to get the feature importance\n",
    "clf = SGDClassifier(loss='hinge', penalty='l1', alpha=optimal_alpha)\n",
    "clf.fit(x_train_tfidf,y_train_tfidf)"
   ]
  },
  {
   "cell_type": "code",
   "execution_count": 24,
   "metadata": {},
   "outputs": [
    {
     "name": "stdout",
     "output_type": "stream",
     "text": [
      "\t\tPositive\t\t\t\tNegative\n",
      "__________________________________________________________________________________________________\n",
      "\t5.1297\tgreat          \t\t\t\t-8.0417\tworst          \n",
      "\t5.0628\tdelici         \t\t\t\t-5.6084\taw             \n",
      "\t4.5153\tbest           \t\t\t\t-5.4433\tdisappoint     \n",
      "\t3.8739\tperfect        \t\t\t\t-5.0686\treturn         \n",
      "\t3.6090\texcel          \t\t\t\t-5.0151\tterribl        \n",
      "\t3.5547\tlove           \t\t\t\t-4.5465\thorribl        \n",
      "\t2.8356\tamaz           \t\t\t\t-4.5168\tdisgust        \n",
      "\t2.8086\tnice           \t\t\t\t-4.2374\tthrew          \n",
      "\t2.6004\tgood           \t\t\t\t-3.8006\tgross          \n",
      "\t2.5112\ttasti          \t\t\t\t-3.7946\twast           \n"
     ]
    }
   ],
   "source": [
    "feature_names = tf_idf_vect.get_feature_names()\n",
    "coefs_with_fns = sorted(zip(clf.coef_[0], feature_names),reverse=True)\n",
    "top = zip(coefs_with_fns[:10], coefs_with_fns[:-(10 + 1):-1])\n",
    "print(\"\\t\\tPositive\\t\\t\\t\\tNegative\")\n",
    "print(\"__________________________________________________________________________________________________\")\n",
    "for (coef_1, fn_1), (coef_2, fn_2) in top:\n",
    "    print(\"\\t%.4f\\t%-15s\\t\\t\\t\\t%.4f\\t%-15s\" % (coef_1, fn_1, coef_2, fn_2))"
   ]
  },
  {
   "cell_type": "markdown",
   "metadata": {},
   "source": [
    "### [3.1.5] Applying Linear SVM on AVG W2V (l1 reg.),<font color='red'> SET 3</font>"
   ]
  },
  {
   "cell_type": "code",
   "execution_count": 54,
   "metadata": {},
   "outputs": [
    {
     "name": "stdout",
     "output_type": "stream",
     "text": [
      "Best alpha Value:  {'alpha': 0.001}\n",
      "Best ROC AUC Score: 0.89904\n"
     ]
    }
   ],
   "source": [
    "# initializing SGDClassifier model with L1 regularisation\n",
    "sgdc = SGDClassifier(loss='hinge', penalty='l1',class_weights)\n",
    "\n",
    "# alpha values we need to try on classifier\n",
    "alpha_values = [10**-4,10**-3,10**-2,10**-1,10**0,10**1,10**2,10**3,10**4]\n",
    "param_grid = {'alpha':[10**-4,10**-3,10**-2,10**-1,10**0,10**1,10**2,10**3,10**4]}\n",
    "\n",
    "# using GridSearchCV to find the optimal value of alpha\n",
    "# using roc_auc as the scoring parameter & applying 10 fold CV\n",
    "gscv = GridSearchCV(sgdc,param_grid,scoring='roc_auc',cv=10,return_train_score=True)\n",
    "gscv.fit(x_train_w2v,y_train_w2v)\n",
    "\n",
    "# getting the optimal value of alpha\n",
    "print(\"Best alpha Value: \",gscv.best_params_)\n",
    "print(\"Best ROC AUC Score: %.5f\"%(gscv.best_score_))"
   ]
  },
  {
   "cell_type": "code",
   "execution_count": 55,
   "metadata": {},
   "outputs": [
    {
     "name": "stdout",
     "output_type": "stream",
     "text": [
      "\n",
      "**** Test roc_auc_score for C = 0.00100 is 0.897834 ****\n"
     ]
    }
   ],
   "source": [
    "# determining optimal alpha\n",
    "optimal_alpha = gscv.best_params_['alpha']\n",
    "\n",
    "# calibrating the above results using CalibratedClassifierCV and training the model\n",
    "ccv = CalibratedClassifierCV(gscv,cv='prefit')\n",
    "ccv.fit(x_train_w2v,y_train_w2v)\n",
    "\n",
    "#predicting the class label using test data \n",
    "y_pred = ccv.predict_proba(x_test_w2v)[:,1]\n",
    "\n",
    "#determining the Test roc_auc_score for optimal alpha\n",
    "auc_score = roc_auc_score(y_test_w2v, y_pred)\n",
    "print('\\n**** Test roc_auc_score for C = %.5f is %f ****' % (optimal_alpha,auc_score))"
   ]
  },
  {
   "cell_type": "code",
   "execution_count": 56,
   "metadata": {},
   "outputs": [
    {
     "name": "stdout",
     "output_type": "stream",
     "text": [
      "[-9.210340371976182, -6.907755278982137, -4.605170185988091, -2.3025850929940455, 0.0, 2.302585092994046, 4.605170185988092, 6.907755278982137, 9.210340371976184]\n"
     ]
    },
    {
     "data": {
      "image/png": "[encoded data removed]",
      "text/plain": [
       "<Figure size 432x288 with 1 Axes>"
      ]
     },
     "metadata": {},
     "output_type": "display_data"
    }
   ],
   "source": [
    "# plotting AUC vs alpha on Train & Validation dataset\n",
    "log_alpha=[math.log(x) for x in alpha_values]\n",
    "print(log_alpha)\n",
    "plt.xlim(-12,10)\n",
    "plt.ylim(0.0,1.0)\n",
    "plt.xlabel(\"alpha\",fontsize=15)\n",
    "plt.ylabel('AUC')\n",
    "plt.title('AUC v/s alpha')\n",
    "plt.plot(log_alpha, gscv.cv_results_['mean_test_score'], 'r', label='CV AUC')\n",
    "plt.plot(log_alpha, gscv.cv_results_['mean_train_score'], 'b', label='Train AUC')\n",
    "plt.legend(loc='lower right')\n",
    "plt.show()"
   ]
  },
  {
   "cell_type": "markdown",
   "metadata": {},
   "source": [
    "**Confusion Matric on Test Data**"
   ]
  },
  {
   "cell_type": "code",
   "execution_count": 57,
   "metadata": {},
   "outputs": [
    {
     "name": "stdout",
     "output_type": "stream",
     "text": [
      "[[ 2423  2826]\n",
      " [  858 23893]]\n"
     ]
    },
    {
     "data": {
      "text/plain": [
       "<matplotlib.axes._subplots.AxesSubplot at 0x1f7935da240>"
      ]
     },
     "execution_count": 57,
     "metadata": {},
     "output_type": "execute_result"
    },
    {
     "data": {
      "image/png": "[encoded data removed]",
      "text/plain": [
       "<Figure size 432x288 with 2 Axes>"
      ]
     },
     "metadata": {},
     "output_type": "display_data"
    }
   ],
   "source": [
    "# plotting confusion matrix as heatmap\n",
    "y_predict = ccv.predict(x_test_w2v)\n",
    "cm = confusion_matrix(y_test_w2v, y_predict)\n",
    "print(cm)\n",
    "df_cm = pd.DataFrame(cm, range(2),range(2))\n",
    "sns.set(font_scale=1.4)\n",
    "sns.heatmap(df_cm, annot=True,annot_kws={\"size\": 16}, fmt='g')"
   ]
  },
  {
   "cell_type": "markdown",
   "metadata": {},
   "source": [
    "**Confusion Matric on Train Data**"
   ]
  },
  {
   "cell_type": "code",
   "execution_count": 59,
   "metadata": {},
   "outputs": [
    {
     "name": "stdout",
     "output_type": "stream",
     "text": [
      "[[ 4641  5687]\n",
      " [ 1749 57923]]\n"
     ]
    },
    {
     "data": {
      "text/plain": [
       "<matplotlib.axes._subplots.AxesSubplot at 0x1f79a02f898>"
      ]
     },
     "execution_count": 59,
     "metadata": {},
     "output_type": "execute_result"
    },
    {
     "data": {
      "image/png": "[encoded data removed]",
      "text/plain": [
       "<Figure size 432x288 with 2 Axes>"
      ]
     },
     "metadata": {},
     "output_type": "display_data"
    }
   ],
   "source": [
    "# plotting confusion matrix as heatmap\n",
    "y_predict = ccv.predict(x_train_w2v)\n",
    "cm = confusion_matrix(y_train_w2v, y_predict)\n",
    "print(cm)\n",
    "df_cm = pd.DataFrame(cm, range(2),range(2))\n",
    "sns.set(font_scale=1.4)\n",
    "sns.heatmap(df_cm, annot=True,annot_kws={\"size\": 16}, fmt='g')"
   ]
  },
  {
   "cell_type": "markdown",
   "metadata": {},
   "source": [
    "### [3.1.6] Applying Linear SVM on AVG W2V (l2 reg.),<font color='red'> SET 3</font>"
   ]
  },
  {
   "cell_type": "code",
   "execution_count": 60,
   "metadata": {},
   "outputs": [
    {
     "name": "stdout",
     "output_type": "stream",
     "text": [
      "Best alpha Value:  {'alpha': 0.001}\n",
      "Best ROC AUC Score: 0.89941\n"
     ]
    }
   ],
   "source": [
    "# initializing SGDClassifier model with L2 regularisation\n",
    "sgdc = SGDClassifier(loss='hinge', penalty='l2')\n",
    "\n",
    "# alpha values we need to try on classifier\n",
    "alpha_values = [10**-4,10**-3,10**-2,10**-1,10**0,10**1,10**2,10**3,10**4]\n",
    "param_grid = {'alpha':[10**-4,10**-3,10**-2,10**-1,10**0,10**1,10**2,10**3,10**4]}\n",
    "\n",
    "# using GridSearchCV to find the optimal value of alpha\n",
    "# using roc_auc as the scoring parameter & applying 10 fold CV\n",
    "gscv = GridSearchCV(sgdc,param_grid,scoring='roc_auc',cv=10,return_train_score=True)\n",
    "gscv.fit(x_train_w2v,y_train_w2v)\n",
    "\n",
    "# getting the optimal value of alpha\n",
    "print(\"Best alpha Value: \",gscv.best_params_)\n",
    "print(\"Best ROC AUC Score: %.5f\"%(gscv.best_score_))"
   ]
  },
  {
   "cell_type": "code",
   "execution_count": 61,
   "metadata": {},
   "outputs": [
    {
     "name": "stdout",
     "output_type": "stream",
     "text": [
      "\n",
      "**** Test roc_auc_score for C = 0.00100 is 0.899219 ****\n"
     ]
    }
   ],
   "source": [
    "# determining optimal alpha\n",
    "optimal_alpha = gscv.best_params_['alpha']\n",
    "\n",
    "# calibrating the above results using CalibratedClassifierCV and training the model\n",
    "ccv = CalibratedClassifierCV(gscv,cv='prefit')\n",
    "ccv.fit(x_train_w2v,y_train_w2v)\n",
    "\n",
    "#predicting the class label using test data \n",
    "y_pred = ccv.predict_proba(x_test_w2v)[:,1]\n",
    "\n",
    "#determining the Test roc_auc_score for optimal alpha\n",
    "auc_score = roc_auc_score(y_test_w2v, y_pred)\n",
    "print('\\n**** Test roc_auc_score for C = %.5f is %f ****' % (optimal_alpha,auc_score))"
   ]
  },
  {
   "cell_type": "code",
   "execution_count": 62,
   "metadata": {},
   "outputs": [
    {
     "name": "stdout",
     "output_type": "stream",
     "text": [
      "[-9.210340371976182, -6.907755278982137, -4.605170185988091, -2.3025850929940455, 0.0, 2.302585092994046, 4.605170185988092, 6.907755278982137, 9.210340371976184]\n"
     ]
    },
    {
     "data": {
      "image/png": "[encoded data removed]",
      "text/plain": [
       "<Figure size 432x288 with 1 Axes>"
      ]
     },
     "metadata": {},
     "output_type": "display_data"
    }
   ],
   "source": [
    "# plotting AUC vs alpha on Train & Validation dataset\n",
    "log_alpha=[math.log(x) for x in alpha_values]\n",
    "print(log_alpha)\n",
    "plt.xlim(-12,10)\n",
    "plt.ylim(0.0,1.0)\n",
    "plt.xlabel(\"alpha\",fontsize=15)\n",
    "plt.ylabel('AUC')\n",
    "plt.title('AUC v/s alpha')\n",
    "plt.plot(log_alpha, gscv.cv_results_['mean_test_score'], 'r', label='CV AUC')\n",
    "plt.plot(log_alpha, gscv.cv_results_['mean_train_score'], 'b', label='Train AUC')\n",
    "plt.legend(loc='lower right')\n",
    "plt.show()"
   ]
  },
  {
   "cell_type": "markdown",
   "metadata": {},
   "source": [
    "**Confusion Matric on Test Data**"
   ]
  },
  {
   "cell_type": "code",
   "execution_count": 63,
   "metadata": {},
   "outputs": [
    {
     "name": "stdout",
     "output_type": "stream",
     "text": [
      "[[ 2456  2793]\n",
      " [  849 23902]]\n"
     ]
    },
    {
     "data": {
      "text/plain": [
       "<matplotlib.axes._subplots.AxesSubplot at 0x1f79a3323c8>"
      ]
     },
     "execution_count": 63,
     "metadata": {},
     "output_type": "execute_result"
    },
    {
     "data": {
      "image/png": "[encoded data removed]",
      "text/plain": [
       "<Figure size 432x288 with 2 Axes>"
      ]
     },
     "metadata": {},
     "output_type": "display_data"
    }
   ],
   "source": [
    "# plotting confusion matrix as heatmap\n",
    "y_predict = ccv.predict(x_test_w2v)\n",
    "cm = confusion_matrix(y_test_w2v, y_predict)\n",
    "print(cm)\n",
    "df_cm = pd.DataFrame(cm, range(2),range(2))\n",
    "sns.set(font_scale=1.4)\n",
    "sns.heatmap(df_cm, annot=True,annot_kws={\"size\": 16}, fmt='g')"
   ]
  },
  {
   "cell_type": "markdown",
   "metadata": {},
   "source": [
    "**Confusion Matric on Train Data**"
   ]
  },
  {
   "cell_type": "code",
   "execution_count": 64,
   "metadata": {},
   "outputs": [
    {
     "name": "stdout",
     "output_type": "stream",
     "text": [
      "[[ 4710  5618]\n",
      " [ 1760 57912]]\n"
     ]
    },
    {
     "data": {
      "text/plain": [
       "<matplotlib.axes._subplots.AxesSubplot at 0x1f79a3fe3c8>"
      ]
     },
     "execution_count": 64,
     "metadata": {},
     "output_type": "execute_result"
    },
    {
     "data": {
      "image/png": "[encoded data removed]",
      "text/plain": [
       "<Figure size 432x288 with 2 Axes>"
      ]
     },
     "metadata": {},
     "output_type": "display_data"
    }
   ],
   "source": [
    "# plotting confusion matrix as heatmap\n",
    "y_predict = ccv.predict(x_train_w2v)\n",
    "cm = confusion_matrix(y_train_w2v, y_predict)\n",
    "print(cm)\n",
    "df_cm = pd.DataFrame(cm, range(2),range(2))\n",
    "sns.set(font_scale=1.4)\n",
    "sns.heatmap(df_cm, annot=True,annot_kws={\"size\": 16}, fmt='g')"
   ]
  },
  {
   "cell_type": "markdown",
   "metadata": {},
   "source": [
    "### [3.1.7] Applying Linear SVM on TFIDF W2V (l1 reg.),<font color='red'> SET 4</font>"
   ]
  },
  {
   "cell_type": "code",
   "execution_count": 73,
   "metadata": {},
   "outputs": [
    {
     "name": "stdout",
     "output_type": "stream",
     "text": [
      "Best alpha Value:  {'alpha': 0.001}\n",
      "Best ROC AUC Score: 0.87024\n"
     ]
    }
   ],
   "source": [
    "# initializing SGDClassifier model with L1 regularisation\n",
    "sgdc = SGDClassifier(loss='hinge', penalty='l1')\n",
    "\n",
    "# alpha values we need to try on classifier\n",
    "alpha_values = [10**-4,10**-3,10**-2,10**-1,10**0,10**1,10**2,10**3,10**4]\n",
    "param_grid = {'alpha':[10**-4,10**-3,10**-2,10**-1,10**0,10**1,10**2,10**3,10**4]}\n",
    "\n",
    "# using GridSearchCV to find the optimal value of alpha\n",
    "# using roc_auc as the scoring parameter & applying 10 fold CV\n",
    "gscv = GridSearchCV(sgdc,param_grid,scoring='roc_auc',cv=10,return_train_score=True)\n",
    "gscv.fit(x_train_tfw2v,y_train_tfw2v)\n",
    "\n",
    "# getting the optimal value of alpha\n",
    "print(\"Best alpha Value: \",gscv.best_params_)\n",
    "print(\"Best ROC AUC Score: %.5f\"%(gscv.best_score_))"
   ]
  },
  {
   "cell_type": "code",
   "execution_count": 74,
   "metadata": {},
   "outputs": [
    {
     "name": "stdout",
     "output_type": "stream",
     "text": [
      "\n",
      "**** Test roc_auc_score for C = 0.00100 is 0.865229 ****\n"
     ]
    }
   ],
   "source": [
    "# determining optimal alpha\n",
    "optimal_alpha = gscv.best_params_['alpha']\n",
    "\n",
    "# calibrating the above results using CalibratedClassifierCV and training the model\n",
    "ccv = CalibratedClassifierCV(gscv,cv='prefit')\n",
    "ccv.fit(x_train_tfw2v,y_train_tfw2v)\n",
    "\n",
    "#predicting the class label using test data \n",
    "y_pred = ccv.predict_proba(x_test_tfw2v)[:,1]\n",
    "\n",
    "#determining the Test roc_auc_score for optimal alpha\n",
    "auc_score = roc_auc_score(y_test_tfw2v, y_pred)\n",
    "print('\\n**** Test roc_auc_score for C = %.5f is %f ****' % (optimal_alpha,auc_score))"
   ]
  },
  {
   "cell_type": "code",
   "execution_count": 75,
   "metadata": {},
   "outputs": [
    {
     "name": "stdout",
     "output_type": "stream",
     "text": [
      "[-9.210340371976182, -6.907755278982137, -4.605170185988091, -2.3025850929940455, 0.0, 2.302585092994046, 4.605170185988092, 6.907755278982137, 9.210340371976184]\n"
     ]
    },
    {
     "data": {
      "image/png": "[encoded data removed]",
      "text/plain": [
       "<Figure size 432x288 with 1 Axes>"
      ]
     },
     "metadata": {},
     "output_type": "display_data"
    }
   ],
   "source": [
    "# plotting AUC vs alpha on Train & Validation dataset\n",
    "log_alpha=[math.log(x) for x in alpha_values]\n",
    "print(log_alpha)\n",
    "plt.xlim(-12,10)\n",
    "plt.ylim(0.0,1.0)\n",
    "plt.xlabel(\"alpha\",fontsize=15)\n",
    "plt.ylabel('AUC')\n",
    "plt.title('AUC v/s alpha')\n",
    "plt.plot(log_alpha, gscv.cv_results_['mean_test_score'], 'r', label='CV AUC')\n",
    "plt.plot(log_alpha, gscv.cv_results_['mean_train_score'], 'b', label='Train AUC')\n",
    "plt.legend(loc='lower right')\n",
    "plt.show()"
   ]
  },
  {
   "cell_type": "markdown",
   "metadata": {},
   "source": [
    "**Confusion Matrix on Test Data**"
   ]
  },
  {
   "cell_type": "code",
   "execution_count": 76,
   "metadata": {},
   "outputs": [
    {
     "name": "stdout",
     "output_type": "stream",
     "text": [
      "[[ 1795  3454]\n",
      " [  777 23974]]\n"
     ]
    },
    {
     "data": {
      "text/plain": [
       "<matplotlib.axes._subplots.AxesSubplot at 0x1f79a6e87b8>"
      ]
     },
     "execution_count": 76,
     "metadata": {},
     "output_type": "execute_result"
    },
    {
     "data": {
      "image/png": "[encoded data removed]",
      "text/plain": [
       "<Figure size 432x288 with 2 Axes>"
      ]
     },
     "metadata": {},
     "output_type": "display_data"
    }
   ],
   "source": [
    "# plotting confusion matrix as heatmap\n",
    "y_predict = ccv.predict(x_test_tfw2v)\n",
    "cm = confusion_matrix(y_test_tfw2v, y_predict)\n",
    "print(cm)\n",
    "df_cm = pd.DataFrame(cm, range(2),range(2))\n",
    "sns.set(font_scale=1.4)\n",
    "sns.heatmap(df_cm, annot=True,annot_kws={\"size\": 16}, fmt='g')"
   ]
  },
  {
   "cell_type": "markdown",
   "metadata": {},
   "source": [
    "**Confusion Matrix on Train Data**"
   ]
  },
  {
   "cell_type": "code",
   "execution_count": 77,
   "metadata": {},
   "outputs": [
    {
     "name": "stdout",
     "output_type": "stream",
     "text": [
      "[[ 3515  6813]\n",
      " [ 1625 58047]]\n"
     ]
    },
    {
     "data": {
      "text/plain": [
       "<matplotlib.axes._subplots.AxesSubplot at 0x1f79a4f17f0>"
      ]
     },
     "execution_count": 77,
     "metadata": {},
     "output_type": "execute_result"
    },
    {
     "data": {
      "image/png": "[encoded data removed]",
      "text/plain": [
       "<Figure size 432x288 with 2 Axes>"
      ]
     },
     "metadata": {},
     "output_type": "display_data"
    }
   ],
   "source": [
    "# plotting confusion matrix as heatmap\n",
    "y_predict = ccv.predict(x_train_tfw2v)\n",
    "cm = confusion_matrix(y_train_tfw2v, y_predict)\n",
    "print(cm)\n",
    "df_cm = pd.DataFrame(cm, range(2),range(2))\n",
    "sns.set(font_scale=1.4)\n",
    "sns.heatmap(df_cm, annot=True,annot_kws={\"size\": 16}, fmt='g')"
   ]
  },
  {
   "cell_type": "markdown",
   "metadata": {},
   "source": [
    "### [3.1.8] Applying Linear SVM on TFIDF W2V (l2 reg.),<font color='red'> SET 4</font>"
   ]
  },
  {
   "cell_type": "code",
   "execution_count": 78,
   "metadata": {},
   "outputs": [
    {
     "name": "stdout",
     "output_type": "stream",
     "text": [
      "Best alpha Value:  {'alpha': 0.001}\n",
      "Best ROC AUC Score: 0.87182\n"
     ]
    }
   ],
   "source": [
    "# initializing SGDClassifier model with L2 regularisation\n",
    "sgdc = SGDClassifier(loss='hinge', penalty='l2')\n",
    "\n",
    "# alpha values we need to try on classifier\n",
    "alpha_values = [10**-4,10**-3,10**-2,10**-1,10**0,10**1,10**2,10**3,10**4]\n",
    "param_grid = {'alpha':[10**-4,10**-3,10**-2,10**-1,10**0,10**1,10**2,10**3,10**4]}\n",
    "\n",
    "# using GridSearchCV to find the optimal value of alpha\n",
    "# using roc_auc as the scoring parameter & applying 10 fold CV\n",
    "gscv = GridSearchCV(sgdc,param_grid,scoring='roc_auc',cv=10,return_train_score=True)\n",
    "gscv.fit(x_train_tfw2v,y_train_tfw2v)\n",
    "\n",
    "# getting the optimal value of alpha\n",
    "print(\"Best alpha Value: \",gscv.best_params_)\n",
    "print(\"Best ROC AUC Score: %.5f\"%(gscv.best_score_))"
   ]
  },
  {
   "cell_type": "code",
   "execution_count": 79,
   "metadata": {},
   "outputs": [
    {
     "name": "stdout",
     "output_type": "stream",
     "text": [
      "\n",
      "**** Test roc_auc_score for C = 0.00100 is 0.866762 ****\n"
     ]
    }
   ],
   "source": [
    "# determining optimal alpha\n",
    "optimal_alpha = gscv.best_params_['alpha']\n",
    "\n",
    "# calibrating the above results using CalibratedClassifierCV and training the model\n",
    "ccv = CalibratedClassifierCV(gscv,cv='prefit')\n",
    "ccv.fit(x_train_tfw2v,y_train_tfw2v)\n",
    "\n",
    "#predicting the class label using test data \n",
    "y_pred = ccv.predict_proba(x_test_tfw2v)[:,1]\n",
    "\n",
    "#determining the Test roc_auc_score for optimal alpha\n",
    "auc_score = roc_auc_score(y_test_tfw2v, y_pred)\n",
    "print('\\n**** Test roc_auc_score for C = %.5f is %f ****' % (optimal_alpha,auc_score))"
   ]
  },
  {
   "cell_type": "code",
   "execution_count": 80,
   "metadata": {},
   "outputs": [
    {
     "name": "stdout",
     "output_type": "stream",
     "text": [
      "[-9.210340371976182, -6.907755278982137, -4.605170185988091, -2.3025850929940455, 0.0, 2.302585092994046, 4.605170185988092, 6.907755278982137, 9.210340371976184]\n"
     ]
    },
    {
     "data": {
      "image/png": "[encoded data removed]",
      "text/plain": [
       "<Figure size 432x288 with 1 Axes>"
      ]
     },
     "metadata": {},
     "output_type": "display_data"
    }
   ],
   "source": [
    "# plotting AUC vs alpha on Train & Validation dataset\n",
    "log_alpha=[math.log(x) for x in alpha_values]\n",
    "print(log_alpha)\n",
    "plt.xlim(-12,10)\n",
    "plt.ylim(0.0,1.0)\n",
    "plt.xlabel(\"alpha\",fontsize=15)\n",
    "plt.ylabel('AUC')\n",
    "plt.title('AUC v/s alpha')\n",
    "plt.plot(log_alpha, gscv.cv_results_['mean_test_score'], 'r', label='CV AUC')\n",
    "plt.plot(log_alpha, gscv.cv_results_['mean_train_score'], 'b', label='Train AUC')\n",
    "plt.legend(loc='lower right')\n",
    "plt.show()"
   ]
  },
  {
   "cell_type": "markdown",
   "metadata": {},
   "source": [
    "**Confusion Matrix on Test Data**"
   ]
  },
  {
   "cell_type": "code",
   "execution_count": 101,
   "metadata": {},
   "outputs": [
    {
     "name": "stdout",
     "output_type": "stream",
     "text": [
      "[[ 1922  3289]\n",
      " [  704 24085]]\n"
     ]
    },
    {
     "data": {
      "text/plain": [
       "<matplotlib.axes._subplots.AxesSubplot at 0x1b42bd7ba90>"
      ]
     },
     "execution_count": 101,
     "metadata": {},
     "output_type": "execute_result"
    },
    {
     "data": {
      "image/png": "[encoded data removed]",
      "text/plain": [
       "<Figure size 432x288 with 2 Axes>"
      ]
     },
     "metadata": {},
     "output_type": "display_data"
    }
   ],
   "source": [
    "# plotting confusion matrix as heatmap\n",
    "y_predict = ccv.predict(x_test_tfw2v)\n",
    "cm = confusion_matrix(y_test_tfw2v, y_predict)\n",
    "print(cm)\n",
    "df_cm = pd.DataFrame(cm, range(2),range(2))\n",
    "sns.set(font_scale=1.4)\n",
    "sns.heatmap(df_cm, annot=True,annot_kws={\"size\": 16}, fmt='g')"
   ]
  },
  {
   "cell_type": "markdown",
   "metadata": {},
   "source": [
    "**Confusion Matrix on Train Data**"
   ]
  },
  {
   "cell_type": "code",
   "execution_count": 81,
   "metadata": {},
   "outputs": [
    {
     "name": "stdout",
     "output_type": "stream",
     "text": [
      "[[ 3549  6779]\n",
      " [ 1647 58025]]\n"
     ]
    },
    {
     "data": {
      "text/plain": [
       "<matplotlib.axes._subplots.AxesSubplot at 0x1f79a65bbe0>"
      ]
     },
     "execution_count": 81,
     "metadata": {},
     "output_type": "execute_result"
    },
    {
     "data": {
      "image/png": "[encoded data removed]",
      "text/plain": [
       "<Figure size 432x288 with 2 Axes>"
      ]
     },
     "metadata": {},
     "output_type": "display_data"
    }
   ],
   "source": [
    "# plotting confusion matrix as heatmap\n",
    "y_predict = ccv.predict(x_train_tfw2v)\n",
    "cm = confusion_matrix(y_train_tfw2v, y_predict)\n",
    "print(cm)\n",
    "df_cm = pd.DataFrame(cm, range(2),range(2))\n",
    "sns.set(font_scale=1.4)\n",
    "sns.heatmap(df_cm, annot=True,annot_kws={\"size\": 16}, fmt='g')"
   ]
  },
  {
   "cell_type": "markdown",
   "metadata": {},
   "source": [
    "### [3.2] RBF SVM"
   ]
  },
  {
   "cell_type": "markdown",
   "metadata": {},
   "source": [
    "### [3.2.1] Applying RBF SVM on BOW,<font color='red'> SET 1</font>"
   ]
  },
  {
   "cell_type": "code",
   "execution_count": 82,
   "metadata": {},
   "outputs": [
    {
     "name": "stdout",
     "output_type": "stream",
     "text": [
      "Best C Value:  {'C': 100}\n",
      "Best ROC AUC Score: 0.90546\n"
     ]
    }
   ],
   "source": [
    "# initializing SupportVectorClassifier model with RBF Kernel\n",
    "svc = SVC(kernel='rbf')\n",
    "\n",
    "# C values we need to try on classifier\n",
    "C_values = [10**-4,10**-3,10**-2,10**-1,10**0,10**1,10**2,10**3,10**4]\n",
    "param_grid = {'C':[10**-4,10**-3,10**-2,10**-1,10**0,10**1,10**2,10**3,10**4]}\n",
    "\n",
    "# using GridSearchCV to find the optimal value of C\n",
    "# using roc_auc as the scoring parameter\n",
    "gscv = GridSearchCV(svc,param_grid,scoring='roc_auc', n_jobs=-1, return_train_score=True)\n",
    "\n",
    "gscv.fit(x_train_bow_rbf,y_train_bow_rbf)\n",
    "\n",
    "print(\"Best C Value: \",gscv.best_params_)\n",
    "print(\"Best ROC AUC Score: %.5f\"%(gscv.best_score_))"
   ]
  },
  {
   "cell_type": "code",
   "execution_count": 83,
   "metadata": {},
   "outputs": [
    {
     "name": "stdout",
     "output_type": "stream",
     "text": [
      "\n",
      "**** Test roc_auc_score for C = 100.000000 is 0.918736 ****\n"
     ]
    }
   ],
   "source": [
    "# determining optimal C\n",
    "optimal_C = gscv.best_params_['C']\n",
    "\n",
    "#training the model using the optimal C\n",
    "svc_clf = SVC(kernel='rbf', C=optimal_C, probability=True)\n",
    "svc_clf.fit(x_train_bow_rbf,y_train_bow_rbf)\n",
    "\n",
    "#predicting the class label using test data \n",
    "y_pred = svc_clf.predict_proba(x_test_bow_rbf)[:,1]\n",
    "\n",
    "#determining the Test roc_auc_score for optimal C\n",
    "auc_score = roc_auc_score(y_test_bow_rbf, y_pred)\n",
    "print('\\n**** Test roc_auc_score for C = %f is %f ****' % (optimal_C,auc_score))"
   ]
  },
  {
   "cell_type": "markdown",
   "metadata": {},
   "source": [
    "**AUC vs C**"
   ]
  },
  {
   "cell_type": "code",
   "execution_count": 84,
   "metadata": {},
   "outputs": [
    {
     "name": "stdout",
     "output_type": "stream",
     "text": [
      "[-9.210340371976182, -6.907755278982137, -4.605170185988091, -2.3025850929940455, 0.0, 2.302585092994046, 4.605170185988092, 6.907755278982137, 9.210340371976184]\n"
     ]
    },
    {
     "data": {
      "image/png": "[encoded data removed]",
      "text/plain": [
       "<Figure size 432x288 with 1 Axes>"
      ]
     },
     "metadata": {},
     "output_type": "display_data"
    }
   ],
   "source": [
    "# plotting AUC vs C on Train & Validation dataset\n",
    "log_C=[math.log(x) for x in C_values]\n",
    "print(log_C)\n",
    "plt.xlim(-12,10)\n",
    "plt.ylim(0.0,1.2)\n",
    "plt.xlabel(\"C\",fontsize=15)\n",
    "plt.ylabel('AUC')\n",
    "plt.title('AUC v/s C')\n",
    "plt.plot(log_C, gscv.cv_results_['mean_test_score'], 'r', label='CV AUC')\n",
    "plt.plot(log_C, gscv.cv_results_['mean_train_score'], 'b', label='Train AUC')\n",
    "plt.legend(loc='lower right')\n",
    "plt.show()"
   ]
  },
  {
   "cell_type": "markdown",
   "metadata": {},
   "source": [
    "**Confusion Matrix on Test Data**"
   ]
  },
  {
   "cell_type": "code",
   "execution_count": 43,
   "metadata": {},
   "outputs": [
    {
     "name": "stdout",
     "output_type": "stream",
     "text": [
      "[[ 370  603]\n",
      " [ 139 4888]]\n"
     ]
    },
    {
     "data": {
      "text/plain": [
       "<matplotlib.axes._subplots.AxesSubplot at 0x1f1e14eb710>"
      ]
     },
     "execution_count": 43,
     "metadata": {},
     "output_type": "execute_result"
    },
    {
     "data": {
      "image/png": "[encoded data removed]",
      "text/plain": [
       "<Figure size 432x288 with 2 Axes>"
      ]
     },
     "metadata": {},
     "output_type": "display_data"
    }
   ],
   "source": [
    "# plotting confusion matrix as heatmap\n",
    "y_predict = svc_clf.predict(x_test_bow_rbf)\n",
    "cm = confusion_matrix(y_test_bow_rbf, y_predict)\n",
    "print(cm)\n",
    "df_cm = pd.DataFrame(cm, range(2),range(2))\n",
    "sns.set(font_scale=1.4)\n",
    "sns.heatmap(df_cm, annot=True,annot_kws={\"size\": 16}, fmt='g')"
   ]
  },
  {
   "cell_type": "markdown",
   "metadata": {},
   "source": [
    "**Confusion Matrix on Train Data**"
   ]
  },
  {
   "cell_type": "code",
   "execution_count": 85,
   "metadata": {},
   "outputs": [
    {
     "name": "stdout",
     "output_type": "stream",
     "text": [
      "[[ 3549  6779]\n",
      " [ 1647 58025]]\n"
     ]
    },
    {
     "data": {
      "text/plain": [
       "<matplotlib.axes._subplots.AxesSubplot at 0x1f79a89f518>"
      ]
     },
     "execution_count": 85,
     "metadata": {},
     "output_type": "execute_result"
    },
    {
     "data": {
      "image/png": "[encoded data removed]",
      "text/plain": [
       "<Figure size 432x288 with 2 Axes>"
      ]
     },
     "metadata": {},
     "output_type": "display_data"
    }
   ],
   "source": [
    "# plotting confusion matrix as heatmap\n",
    "y_predict = ccv.predict(x_train_tfw2v)\n",
    "cm = confusion_matrix(y_train_tfw2v, y_predict)\n",
    "print(cm)\n",
    "df_cm = pd.DataFrame(cm, range(2),range(2))\n",
    "sns.set(font_scale=1.4)\n",
    "sns.heatmap(df_cm, annot=True,annot_kws={\"size\": 16}, fmt='g')"
   ]
  },
  {
   "cell_type": "markdown",
   "metadata": {},
   "source": [
    "### [3.2.2] Applying RBF SVM on TFIDF,<font color='red'> SET 2</font>"
   ]
  },
  {
   "cell_type": "code",
   "execution_count": 44,
   "metadata": {},
   "outputs": [
    {
     "name": "stdout",
     "output_type": "stream",
     "text": [
      "Best C Value:  {'C': 100}\n",
      "Best ROC AUC Score: 0.88825\n"
     ]
    }
   ],
   "source": [
    "# initializing SupportVectorClassifier model with RBF Kernel\n",
    "svc = SVC(kernel='rbf')\n",
    "\n",
    "# C values we need to try on classifier\n",
    "C_values = [10**-4,10**-3,10**-2,10**-1,10**0,10**1,10**2,10**3,10**4]\n",
    "param_grid = {'C':[10**-4,10**-3,10**-2,10**-1,10**0,10**1,10**2,10**3,10**4]}\n",
    "\n",
    "# using GridSearchCV to find the optimal value of C\n",
    "# using roc_auc as the scoring parameter\n",
    "gscv = GridSearchCV(svc, param_grid, scoring='roc_auc', n_jobs=-1, return_train_score=True)\n",
    "\n",
    "gscv.fit(x_train_tfidf_rbf,y_train_tfidf_rbf)\n",
    "\n",
    "print(\"Best C Value: \",gscv.best_params_)\n",
    "print(\"Best ROC AUC Score: %.5f\"%(gscv.best_score_))"
   ]
  },
  {
   "cell_type": "code",
   "execution_count": 45,
   "metadata": {},
   "outputs": [
    {
     "name": "stdout",
     "output_type": "stream",
     "text": [
      "\n",
      "**** Test roc_auc_score for C = 100.000000 is 0.888614 ****\n"
     ]
    }
   ],
   "source": [
    "# determining optimal C\n",
    "optimal_C = gscv.best_params_['C']\n",
    "\n",
    "#training the model using the optimal C\n",
    "svc_clf = SVC(kernel='rbf', C=optimal_C, probability=True)\n",
    "svc_clf.fit(x_train_tfidf_rbf,y_train_tfidf_rbf)\n",
    "\n",
    "#predicting the class label using test data \n",
    "y_pred = svc_clf.predict_proba(x_test_tfidf_rbf)[:,1]\n",
    "\n",
    "#determining the Test roc_auc_score for optimal C\n",
    "auc_score = roc_auc_score(y_test_tfidf_rbf, y_pred)\n",
    "print('\\n**** Test roc_auc_score for C = %f is %f ****' % (optimal_C,auc_score))"
   ]
  },
  {
   "cell_type": "markdown",
   "metadata": {},
   "source": [
    "**AUC vs C**"
   ]
  },
  {
   "cell_type": "code",
   "execution_count": 46,
   "metadata": {},
   "outputs": [
    {
     "name": "stdout",
     "output_type": "stream",
     "text": [
      "[-9.210340371976182, -6.907755278982137, -4.605170185988091, -2.3025850929940455, 0.0, 2.302585092994046, 4.605170185988092, 6.907755278982137, 9.210340371976184]\n"
     ]
    },
    {
     "data": {
      "image/png": "[encoded data removed]",
      "text/plain": [
       "<Figure size 432x288 with 1 Axes>"
      ]
     },
     "metadata": {},
     "output_type": "display_data"
    }
   ],
   "source": [
    "# plotting AUC vs C on Train & Validation dataset\n",
    "log_C=[math.log(x) for x in C_values]\n",
    "print(log_C)\n",
    "plt.xlim(-12,10)\n",
    "plt.ylim(0.0,1.2)\n",
    "plt.xlabel(\"C\",fontsize=15)\n",
    "plt.ylabel('AUC')\n",
    "plt.title('AUC v/s C')\n",
    "plt.plot(log_C, gscv.cv_results_['mean_test_score'], 'r', label='CV AUC')\n",
    "plt.plot(log_C, gscv.cv_results_['mean_train_score'], 'b', label='Train AUC')\n",
    "plt.legend(loc='lower right')\n",
    "plt.show()"
   ]
  },
  {
   "cell_type": "markdown",
   "metadata": {},
   "source": [
    "**Confusion Matrix**"
   ]
  },
  {
   "cell_type": "code",
   "execution_count": 47,
   "metadata": {},
   "outputs": [
    {
     "name": "stdout",
     "output_type": "stream",
     "text": [
      "[[ 311  662]\n",
      " [  77 4950]]\n"
     ]
    },
    {
     "data": {
      "text/plain": [
       "<matplotlib.axes._subplots.AxesSubplot at 0x1f1ded73f28>"
      ]
     },
     "execution_count": 47,
     "metadata": {},
     "output_type": "execute_result"
    },
    {
     "data": {
      "image/png": "[encoded data removed]",
      "text/plain": [
       "<Figure size 432x288 with 2 Axes>"
      ]
     },
     "metadata": {},
     "output_type": "display_data"
    }
   ],
   "source": [
    "# plotting confusion matrix as heatmap\n",
    "y_predict = svc_clf.predict(x_test_tfidf_rbf)\n",
    "cm = confusion_matrix(y_test_tfidf_rbf, y_predict)\n",
    "print(cm)\n",
    "df_cm = pd.DataFrame(cm, range(2),range(2))\n",
    "sns.set(font_scale=1.4)\n",
    "sns.heatmap(df_cm, annot=True,annot_kws={\"size\": 16}, fmt='g')"
   ]
  },
  {
   "cell_type": "markdown",
   "metadata": {},
   "source": [
    "### [3.2.3] Applying RBF SVM on AVG W2V,<font color='red'> SET 3</font>"
   ]
  },
  {
   "cell_type": "code",
   "execution_count": 57,
   "metadata": {},
   "outputs": [
    {
     "name": "stdout",
     "output_type": "stream",
     "text": [
      "Best C Value:  {'C': 10}\n",
      "Best ROC AUC Score: 0.87154\n"
     ]
    }
   ],
   "source": [
    "# initializing SupportVectorClassifier model with RBF Kernel\n",
    "svc = SVC(kernel='rbf')\n",
    "\n",
    "# C values we need to try on classifier\n",
    "C_values = [10**-4,10**-3,10**-2,10**-1,10**0,10**1,10**2,10**3,10**4]\n",
    "param_grid = {'C':[10**-4,10**-3,10**-2,10**-1,10**0,10**1,10**2,10**3,10**4]}\n",
    "\n",
    "# using GridSearchCV to find the optimal value of C\n",
    "# using roc_auc as the scoring parameter\n",
    "gscv = GridSearchCV(svc, param_grid, scoring='roc_auc', n_jobs=-1, return_train_score=True)\n",
    "\n",
    "gscv.fit(x_train_w2v_rbf,y_train_w2v_rbf)\n",
    "\n",
    "print(\"Best C Value: \",gscv.best_params_)\n",
    "print(\"Best ROC AUC Score: %.5f\"%(gscv.best_score_))"
   ]
  },
  {
   "cell_type": "code",
   "execution_count": 58,
   "metadata": {},
   "outputs": [
    {
     "name": "stdout",
     "output_type": "stream",
     "text": [
      "\n",
      "**** Test roc_auc_score for C = 10.000000 is 0.863734 ****\n"
     ]
    }
   ],
   "source": [
    "# determining optimal C\n",
    "optimal_C = gscv.best_params_['C']\n",
    "\n",
    "#training the model using the optimal C\n",
    "svc_clf = SVC(kernel='rbf', C=optimal_C, probability=True)\n",
    "svc_clf.fit(x_train_w2v_rbf,y_train_w2v_rbf)\n",
    "\n",
    "#predicting the class label using test data \n",
    "y_pred = svc_clf.predict_proba(x_test_w2v_rbf)[:,1]\n",
    "\n",
    "#determining the Test roc_auc_score for optimal C\n",
    "auc_score = roc_auc_score(y_test_w2v_rbf, y_pred)\n",
    "print('\\n**** Test roc_auc_score for C = %f is %f ****' % (optimal_C,auc_score))"
   ]
  },
  {
   "cell_type": "markdown",
   "metadata": {},
   "source": [
    "**AUC vs C**"
   ]
  },
  {
   "cell_type": "code",
   "execution_count": 59,
   "metadata": {},
   "outputs": [
    {
     "name": "stdout",
     "output_type": "stream",
     "text": [
      "[-9.210340371976182, -6.907755278982137, -4.605170185988091, -2.3025850929940455, 0.0, 2.302585092994046, 4.605170185988092, 6.907755278982137, 9.210340371976184]\n"
     ]
    },
    {
     "data": {
      "image/png": "[encoded data removed]",
      "text/plain": [
       "<Figure size 432x288 with 1 Axes>"
      ]
     },
     "metadata": {},
     "output_type": "display_data"
    }
   ],
   "source": [
    "# plotting AUC vs C on Train & Validation dataset\n",
    "log_C=[math.log(x) for x in C_values]\n",
    "print(log_C)\n",
    "plt.xlim(-12,10)\n",
    "plt.ylim(0.0,1.2)\n",
    "plt.xlabel(\"C\",fontsize=15)\n",
    "plt.ylabel('AUC')\n",
    "plt.title('AUC v/s C')\n",
    "plt.plot(log_C, gscv.cv_results_['mean_test_score'], 'r', label='CV AUC')\n",
    "plt.plot(log_C, gscv.cv_results_['mean_train_score'], 'b', label='Train AUC')\n",
    "plt.legend(loc='lower right')\n",
    "plt.show()"
   ]
  },
  {
   "cell_type": "markdown",
   "metadata": {},
   "source": [
    "**Confusion Matrix**"
   ]
  },
  {
   "cell_type": "code",
   "execution_count": 60,
   "metadata": {},
   "outputs": [
    {
     "name": "stdout",
     "output_type": "stream",
     "text": [
      "[[ 163  810]\n",
      " [  45 4982]]\n"
     ]
    },
    {
     "data": {
      "text/plain": [
       "<matplotlib.axes._subplots.AxesSubplot at 0x1f1da078ac8>"
      ]
     },
     "execution_count": 60,
     "metadata": {},
     "output_type": "execute_result"
    },
    {
     "data": {
      "image/png": "[encoded data removed]",
      "text/plain": [
       "<Figure size 432x288 with 2 Axes>"
      ]
     },
     "metadata": {},
     "output_type": "display_data"
    }
   ],
   "source": [
    "# plotting confusion matrix as heatmap\n",
    "y_predict = svc_clf.predict(x_test_w2v_rbf)\n",
    "cm = confusion_matrix(y_test_w2v_rbf, y_predict)\n",
    "print(cm)\n",
    "df_cm = pd.DataFrame(cm, range(2),range(2))\n",
    "sns.set(font_scale=1.4)\n",
    "sns.heatmap(df_cm, annot=True,annot_kws={\"size\": 16}, fmt='g')"
   ]
  },
  {
   "cell_type": "markdown",
   "metadata": {},
   "source": [
    "### [3.2.4] Applying RBF SVM on TFIDF W2V,<font color='red'> SET 4</font>"
   ]
  },
  {
   "cell_type": "code",
   "execution_count": 68,
   "metadata": {},
   "outputs": [
    {
     "name": "stdout",
     "output_type": "stream",
     "text": [
      "Best C Value:  {'C': 10}\n",
      "Best ROC AUC Score: 0.84562\n"
     ]
    }
   ],
   "source": [
    "# initializing SupportVectorClassifier model with RBF Kernel\n",
    "svc = SVC(kernel='rbf')\n",
    "\n",
    "# C values we need to try on classifier\n",
    "C_values = [10**-4,10**-3,10**-2,10**-1,10**0,10**1,10**2,10**3,10**4]\n",
    "param_grid = {'C':[10**-4,10**-3,10**-2,10**-1,10**0,10**1,10**2,10**3,10**4]}\n",
    "\n",
    "# using GridSearchCV to find the optimal value of C\n",
    "# using roc_auc as the scoring parameter\n",
    "gscv = GridSearchCV(svc, param_grid, scoring='roc_auc', n_jobs=-1, return_train_score=True)\n",
    "\n",
    "gscv.fit(x_train_tfw2v_rbf,y_train_tfw2v_rbf)\n",
    "\n",
    "print(\"Best C Value: \",gscv.best_params_)\n",
    "print(\"Best ROC AUC Score: %.5f\"%(gscv.best_score_))"
   ]
  },
  {
   "cell_type": "code",
   "execution_count": 69,
   "metadata": {},
   "outputs": [
    {
     "name": "stdout",
     "output_type": "stream",
     "text": [
      "\n",
      "**** Test roc_auc_score for C = 10.000000 is 0.840449 ****\n"
     ]
    }
   ],
   "source": [
    "# determining optimal C\n",
    "optimal_C = gscv.best_params_['C']\n",
    "\n",
    "#training the model using the optimal C\n",
    "svc_clf = SVC(kernel='rbf', C=optimal_C, probability=True)\n",
    "svc_clf.fit(x_train_tfw2v_rbf,y_train_tfw2v_rbf)\n",
    "\n",
    "#predicting the class label using test data \n",
    "y_pred = svc_clf.predict_proba(x_test_tfw2v_rbf)[:,1]\n",
    "\n",
    "#determining the Test roc_auc_score for optimal C\n",
    "auc_score = roc_auc_score(y_test_tfw2v_rbf, y_pred)\n",
    "print('\\n**** Test roc_auc_score for C = %f is %f ****' % (optimal_C,auc_score))"
   ]
  },
  {
   "cell_type": "markdown",
   "metadata": {},
   "source": [
    "**AUC vs C**"
   ]
  },
  {
   "cell_type": "code",
   "execution_count": 70,
   "metadata": {},
   "outputs": [
    {
     "name": "stdout",
     "output_type": "stream",
     "text": [
      "[-9.210340371976182, -6.907755278982137, -4.605170185988091, -2.3025850929940455, 0.0, 2.302585092994046, 4.605170185988092, 6.907755278982137, 9.210340371976184]\n"
     ]
    },
    {
     "data": {
      "image/png": "[encoded data removed]",
      "text/plain": [
       "<Figure size 432x288 with 1 Axes>"
      ]
     },
     "metadata": {},
     "output_type": "display_data"
    }
   ],
   "source": [
    "# plotting AUC vs C on Train & Validation dataset\n",
    "log_C=[math.log(x) for x in C_values]\n",
    "print(log_C)\n",
    "plt.xlim(-12,10)\n",
    "plt.ylim(0.0,1.2)\n",
    "plt.xlabel(\"C\",fontsize=15)\n",
    "plt.ylabel('AUC')\n",
    "plt.title('AUC v/s C')\n",
    "plt.plot(log_C, gscv.cv_results_['mean_test_score'], 'r', label='CV AUC')\n",
    "plt.plot(log_C, gscv.cv_results_['mean_train_score'], 'b', label='Train AUC')\n",
    "plt.legend(loc='lower right')\n",
    "plt.show()"
   ]
  },
  {
   "cell_type": "markdown",
   "metadata": {},
   "source": [
    "**Confusion Matrix**"
   ]
  },
  {
   "cell_type": "code",
   "execution_count": 71,
   "metadata": {},
   "outputs": [
    {
     "name": "stdout",
     "output_type": "stream",
     "text": [
      "[[  25  948]\n",
      " [  13 5014]]\n"
     ]
    },
    {
     "data": {
      "text/plain": [
       "<matplotlib.axes._subplots.AxesSubplot at 0x1f1db4eb7b8>"
      ]
     },
     "execution_count": 71,
     "metadata": {},
     "output_type": "execute_result"
    },
    {
     "data": {
      "image/png": "[encoded data removed]",
      "text/plain": [
       "<Figure size 432x288 with 2 Axes>"
      ]
     },
     "metadata": {},
     "output_type": "display_data"
    }
   ],
   "source": [
    "# plotting confusion matrix as heatmap\n",
    "y_predict = svc_clf.predict(x_test_tfw2v_rbf)\n",
    "cm = confusion_matrix(y_test_tfw2v_rbf, y_predict)\n",
    "print(cm)\n",
    "df_cm = pd.DataFrame(cm, range(2),range(2))\n",
    "sns.set(font_scale=1.4)\n",
    "sns.heatmap(df_cm, annot=True,annot_kws={\"size\": 16}, fmt='g')"
   ]
  },
  {
   "cell_type": "markdown",
   "metadata": {},
   "source": [
    "### [4.0] Conclusion"
   ]
  },
  {
   "cell_type": "code",
   "execution_count": 37,
   "metadata": {},
   "outputs": [
    {
     "name": "stdout",
     "output_type": "stream",
     "text": [
      "***** Observations for Linear SVM *****\n",
      "+------------+-------------+--------+-----------+----------+\n",
      "| Vectorizer | Regularizer | Alpha  | Train AUC | Test AUC |\n",
      "+------------+-------------+--------+-----------+----------+\n",
      "|    BOW     |      l1     | 0.0001 |  0.90528  | 0.90802  |\n",
      "|    BOW     |      l2     | 0.001  |  0.92749  | 0.93185  |\n",
      "|   TFIDF    |      l1     | 0.0001 |  0.93440  | 0.93586  |\n",
      "|   TFIDF    |      l2     | 0.0001 |  0.94330  | 0.94323  |\n",
      "|  Avg W2V   |      l1     | 0.001  |  0.89904  | 0.90300  |\n",
      "|  Avg W2V   |      l2     | 0.001  |  0.89941  | 0.90357  |\n",
      "| TFIDF-W2V  |      l1     | 0.001  |  0.87024  | 0.87130  |\n",
      "| TFIDF-W2V  |      l2     |  0.01  |  0.87182  | 0.87173  |\n",
      "+------------+-------------+--------+-----------+----------+\n"
     ]
    }
   ],
   "source": [
    "# Summarizing the observations\n",
    "x=PrettyTable()\n",
    "x.field_names = ['Vectorizer', 'Regularizer', 'Alpha', 'Train AUC', 'Test AUC']\n",
    "x.add_row(['BOW', 'l1', '0.0001', '0.90528', '0.90802'])\n",
    "x.add_row(['BOW', 'l2', '0.001', '0.92749', '0.93185'])\n",
    "x.add_row(['TFIDF', 'l1', '0.0001', '0.93440', '0.93586'])\n",
    "x.add_row(['TFIDF', 'l2', '0.0001', '0.94330', '0.94323'])\n",
    "x.add_row(['Avg W2V', 'l1', '0.001', '0.89904', '0.90300'])\n",
    "x.add_row(['Avg W2V', 'l2', '0.001', '0.89941', '0.90357'])\n",
    "x.add_row(['TFIDF-W2V', 'l1', '0.001', '0.87024', '0.87130'])\n",
    "x.add_row(['TFIDF-W2V', 'l2', '0.01', '0.87182', '0.87173'])\n",
    "print('***** Observations for Linear SVM *****')\n",
    "print(x)"
   ]
  },
  {
   "cell_type": "markdown",
   "metadata": {},
   "source": [
    "From the above table, we can draw the following conclusions:-\n",
    "1. Bag of Words (BoW) & TFIDF Vectorizer perform better as compared to Avg Word2Vec & TFIDF Word2Vec.\n",
    "2. Models trained with L2 regularization perform better than L1 regularization."
   ]
  },
  {
   "cell_type": "code",
   "execution_count": 38,
   "metadata": {},
   "outputs": [
    {
     "name": "stdout",
     "output_type": "stream",
     "text": [
      "*** Observations for RBF SVM ***\n",
      "+------------+-----+-----------+----------+\n",
      "| Vectorizer |  C  | Train AUC | Test AUC |\n",
      "+------------+-----+-----------+----------+\n",
      "|    BOW     |  10 |  0.90546  | 0.88696  |\n",
      "|   TFIDF    | 100 |  0.88825  | 0.88861  |\n",
      "|  Avg W2V   |  10 |  0.87154  | 0.86373  |\n",
      "| TFIDF-W2V  |  10 |  0.84562  | 0.84044  |\n",
      "+------------+-----+-----------+----------+\n"
     ]
    }
   ],
   "source": [
    "x=PrettyTable()\n",
    "x.field_names = ['Vectorizer', 'C', 'Train AUC', 'Test AUC']\n",
    "x.add_row(['BOW', '10', '0.90546', '0.88696'])\n",
    "x.add_row(['TFIDF', '100', '0.88825', '0.88861'])\n",
    "x.add_row(['Avg W2V', '10', '0.87154', '0.86373'])\n",
    "x.add_row(['TFIDF-W2V', '10', '0.84562', '0.84044'])\n",
    "print('*** Observations for RBF SVM ***')\n",
    "print(x)"
   ]
  },
  {
   "cell_type": "markdown",
   "metadata": {},
   "source": [
    "From the above table, we can draw the following conclusions:-\n",
    "1. Bag of Words (BoW) & TFIDF Vectorizer perform better as compared to Avg Word2Vec & TFIDF Word2Vec.\n",
    "2. SVM using RBF Kernels have a significantly high training time as compared to Linear SVM's"
   ]
  }
 ],
 "metadata": {
  "kernelspec": {
   "display_name": "Python 3",
   "language": "python",
   "name": "python3"
  },
  "language_info": {
   "codemirror_mode": {
    "name": "ipython",
    "version": 3
   },
   "file_extension": ".py",
   "mimetype": "text/x-python",
   "name": "python",
   "nbconvert_exporter": "python",
   "pygments_lexer": "ipython3",
   "version": "3.7.1"
  }
 },
 "nbformat": 4,
 "nbformat_minor": 2
}
