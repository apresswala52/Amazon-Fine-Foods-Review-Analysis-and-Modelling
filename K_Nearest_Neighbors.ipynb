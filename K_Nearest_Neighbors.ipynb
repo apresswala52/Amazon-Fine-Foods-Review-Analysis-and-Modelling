{
 "cells": [
  {
   "cell_type": "markdown",
   "metadata": {},
   "source": [
    "# Part 3 - K Nearest Neighbors (KNN)"
   ]
  },
  {
   "cell_type": "markdown",
   "metadata": {},
   "source": [
    "#### By Aziz Presswala"
   ]
  },
  {
   "cell_type": "code",
   "execution_count": 1,
   "metadata": {},
   "outputs": [
    {
     "name": "stderr",
     "output_type": "stream",
     "text": [
      "C:\\Users\\Aziz\\Anaconda3\\lib\\site-packages\\sklearn\\cross_validation.py:41: DeprecationWarning: This module was deprecated in version 0.18 in favor of the model_selection module into which all the refactored classes and functions are moved. Also note that the interface of the new CV iterators are different from that of this module. This module will be removed in 0.20.\n",
      "  \"This module will be removed in 0.20.\", DeprecationWarning)\n",
      "C:\\Users\\Aziz\\Anaconda3\\lib\\site-packages\\gensim\\utils.py:1209: UserWarning: detected Windows; aliasing chunkize to chunkize_serial\n",
      "  warnings.warn(\"detected Windows; aliasing chunkize to chunkize_serial\")\n"
     ]
    }
   ],
   "source": [
    "#importing libraries\n",
    "import numpy as np\n",
    "import pandas as pd\n",
    "import seaborn as sn\n",
    "import sqlite3\n",
    "import matplotlib.pyplot as plt\n",
    "from tqdm import tqdm\n",
    "from prettytable import PrettyTable\n",
    "\n",
    "from sklearn.feature_extraction.text import CountVectorizer\n",
    "from sklearn.feature_extraction.text import TfidfTransformer\n",
    "from sklearn.feature_extraction.text import TfidfVectorizer\n",
    "\n",
    "from sklearn.cross_validation import train_test_split\n",
    "from sklearn.neighbors import KNeighborsClassifier\n",
    "from sklearn.metrics import accuracy_score\n",
    "from sklearn.cross_validation import cross_val_score\n",
    "from collections import Counter\n",
    "from sklearn.metrics import accuracy_score\n",
    "from sklearn.metrics import f1_score\n",
    "from sklearn.metrics import confusion_matrix\n",
    "from sklearn import cross_validation\n",
    "from gensim.models import Word2Vec"
   ]
  },
  {
   "cell_type": "code",
   "execution_count": 2,
   "metadata": {},
   "outputs": [
    {
     "data": {
      "text/plain": [
       "(364171, 12)"
      ]
     },
     "execution_count": 2,
     "metadata": {},
     "output_type": "execute_result"
    }
   ],
   "source": [
    "# Using the CleanedText column saved in final.sqlite db\n",
    "con = sqlite3.connect('final.sqlite')\n",
    "filtered_data = pd.read_sql_query(\"SELECT * FROM Reviews\", con)\n",
    "filtered_data.shape"
   ]
  },
  {
   "cell_type": "code",
   "execution_count": 3,
   "metadata": {},
   "outputs": [],
   "source": [
    "#randomly selecting 60k points from the dataset\n",
    "#tried with 100k points but showed memory error\n",
    "df=filtered_data.sample(60000)"
   ]
  },
  {
   "cell_type": "code",
   "execution_count": 4,
   "metadata": {},
   "outputs": [],
   "source": [
    "#sort the dataset by timestamp\n",
    "df = df.sort_values('Time')\n",
    "#splitting the dataset into train(70%) & test(30%)\n",
    "train_data = df[0:42000]\n",
    "test_data = df[42000:60000]\n",
    "#saving the train and test datasets in csv files\n",
    "train_data.to_csv('train.csv')\n",
    "test_data.to_csv('test.csv')"
   ]
  },
  {
   "cell_type": "code",
   "execution_count": 6,
   "metadata": {},
   "outputs": [],
   "source": [
    "#selecting 10k points to implement kd-tree\n",
    "train_data_kd = df[0:7000]\n",
    "test_data_kd = df[7000:10000]"
   ]
  },
  {
   "cell_type": "markdown",
   "metadata": {},
   "source": [
    "## BoW"
   ]
  },
  {
   "cell_type": "markdown",
   "metadata": {},
   "source": [
    "### Simple Cross Validation(brute)"
   ]
  },
  {
   "cell_type": "code",
   "execution_count": 5,
   "metadata": {},
   "outputs": [
    {
     "data": {
      "text/plain": [
       "(42000, 2000)"
      ]
     },
     "execution_count": 5,
     "metadata": {},
     "output_type": "execute_result"
    }
   ],
   "source": [
    "#applying fit transform on train datasset\n",
    "count_vect = CountVectorizer(max_features=2000, min_df=50)\n",
    "x_train_bow = count_vect.fit_transform(train_data['CleanedText'].values)\n",
    "x_train_bow.shape"
   ]
  },
  {
   "cell_type": "code",
   "execution_count": 6,
   "metadata": {},
   "outputs": [
    {
     "data": {
      "text/plain": [
       "(18000, 2000)"
      ]
     },
     "execution_count": 6,
     "metadata": {},
     "output_type": "execute_result"
    }
   ],
   "source": [
    "#applying transform on test dataset\n",
    "x_test_bow = count_vect.transform(test_data['CleanedText'].values)\n",
    "x_test_bow.shape"
   ]
  },
  {
   "cell_type": "code",
   "execution_count": 7,
   "metadata": {},
   "outputs": [],
   "source": [
    "y_train_bow = train_data['Score']\n",
    "y_test_bow = test_data['Score']"
   ]
  },
  {
   "cell_type": "code",
   "execution_count": 8,
   "metadata": {},
   "outputs": [
    {
     "name": "stdout",
     "output_type": "stream",
     "text": [
      "\n",
      "CV f1-score for k = 1 is 0.900763\n",
      "\n",
      "CV f1-score for k = 3 is 0.917187\n",
      "\n",
      "CV f1-score for k = 5 is 0.920492\n",
      "\n",
      "CV f1-score for k = 7 is 0.920743\n",
      "\n",
      "CV f1-score for k = 9 is 0.921038\n",
      "\n",
      "CV f1-score for k = 11 is 0.920895\n",
      "\n",
      "CV f1-score for k = 13 is 0.920606\n",
      "\n",
      "CV f1-score for k = 15 is 0.920694\n",
      "\n",
      "CV f1-score for k = 17 is 0.920800\n",
      "\n",
      "CV f1-score for k = 19 is 0.920813\n",
      "\n",
      "CV f1-score for k = 21 is 0.920860\n",
      "\n",
      "CV f1-score for k = 23 is 0.920774\n",
      "\n",
      "CV f1-score for k = 25 is 0.920715\n",
      "\n",
      "CV f1-score for k = 27 is 0.920597\n",
      "\n",
      "CV f1-score for k = 29 is 0.920518\n",
      "\n",
      "The optimal number of neighbors is 9.\n",
      "\n",
      "****Test f1-score for k = 9 is 0.904950****\n",
      "\n",
      "****Test accuracy for k = 9 is 82.750000%****\n"
     ]
    }
   ],
   "source": [
    "# split the train data set into cross validation train and cross validation test\n",
    "X_tr, X_cv, y_tr, y_cv = cross_validation.train_test_split(x_train_bow, y_train_bow, test_size=0.3)\n",
    "\n",
    "f1_scores=[]\n",
    "myList = list(range(0,30))\n",
    "neighbors = list(filter(lambda x: x % 2 != 0, myList))\n",
    "\n",
    "for i in neighbors:\n",
    "    # instantiate learning model (k = 30)\n",
    "    knn = KNeighborsClassifier(n_neighbors=i, algorithm='brute')\n",
    "\n",
    "    # fitting the model on crossvalidation train\n",
    "    knn.fit(X_tr, y_tr)\n",
    "\n",
    "    # predict the response on the crossvalidation train\n",
    "    pred = knn.predict(X_cv)\n",
    "    \n",
    "    #evaluate CV f1-score\n",
    "    f1 = f1_score(y_cv, pred, pos_label='positive', average='binary')\n",
    "    \n",
    "    #printing f1-score of positive class for each k\n",
    "    print('\\nCV f1-score for k = %d is %f' % (i, f1))\n",
    "    f1_scores.append(f1)\n",
    "    \n",
    "\n",
    "# determining optimal k\n",
    "optimal_k = neighbors[f1_scores.index(max(f1_scores))]\n",
    "print('\\nThe optimal number of neighbors is %d.' % optimal_k)\n",
    "\n",
    "knn = KNeighborsClassifier(optimal_k)\n",
    "knn.fit(X_tr,y_tr)\n",
    "pred = knn.predict(x_test_bow)\n",
    "\n",
    "#determining the Test f1 score for optimal k\n",
    "f1 = f1_score(y_test_bow, pred, pos_label='positive', average='binary')\n",
    "print('\\n****Test f1-score for k = %d is %f****' % (optimal_k,f1))\n",
    "\n",
    "#determining the Test accuracy for optimal k\n",
    "acc = accuracy_score(y_test_bow, pred, normalize=True) * float(100)\n",
    "print('\\n****Test accuracy for k = %d is %f%%****' % (optimal_k,acc))"
   ]
  },
  {
   "cell_type": "code",
   "execution_count": 21,
   "metadata": {},
   "outputs": [
    {
     "data": {
      "image/png": "[encoded data removed]",
      "text/plain": [
       "<matplotlib.figure.Figure at 0x1550eb57080>"
      ]
     },
     "metadata": {},
     "output_type": "display_data"
    },
    {
     "name": "stdout",
     "output_type": "stream",
     "text": [
      "The f1-score for each k value is :  [0.90076 0.91719 0.92049 0.92074 0.92104 0.9209  0.92061 0.92069 0.9208\n",
      " 0.92081 0.92086 0.92077 0.92072 0.9206  0.92052]\n"
     ]
    }
   ],
   "source": [
    "# plot f1-score vs k \n",
    "plt.figure(figsize=(15,10))\n",
    "plt.plot(neighbors, f1_scores)\n",
    "for xy in zip(neighbors, np.round(f1_scores,3)):\n",
    "    plt.annotate('(%s, %s)' % xy, xy=xy, textcoords='data')\n",
    "\n",
    "plt.xlabel('Number of Neighbors K')\n",
    "plt.ylabel('f1-score')\n",
    "plt.show()\n",
    "\n",
    "print(\"The f1-score for each k value is : \", np.round(f1_scores,5))"
   ]
  },
  {
   "cell_type": "markdown",
   "metadata": {},
   "source": [
    "### Simple Cross Validation (kd-tree)"
   ]
  },
  {
   "cell_type": "code",
   "execution_count": 7,
   "metadata": {},
   "outputs": [],
   "source": [
    "#applying fit transform on train datasset\n",
    "count_vect = CountVectorizer(max_features=2000, min_df=50)\n",
    "x_train_bow_kd = count_vect.fit_transform(train_data_kd['CleanedText'].values)\n",
    "\n",
    "#applying transform on test dataset\n",
    "x_test_bow_kd = count_vect.transform(test_data_kd['CleanedText'].values)\n",
    "\n",
    "#class labels for train & test datasets\n",
    "y_train_bow_kd = train_data_kd['Score']\n",
    "y_test_bow_kd = test_data_kd['Score']"
   ]
  },
  {
   "cell_type": "code",
   "execution_count": 8,
   "metadata": {},
   "outputs": [
    {
     "name": "stdout",
     "output_type": "stream",
     "text": [
      "\n",
      "CV f1-score for k = 1 is 0.897166\n",
      "\n",
      "CV f1-score for k = 3 is 0.923837\n",
      "\n",
      "CV f1-score for k = 5 is 0.933539\n",
      "\n",
      "CV f1-score for k = 7 is 0.937277\n",
      "\n",
      "CV f1-score for k = 9 is 0.937707\n",
      "\n",
      "CV f1-score for k = 11 is 0.939117\n",
      "\n",
      "CV f1-score for k = 13 is 0.941743\n",
      "\n",
      "CV f1-score for k = 15 is 0.940582\n",
      "\n",
      "CV f1-score for k = 17 is 0.941355\n",
      "\n",
      "CV f1-score for k = 19 is 0.940612\n",
      "\n",
      "CV f1-score for k = 21 is 0.940434\n",
      "\n",
      "CV f1-score for k = 23 is 0.940167\n",
      "\n",
      "CV f1-score for k = 25 is 0.940434\n",
      "\n",
      "CV f1-score for k = 27 is 0.940197\n",
      "\n",
      "CV f1-score for k = 29 is 0.940197\n",
      "\n",
      "The optimal number of neighbors is 13.\n",
      "\n",
      "****Test f1-score for k = 13 is 0.936420****\n",
      "\n",
      "****Test accuracy for k = 13 is 88.100000%****\n"
     ]
    }
   ],
   "source": [
    "# split the train data set into cross validation train and cross validation test\n",
    "X_tr, X_cv, y_tr, y_cv = cross_validation.train_test_split(x_train_bow_kd.toarray(), y_train_bow_kd, test_size=0.3)\n",
    "\n",
    "f1_scores=[]\n",
    "myList = list(range(0,30))\n",
    "neighbors = list(filter(lambda x: x % 2 != 0, myList))\n",
    "\n",
    "for i in neighbors:\n",
    "    # instantiate learning model (k = 30)\n",
    "    knn = KNeighborsClassifier(n_neighbors=i, algorithm='kd_tree')\n",
    "\n",
    "    # fitting the model on crossvalidation train\n",
    "    knn.fit(X_tr, y_tr)\n",
    "\n",
    "    # predict the response on the crossvalidation train\n",
    "    pred = knn.predict(X_cv)\n",
    "    \n",
    "    #evaluate CV f1-score\n",
    "    f1 = f1_score(y_cv, pred, pos_label='positive', average='binary')\n",
    "    \n",
    "    #printing f1-score of positive class for each k\n",
    "    print('\\nCV f1-score for k = %d is %f' % (i, f1))\n",
    "    f1_scores.append(f1)\n",
    "\n",
    "# determining optimal k\n",
    "optimal_k = neighbors[f1_scores.index(max(f1_scores))]\n",
    "print('\\nThe optimal number of neighbors is %d.' % optimal_k)\n",
    "\n",
    "knn = KNeighborsClassifier(optimal_k)\n",
    "knn.fit(X_tr,y_tr)\n",
    "pred = knn.predict(x_test_bow_kd.toarray())\n",
    "#determining the Test f1 score for optimal k\n",
    "f1 = f1_score(y_test_bow_kd, pred, pos_label='positive', average='binary')\n",
    "print('\\n****Test f1-score for k = %d is %f****' % (optimal_k,f1))\n",
    "#determining the Test accuracy for optimal k\n",
    "acc = accuracy_score(y_test_bow_kd, pred, normalize=True) * float(100)\n",
    "print('\\n****Test accuracy for k = %d is %f%%****' % (optimal_k,acc))"
   ]
  },
  {
   "cell_type": "markdown",
   "metadata": {},
   "source": [
    "### Confusion Matrix"
   ]
  },
  {
   "cell_type": "code",
   "execution_count": 27,
   "metadata": {},
   "outputs": [
    {
     "name": "stdout",
     "output_type": "stream",
     "text": [
      "[[  114  3033]\n",
      " [   72 14781]]\n"
     ]
    }
   ],
   "source": [
    "#computing confusion matrix\n",
    "cm = confusion_matrix(y_test_bow, pred)\n",
    "print(cm)"
   ]
  },
  {
   "cell_type": "code",
   "execution_count": 28,
   "metadata": {},
   "outputs": [
    {
     "data": {
      "text/plain": [
       "<matplotlib.axes._subplots.AxesSubplot at 0x15516f73b00>"
      ]
     },
     "execution_count": 28,
     "metadata": {},
     "output_type": "execute_result"
    },
    {
     "data": {
      "image/png": "[encoded data removed]",
      "text/plain": [
       "<matplotlib.figure.Figure at 0x1550e65de80>"
      ]
     },
     "metadata": {},
     "output_type": "display_data"
    }
   ],
   "source": [
    "#plotting confusion matrix as heatmap\n",
    "df_cm = pd.DataFrame(cm, range(2),range(2))\n",
    "sn.set(font_scale=1.4) #for label size\n",
    "sn.heatmap(df_cm, annot=True,annot_kws={\"size\": 16}) #font size"
   ]
  },
  {
   "cell_type": "markdown",
   "metadata": {},
   "source": [
    "## TF-IDF"
   ]
  },
  {
   "cell_type": "markdown",
   "metadata": {},
   "source": [
    "### Simple Cross Validation(brute)"
   ]
  },
  {
   "cell_type": "code",
   "execution_count": 29,
   "metadata": {},
   "outputs": [
    {
     "data": {
      "text/plain": [
       "(42000, 2000)"
      ]
     },
     "execution_count": 29,
     "metadata": {},
     "output_type": "execute_result"
    }
   ],
   "source": [
    "#applying fit transform on train datasset\n",
    "tf_idf_vect = TfidfVectorizer(max_features=2000, min_df=50)\n",
    "x_train_tfidf = tf_idf_vect.fit_transform(train_data['CleanedText'].values)\n",
    "x_train_tfidf.shape"
   ]
  },
  {
   "cell_type": "code",
   "execution_count": 30,
   "metadata": {},
   "outputs": [
    {
     "data": {
      "text/plain": [
       "(18000, 2000)"
      ]
     },
     "execution_count": 30,
     "metadata": {},
     "output_type": "execute_result"
    }
   ],
   "source": [
    "#applying transform on test dataset\n",
    "x_test_tfidf = tf_idf_vect.transform(test_data['CleanedText'].values)\n",
    "x_test_tfidf.shape"
   ]
  },
  {
   "cell_type": "code",
   "execution_count": 31,
   "metadata": {},
   "outputs": [],
   "source": [
    "y_train_tfidf = train_data['Score']\n",
    "y_test_tfidf = test_data['Score']"
   ]
  },
  {
   "cell_type": "code",
   "execution_count": 32,
   "metadata": {},
   "outputs": [
    {
     "name": "stdout",
     "output_type": "stream",
     "text": [
      "\n",
      "CV f1-score for k = 1 is 0.913115\n",
      "\n",
      "CV f1-score for k = 3 is 0.918770\n",
      "\n",
      "CV f1-score for k = 5 is 0.922333\n",
      "\n",
      "CV f1-score for k = 7 is 0.923303\n",
      "\n",
      "CV f1-score for k = 9 is 0.923721\n",
      "\n",
      "CV f1-score for k = 11 is 0.923727\n",
      "\n",
      "CV f1-score for k = 13 is 0.924039\n",
      "\n",
      "CV f1-score for k = 15 is 0.923840\n",
      "\n",
      "CV f1-score for k = 17 is 0.923482\n",
      "\n",
      "CV f1-score for k = 19 is 0.923495\n",
      "\n",
      "CV f1-score for k = 21 is 0.923435\n",
      "\n",
      "CV f1-score for k = 23 is 0.923534\n",
      "\n",
      "CV f1-score for k = 25 is 0.923594\n",
      "\n",
      "CV f1-score for k = 27 is 0.923382\n",
      "\n",
      "CV f1-score for k = 29 is 0.923541\n",
      "\n",
      "The optimal number of neighbors is 13.\n",
      "\n",
      "****Test f1-score for k = 13 is 0.910450****\n",
      "\n",
      "****Test accuracy for k = 13 is 83.822222%****\n"
     ]
    }
   ],
   "source": [
    "# split the train data set into cross validation train and cross validation test\n",
    "X_tr, X_cv, y_tr, y_cv = cross_validation.train_test_split(x_train_tfidf, y_train_tfidf, test_size=0.3)\n",
    "\n",
    "f1_scores=[]\n",
    "myList = list(range(0,30))\n",
    "neighbors = list(filter(lambda x: x % 2 != 0, myList))\n",
    "\n",
    "for i in neighbors:\n",
    "    # instantiate learning model (k = 30)\n",
    "    knn = KNeighborsClassifier(n_neighbors=i, algorithm='brute')\n",
    "\n",
    "    # fitting the model on crossvalidation train\n",
    "    knn.fit(X_tr, y_tr)\n",
    "\n",
    "    # predict the response on the crossvalidation train\n",
    "    pred = knn.predict(X_cv)\n",
    "    \n",
    "    #evaluate CV f1-score\n",
    "    f1 = f1_score(y_cv, pred, pos_label='positive', average='binary')\n",
    "    \n",
    "    #printing f1-score of positive class for each k\n",
    "    print('\\nCV f1-score for k = %d is %f' % (i, f1))\n",
    "    f1_scores.append(f1)\n",
    "    \n",
    "\n",
    "# determining optimal k\n",
    "optimal_k = neighbors[f1_scores.index(max(f1_scores))]\n",
    "print('\\nThe optimal number of neighbors is %d.' % optimal_k)\n",
    "\n",
    "knn = KNeighborsClassifier(optimal_k)\n",
    "knn.fit(X_tr,y_tr)\n",
    "pred = knn.predict(x_test_tfidf)\n",
    "\n",
    "#determining the Test f1 score for optimal k\n",
    "f1 = f1_score(y_test_tfidf, pred, pos_label='positive', average='binary')\n",
    "print('\\n****Test f1-score for k = %d is %f****' % (optimal_k,f1))\n",
    "\n",
    "#determining the Test accuracy for optimal k\n",
    "acc = accuracy_score(y_test_tfidf, pred, normalize=True) * float(100)\n",
    "print('\\n****Test accuracy for k = %d is %f%%****' % (optimal_k,acc))"
   ]
  },
  {
   "cell_type": "code",
   "execution_count": 35,
   "metadata": {},
   "outputs": [
    {
     "data": {
      "image/png": "[encoded data removed]",
      "text/plain": [
       "<matplotlib.figure.Figure at 0x1550bf50278>"
      ]
     },
     "metadata": {},
     "output_type": "display_data"
    },
    {
     "name": "stdout",
     "output_type": "stream",
     "text": [
      "The f1-score for each k value is :  [0.91312 0.91877 0.92233 0.9233  0.92372 0.92373 0.92404 0.92384 0.92348\n",
      " 0.92349 0.92344 0.92353 0.92359 0.92338 0.92354]\n"
     ]
    }
   ],
   "source": [
    "# plot f1-score vs k \n",
    "plt.figure(figsize=(15,10))\n",
    "plt.plot(neighbors, f1_scores)\n",
    "for xy in zip(neighbors, np.round(f1_scores,3)):\n",
    "    plt.annotate('(%s, %s)' % xy, xy=xy, textcoords='data')\n",
    "\n",
    "plt.xlabel('Number of Neighbors K')\n",
    "plt.ylabel('f1-score')\n",
    "plt.show()\n",
    "\n",
    "print(\"The f1-score for each k value is : \", np.round(f1_scores,5))"
   ]
  },
  {
   "cell_type": "markdown",
   "metadata": {},
   "source": [
    "### Simple Cross Validation (kd-tree)"
   ]
  },
  {
   "cell_type": "code",
   "execution_count": 9,
   "metadata": {},
   "outputs": [],
   "source": [
    "#applying fit transform on train datasset\n",
    "count_vect = CountVectorizer(max_features=2000, min_df=50)\n",
    "x_train_tfidf_kd = count_vect.fit_transform(train_data_kd['CleanedText'].values)\n",
    "\n",
    "#applying transform on test dataset\n",
    "x_test_tfidf_kd = count_vect.transform(test_data_kd['CleanedText'].values)\n",
    "\n",
    "#class labels for train & test datasets\n",
    "y_train_tfidf_kd = train_data_kd['Score']\n",
    "y_test_tfidf_kd = test_data_kd['Score']"
   ]
  },
  {
   "cell_type": "code",
   "execution_count": 10,
   "metadata": {},
   "outputs": [
    {
     "name": "stdout",
     "output_type": "stream",
     "text": [
      "\n",
      "CV f1-score for k = 1 is 0.917127\n",
      "\n",
      "CV f1-score for k = 3 is 0.940367\n",
      "\n",
      "CV f1-score for k = 5 is 0.943024\n",
      "\n",
      "CV f1-score for k = 7 is 0.944683\n",
      "\n",
      "CV f1-score for k = 9 is 0.943253\n",
      "\n",
      "CV f1-score for k = 11 is 0.944318\n",
      "\n",
      "CV f1-score for k = 13 is 0.943815\n",
      "\n",
      "CV f1-score for k = 15 is 0.944640\n",
      "\n",
      "CV f1-score for k = 17 is 0.944109\n",
      "\n",
      "CV f1-score for k = 19 is 0.943634\n",
      "\n",
      "CV f1-score for k = 21 is 0.944403\n",
      "\n",
      "CV f1-score for k = 23 is 0.944403\n",
      "\n",
      "CV f1-score for k = 25 is 0.944165\n",
      "\n",
      "CV f1-score for k = 27 is 0.943928\n",
      "\n",
      "CV f1-score for k = 29 is 0.943928\n",
      "\n",
      "The optimal number of neighbors is 7.\n",
      "\n",
      "****Test f1-score for k = 7 is 0.933929****\n",
      "\n",
      "****Test accuracy for k = 7 is 87.666667%****\n"
     ]
    }
   ],
   "source": [
    "# split the train data set into cross validation train and cross validation test\n",
    "X_tr, X_cv, y_tr, y_cv = cross_validation.train_test_split(x_train_tfidf_kd.toarray(), y_train_tfidf_kd, test_size=0.3)\n",
    "\n",
    "f1_scores=[]\n",
    "myList = list(range(0,30))\n",
    "neighbors = list(filter(lambda x: x % 2 != 0, myList))\n",
    "\n",
    "for i in neighbors:\n",
    "    # instantiate learning model (k = 30)\n",
    "    knn = KNeighborsClassifier(n_neighbors=i, algorithm='kd_tree')\n",
    "\n",
    "    # fitting the model on crossvalidation train\n",
    "    knn.fit(X_tr, y_tr)\n",
    "\n",
    "    # predict the response on the crossvalidation train\n",
    "    pred = knn.predict(X_cv)\n",
    "    \n",
    "    #evaluate CV f1-score\n",
    "    f1 = f1_score(y_cv, pred, pos_label='positive', average='binary')\n",
    "    \n",
    "    #printing f1-score of positive class for each k\n",
    "    print('\\nCV f1-score for k = %d is %f' % (i, f1))\n",
    "    f1_scores.append(f1)\n",
    "\n",
    "# determining optimal k\n",
    "optimal_k = neighbors[f1_scores.index(max(f1_scores))]\n",
    "print('\\nThe optimal number of neighbors is %d.' % optimal_k)\n",
    "\n",
    "knn = KNeighborsClassifier(optimal_k)\n",
    "knn.fit(X_tr,y_tr)\n",
    "pred = knn.predict(x_test_tfidf_kd.toarray())\n",
    "#determining the Test f1 score for optimal k\n",
    "f1 = f1_score(y_test_tfidf_kd, pred, pos_label='positive', average='binary')\n",
    "print('\\n****Test f1-score for k = %d is %f****' % (optimal_k,f1))\n",
    "#determining the Test accuracy for optimal k\n",
    "acc = accuracy_score(y_test_tfidf_kd, pred, normalize=True) * float(100)\n",
    "print('\\n****Test accuracy for k = %d is %f%%****' % (optimal_k,acc))"
   ]
  },
  {
   "cell_type": "markdown",
   "metadata": {},
   "source": [
    "### Confusion Matrix"
   ]
  },
  {
   "cell_type": "code",
   "execution_count": 33,
   "metadata": {},
   "outputs": [
    {
     "name": "stdout",
     "output_type": "stream",
     "text": [
      "[[  285  2862]\n",
      " [   50 14803]]\n"
     ]
    }
   ],
   "source": [
    "#computing confusion matrix\n",
    "cm = confusion_matrix(y_test_tfidf, pred)\n",
    "print(cm)"
   ]
  },
  {
   "cell_type": "code",
   "execution_count": 34,
   "metadata": {},
   "outputs": [
    {
     "data": {
      "text/plain": [
       "<matplotlib.axes._subplots.AxesSubplot at 0x1550e79d9b0>"
      ]
     },
     "execution_count": 34,
     "metadata": {},
     "output_type": "execute_result"
    },
    {
     "data": {
      "image/png": "[encoded data removed]",
      "text/plain": [
       "<matplotlib.figure.Figure at 0x1550e65dda0>"
      ]
     },
     "metadata": {},
     "output_type": "display_data"
    }
   ],
   "source": [
    "#plotting confusion matrix as heatmap\n",
    "df_cm = pd.DataFrame(cm, range(2),range(2))\n",
    "sn.set(font_scale=1.4) #for label size\n",
    "sn.heatmap(df_cm, annot=True,annot_kws={\"size\": 16}) #font size"
   ]
  },
  {
   "cell_type": "markdown",
   "metadata": {},
   "source": [
    "## Avg Word2Vec"
   ]
  },
  {
   "cell_type": "markdown",
   "metadata": {},
   "source": [
    "### Simple Cross Validation (brute)"
   ]
  },
  {
   "cell_type": "code",
   "execution_count": 51,
   "metadata": {},
   "outputs": [],
   "source": [
    "#training Word2Vec Model for train dataset\n",
    "i=0\n",
    "list_of_sent=[]\n",
    "for sent in train_data['CleanedText'].values:\n",
    "    list_of_sent.append(sent.split())"
   ]
  },
  {
   "cell_type": "code",
   "execution_count": 37,
   "metadata": {},
   "outputs": [],
   "source": [
    "w2v_model=Word2Vec(list_of_sent,min_count=5,size=50, workers=4)"
   ]
  },
  {
   "cell_type": "code",
   "execution_count": 38,
   "metadata": {},
   "outputs": [
    {
     "name": "stderr",
     "output_type": "stream",
     "text": [
      "C:\\Users\\Aziz\\Anaconda3\\lib\\site-packages\\ipykernel_launcher.py:1: DeprecationWarning: Call to deprecated `__getitem__` (Method will be removed in 4.0.0, use self.wv.__getitem__() instead).\n",
      "  \"\"\"Entry point for launching an IPython kernel.\n"
     ]
    }
   ],
   "source": [
    "X = w2v_model[w2v_model.wv.vocab]"
   ]
  },
  {
   "cell_type": "code",
   "execution_count": 39,
   "metadata": {},
   "outputs": [
    {
     "name": "stderr",
     "output_type": "stream",
     "text": [
      "100%|███████████████████████████████████| 42000/42000 [03:32<00:00, 197.75it/s]\n"
     ]
    },
    {
     "name": "stdout",
     "output_type": "stream",
     "text": [
      "42000\n",
      "50\n"
     ]
    }
   ],
   "source": [
    "#computing Avg Word2Vec for train dataset\n",
    "w2v_words = list(w2v_model.wv.vocab)\n",
    "sent_vectors = []; # the avg-w2v for each sentence/review is stored in this list\n",
    "for sent in tqdm(list_of_sent): # for each review/sentence\n",
    "    sent_vec = np.zeros(50) # as word vectors are of zero length\n",
    "    cnt_words =0; # num of words with a valid vector in the sentence/review\n",
    "    for word in sent: # for each word in a review/sentence\n",
    "        if word in w2v_words:\n",
    "            vec = w2v_model.wv[word]\n",
    "            sent_vec += vec\n",
    "            cnt_words += 1\n",
    "    if cnt_words != 0:\n",
    "        sent_vec /= cnt_words\n",
    "    sent_vectors.append(sent_vec)\n",
    "print(len(sent_vectors))\n",
    "print(len(sent_vectors[0]))"
   ]
  },
  {
   "cell_type": "code",
   "execution_count": 40,
   "metadata": {},
   "outputs": [
    {
     "data": {
      "text/plain": [
       "(42000, 50)"
      ]
     },
     "execution_count": 40,
     "metadata": {},
     "output_type": "execute_result"
    }
   ],
   "source": [
    "x_train_w2v = np.array(sent_vectors)\n",
    "y_train_w2v = train_data['Score']\n",
    "x_train_w2v.shape"
   ]
  },
  {
   "cell_type": "code",
   "execution_count": 56,
   "metadata": {},
   "outputs": [],
   "source": [
    "#training Word2Vec Model for test dataset\n",
    "i=0\n",
    "list_of_sent=[]\n",
    "for sent in test_data['CleanedText'].values:\n",
    "    list_of_sent.append(sent.split())"
   ]
  },
  {
   "cell_type": "code",
   "execution_count": 42,
   "metadata": {},
   "outputs": [
    {
     "name": "stderr",
     "output_type": "stream",
     "text": [
      "100%|███████████████████████████████████| 18000/18000 [01:51<00:00, 161.90it/s]\n"
     ]
    },
    {
     "name": "stdout",
     "output_type": "stream",
     "text": [
      "18000\n",
      "50\n"
     ]
    }
   ],
   "source": [
    "#computing Avg Word2Vec for test dataset\n",
    "w2v_words = list(w2v_model.wv.vocab)\n",
    "sent_vectors = []; # the avg-w2v for each sentence/review is stored in this list\n",
    "for sent in tqdm(list_of_sent): # for each review/sentence\n",
    "    sent_vec = np.zeros(50) # as word vectors are of zero length\n",
    "    cnt_words =0; # num of words with a valid vector in the sentence/review\n",
    "    for word in sent: # for each word in a review/sentence\n",
    "        if word in w2v_words:\n",
    "            vec = w2v_model.wv[word]\n",
    "            sent_vec += vec\n",
    "            cnt_words += 1\n",
    "    if cnt_words != 0:\n",
    "        sent_vec /= cnt_words\n",
    "    sent_vectors.append(sent_vec)\n",
    "print(len(sent_vectors))\n",
    "print(len(sent_vectors[0]))"
   ]
  },
  {
   "cell_type": "code",
   "execution_count": 43,
   "metadata": {},
   "outputs": [
    {
     "data": {
      "text/plain": [
       "(18000, 50)"
      ]
     },
     "execution_count": 43,
     "metadata": {},
     "output_type": "execute_result"
    }
   ],
   "source": [
    "x_test_w2v = np.array(sent_vectors)\n",
    "y_test_w2v = test_data['Score']\n",
    "x_test_w2v.shape"
   ]
  },
  {
   "cell_type": "code",
   "execution_count": 44,
   "metadata": {},
   "outputs": [
    {
     "name": "stdout",
     "output_type": "stream",
     "text": [
      "\n",
      "CV f1-score for k = 1 is 0.904874\n",
      "\n",
      "CV f1-score for k = 3 is 0.922530\n",
      "\n",
      "CV f1-score for k = 5 is 0.928206\n",
      "\n",
      "CV f1-score for k = 7 is 0.930175\n",
      "\n",
      "CV f1-score for k = 9 is 0.931214\n",
      "\n",
      "CV f1-score for k = 11 is 0.931748\n",
      "\n",
      "CV f1-score for k = 13 is 0.931580\n",
      "\n",
      "CV f1-score for k = 15 is 0.932022\n",
      "\n",
      "CV f1-score for k = 17 is 0.932363\n",
      "\n",
      "CV f1-score for k = 19 is 0.932241\n",
      "\n",
      "CV f1-score for k = 21 is 0.932242\n",
      "\n",
      "CV f1-score for k = 23 is 0.932068\n",
      "\n",
      "CV f1-score for k = 25 is 0.931636\n",
      "\n",
      "CV f1-score for k = 27 is 0.930940\n",
      "\n",
      "CV f1-score for k = 29 is 0.931244\n",
      "\n",
      "The optimal number of neighbors is 17.\n",
      "\n",
      "****Test f1-score for k = 17 is 0.919124****\n",
      "\n",
      "****Test accuracy for k = 17 is 85.677778%****\n"
     ]
    }
   ],
   "source": [
    "# split the train data set into cross validation train and cross validation test\n",
    "X_tr, X_cv, y_tr, y_cv = cross_validation.train_test_split(x_train_w2v, y_train_w2v, test_size=0.3)\n",
    "\n",
    "f1_scores=[]\n",
    "myList = list(range(0,30))\n",
    "neighbors = list(filter(lambda x: x % 2 != 0, myList))\n",
    "\n",
    "for i in neighbors:\n",
    "    # instantiate learning model (k = 30)\n",
    "    knn = KNeighborsClassifier(n_neighbors=i, algorithm='brute')\n",
    "\n",
    "    # fitting the model on crossvalidation train\n",
    "    knn.fit(X_tr, y_tr)\n",
    "\n",
    "    # predict the response on the crossvalidation train\n",
    "    pred = knn.predict(X_cv)\n",
    "    \n",
    "    #evaluate CV f1-score\n",
    "    f1 = f1_score(y_cv, pred, pos_label='positive', average='binary')\n",
    "    \n",
    "    #printing f1-score of positive class for each k\n",
    "    print('\\nCV f1-score for k = %d is %f' % (i, f1))\n",
    "    f1_scores.append(f1)\n",
    "    \n",
    "\n",
    "# determining optimal k\n",
    "optimal_k = neighbors[f1_scores.index(max(f1_scores))]\n",
    "print('\\nThe optimal number of neighbors is %d.' % optimal_k)\n",
    "\n",
    "knn = KNeighborsClassifier(optimal_k)\n",
    "knn.fit(X_tr,y_tr)\n",
    "pred = knn.predict(x_test_w2v)\n",
    "\n",
    "#determining the Test f1 score for optimal k\n",
    "f1 = f1_score(y_test_w2v, pred, pos_label='positive', average='binary')\n",
    "print('\\n****Test f1-score for k = %d is %f****' % (optimal_k,f1))\n",
    "\n",
    "#determining the Test accuracy for optimal k\n",
    "acc = accuracy_score(y_test_w2v, pred, normalize=True) * float(100)\n",
    "print('\\n****Test accuracy for k = %d is %f%%****' % (optimal_k,acc))"
   ]
  },
  {
   "cell_type": "code",
   "execution_count": 45,
   "metadata": {},
   "outputs": [
    {
     "data": {
      "image/png": "[encoded data removed]",
      "text/plain": [
       "<matplotlib.figure.Figure at 0x155244f7ac8>"
      ]
     },
     "metadata": {},
     "output_type": "display_data"
    },
    {
     "name": "stdout",
     "output_type": "stream",
     "text": [
      "The f1-score for each k value is :  [0.90487 0.92253 0.92821 0.93017 0.93121 0.93175 0.93158 0.93202 0.93236\n",
      " 0.93224 0.93224 0.93207 0.93164 0.93094 0.93124]\n"
     ]
    }
   ],
   "source": [
    "# plot f1-score vs k \n",
    "plt.figure(figsize=(15,10))\n",
    "plt.plot(neighbors, f1_scores)\n",
    "for xy in zip(neighbors, np.round(f1_scores,3)):\n",
    "    plt.annotate('(%s, %s)' % xy, xy=xy, textcoords='data')\n",
    "\n",
    "plt.xlabel('Number of Neighbors K')\n",
    "plt.ylabel('f1-score')\n",
    "plt.show()\n",
    "\n",
    "print(\"The f1-score for each k value is : \", np.round(f1_scores,5))"
   ]
  },
  {
   "cell_type": "markdown",
   "metadata": {},
   "source": [
    "### Simple Cross Validation (kd-tree)"
   ]
  },
  {
   "cell_type": "code",
   "execution_count": 22,
   "metadata": {},
   "outputs": [],
   "source": [
    "#training Word2Vec Model for train dataset\n",
    "i=0\n",
    "list_of_sent=[]\n",
    "for sent in train_data_kd['CleanedText'].values:\n",
    "    list_of_sent.append(sent.split())"
   ]
  },
  {
   "cell_type": "code",
   "execution_count": 12,
   "metadata": {},
   "outputs": [
    {
     "name": "stderr",
     "output_type": "stream",
     "text": [
      "C:\\Users\\Aziz\\Anaconda3\\lib\\site-packages\\ipykernel_launcher.py:2: DeprecationWarning: Call to deprecated `__getitem__` (Method will be removed in 4.0.0, use self.wv.__getitem__() instead).\n",
      "  \n"
     ]
    }
   ],
   "source": [
    "w2v_model=Word2Vec(list_of_sent,min_count=5,size=50, workers=4)\n",
    "X = w2v_model[w2v_model.wv.vocab]"
   ]
  },
  {
   "cell_type": "code",
   "execution_count": 13,
   "metadata": {},
   "outputs": [
    {
     "name": "stderr",
     "output_type": "stream",
     "text": [
      "100%|█████████████████████████████████████| 7000/7000 [00:25<00:00, 271.90it/s]\n"
     ]
    },
    {
     "name": "stdout",
     "output_type": "stream",
     "text": [
      "7000\n",
      "50\n"
     ]
    }
   ],
   "source": [
    "#computing Avg Word2Vec for train dataset\n",
    "w2v_words = list(w2v_model.wv.vocab)\n",
    "sent_vectors = []; # the avg-w2v for each sentence/review is stored in this list\n",
    "for sent in tqdm(list_of_sent): # for each review/sentence\n",
    "    sent_vec = np.zeros(50) # as word vectors are of zero length\n",
    "    cnt_words =0; # num of words with a valid vector in the sentence/review\n",
    "    for word in sent: # for each word in a review/sentence\n",
    "        if word in w2v_words:\n",
    "            vec = w2v_model.wv[word]\n",
    "            sent_vec += vec\n",
    "            cnt_words += 1\n",
    "    if cnt_words != 0:\n",
    "        sent_vec /= cnt_words\n",
    "    sent_vectors.append(sent_vec)\n",
    "print(len(sent_vectors))\n",
    "print(len(sent_vectors[0]))"
   ]
  },
  {
   "cell_type": "code",
   "execution_count": 14,
   "metadata": {},
   "outputs": [
    {
     "data": {
      "text/plain": [
       "(7000, 50)"
      ]
     },
     "execution_count": 14,
     "metadata": {},
     "output_type": "execute_result"
    }
   ],
   "source": [
    "x_train_w2v_kd = np.array(sent_vectors)\n",
    "y_train_w2v_kd = train_data_kd['Score']\n",
    "x_train_w2v_kd.shape"
   ]
  },
  {
   "cell_type": "code",
   "execution_count": 25,
   "metadata": {},
   "outputs": [],
   "source": [
    "#training Word2Vec Model for test dataset\n",
    "i=0\n",
    "list_of_sent=[]\n",
    "for sent in test_data_kd['CleanedText'].values:\n",
    "    list_of_sent.append(sent.split())"
   ]
  },
  {
   "cell_type": "code",
   "execution_count": 16,
   "metadata": {},
   "outputs": [
    {
     "name": "stderr",
     "output_type": "stream",
     "text": [
      "100%|█████████████████████████████████████| 3000/3000 [00:12<00:00, 239.76it/s]\n"
     ]
    },
    {
     "name": "stdout",
     "output_type": "stream",
     "text": [
      "3000\n",
      "50\n"
     ]
    }
   ],
   "source": [
    "#computing Avg Word2Vec for test dataset\n",
    "w2v_words = list(w2v_model.wv.vocab)\n",
    "sent_vectors = []; # the avg-w2v for each sentence/review is stored in this list\n",
    "for sent in tqdm(list_of_sent): # for each review/sentence\n",
    "    sent_vec = np.zeros(50) # as word vectors are of zero length\n",
    "    cnt_words =0; # num of words with a valid vector in the sentence/review\n",
    "    for word in sent: # for each word in a review/sentence\n",
    "        if word in w2v_words:\n",
    "            vec = w2v_model.wv[word]\n",
    "            sent_vec += vec\n",
    "            cnt_words += 1\n",
    "    if cnt_words != 0:\n",
    "        sent_vec /= cnt_words\n",
    "    sent_vectors.append(sent_vec)\n",
    "print(len(sent_vectors))\n",
    "print(len(sent_vectors[0]))"
   ]
  },
  {
   "cell_type": "code",
   "execution_count": 17,
   "metadata": {},
   "outputs": [
    {
     "data": {
      "text/plain": [
       "(3000, 50)"
      ]
     },
     "execution_count": 17,
     "metadata": {},
     "output_type": "execute_result"
    }
   ],
   "source": [
    "x_test_w2v_kd = np.array(sent_vectors)\n",
    "y_test_w2v_kd = test_data_kd['Score']\n",
    "x_test_w2v_kd.shape"
   ]
  },
  {
   "cell_type": "code",
   "execution_count": 19,
   "metadata": {},
   "outputs": [
    {
     "name": "stdout",
     "output_type": "stream",
     "text": [
      "\n",
      "CV f1-score for k = 1 is 0.897422\n",
      "\n",
      "CV f1-score for k = 3 is 0.922638\n",
      "\n",
      "CV f1-score for k = 5 is 0.931556\n",
      "\n",
      "CV f1-score for k = 7 is 0.935813\n",
      "\n",
      "CV f1-score for k = 9 is 0.937595\n",
      "\n",
      "CV f1-score for k = 11 is 0.938228\n",
      "\n",
      "CV f1-score for k = 13 is 0.939302\n",
      "\n",
      "CV f1-score for k = 15 is 0.939601\n",
      "\n",
      "CV f1-score for k = 17 is 0.939869\n",
      "\n",
      "CV f1-score for k = 19 is 0.939601\n",
      "\n",
      "CV f1-score for k = 21 is 0.940136\n",
      "\n",
      "CV f1-score for k = 23 is 0.940404\n",
      "\n",
      "CV f1-score for k = 25 is 0.940909\n",
      "\n",
      "CV f1-score for k = 27 is 0.940909\n",
      "\n",
      "CV f1-score for k = 29 is 0.940909\n",
      "\n",
      "The optimal number of neighbors is 25.\n",
      "\n",
      "****Test f1-score for k = 25 is 0.935535****\n",
      "\n",
      "****Test accuracy for k = 25 is 87.900000%****\n"
     ]
    }
   ],
   "source": [
    "# split the train data set into cross validation train and cross validation test\n",
    "X_tr, X_cv, y_tr, y_cv = cross_validation.train_test_split(x_train_w2v_kd, y_train_w2v_kd, test_size=0.3)\n",
    "\n",
    "f1_scores=[]\n",
    "myList = list(range(0,30))\n",
    "neighbors = list(filter(lambda x: x % 2 != 0, myList))\n",
    "\n",
    "for i in neighbors:\n",
    "    # instantiate learning model (k = 30)\n",
    "    knn = KNeighborsClassifier(n_neighbors=i, algorithm='kd_tree')\n",
    "\n",
    "    # fitting the model on crossvalidation train\n",
    "    knn.fit(X_tr, y_tr)\n",
    "\n",
    "    # predict the response on the crossvalidation train\n",
    "    pred = knn.predict(X_cv)\n",
    "    \n",
    "    #evaluate CV f1-score\n",
    "    f1 = f1_score(y_cv, pred, pos_label='positive', average='binary')\n",
    "    \n",
    "    #printing f1-score of positive class for each k\n",
    "    print('\\nCV f1-score for k = %d is %f' % (i, f1))\n",
    "    f1_scores.append(f1)\n",
    "    \n",
    "\n",
    "# determining optimal k\n",
    "optimal_k = neighbors[f1_scores.index(max(f1_scores))]\n",
    "print('\\nThe optimal number of neighbors is %d.' % optimal_k)\n",
    "\n",
    "knn = KNeighborsClassifier(optimal_k)\n",
    "knn.fit(X_tr,y_tr)\n",
    "pred = knn.predict(x_test_w2v_kd)\n",
    "\n",
    "#determining the Test f1 score for optimal k\n",
    "f1 = f1_score(y_test_w2v_kd, pred, pos_label='positive', average='binary')\n",
    "print('\\n****Test f1-score for k = %d is %f****' % (optimal_k,f1))\n",
    "\n",
    "#determining the Test accuracy for optimal k\n",
    "acc = accuracy_score(y_test_w2v_kd, pred, normalize=True) * float(100)\n",
    "print('\\n****Test accuracy for k = %d is %f%%****' % (optimal_k,acc))"
   ]
  },
  {
   "cell_type": "markdown",
   "metadata": {},
   "source": [
    "### Confusion Matrix"
   ]
  },
  {
   "cell_type": "code",
   "execution_count": 46,
   "metadata": {},
   "outputs": [
    {
     "name": "stdout",
     "output_type": "stream",
     "text": [
      "[[  773  2374]\n",
      " [  204 14649]]\n"
     ]
    }
   ],
   "source": [
    "#computing confusion matrix\n",
    "cm = confusion_matrix(y_test_w2v, pred)\n",
    "print(cm)"
   ]
  },
  {
   "cell_type": "code",
   "execution_count": 47,
   "metadata": {},
   "outputs": [
    {
     "data": {
      "text/plain": [
       "<matplotlib.axes._subplots.AxesSubplot at 0x15527dda9e8>"
      ]
     },
     "execution_count": 47,
     "metadata": {},
     "output_type": "execute_result"
    },
    {
     "data": {
      "image/png": "[encoded data removed]",
      "text/plain": [
       "<matplotlib.figure.Figure at 0x155244f7fd0>"
      ]
     },
     "metadata": {},
     "output_type": "display_data"
    }
   ],
   "source": [
    "#plotting confusion matrix as heatmap\n",
    "df_cm = pd.DataFrame(cm, range(2),range(2))\n",
    "sn.set(font_scale=1.4) #for label size\n",
    "sn.heatmap(df_cm, annot=True,annot_kws={\"size\": 16}) #font size"
   ]
  },
  {
   "cell_type": "markdown",
   "metadata": {},
   "source": [
    "## TF-IDF Word2Vec"
   ]
  },
  {
   "cell_type": "markdown",
   "metadata": {},
   "source": [
    "### Simple Cross Validation (brute)"
   ]
  },
  {
   "cell_type": "code",
   "execution_count": 52,
   "metadata": {},
   "outputs": [],
   "source": [
    "# training model for train dataset\n",
    "model = TfidfVectorizer()\n",
    "tf_idf_matrix = model.fit_transform(train_data['CleanedText'].values)\n",
    "# we are converting a dictionary with word as a key, and the idf as a value\n",
    "dictionary = dict(zip(model.get_feature_names(), list(model.idf_)))"
   ]
  },
  {
   "cell_type": "code",
   "execution_count": 53,
   "metadata": {},
   "outputs": [
    {
     "name": "stderr",
     "output_type": "stream",
     "text": [
      "100%|███████████████████████████████████| 42000/42000 [04:31<00:00, 154.46it/s]\n"
     ]
    }
   ],
   "source": [
    "# TF-IDF weighted Word2Vec\n",
    "tfidf_feat = model.get_feature_names() # tfidf words/col-names\n",
    "# final_tf_idf is the sparse matrix with row= sentence, col=word and cell_val = tfidf\n",
    "\n",
    "tfidf_sent_vectors = []; # the tfidf-w2v for each sentence/review is stored in this list\n",
    "row=0;\n",
    "for sent in tqdm(list_of_sent): # for each review/sentence \n",
    "    sent_vec = np.zeros(50) # as word vectors are of zero length\n",
    "    weight_sum =0; # num of words with a valid vector in the sentence/review\n",
    "    for word in sent: # for each word in a review/sentence\n",
    "        if word in w2v_words:\n",
    "            vec = w2v_model.wv[word]\n",
    "            # tf_idf = tf_idf_matrix[row, tfidf_feat.index(word)]\n",
    "            # to reduce the computation we are \n",
    "            # dictionary[word] = idf value of word in whole courpus\n",
    "            # sent.count(word) = tf valeus of word in this review\n",
    "            tf_idf = dictionary[word]*(sent.count(word)/len(sent))\n",
    "            sent_vec += (vec * tf_idf)\n",
    "            weight_sum += tf_idf\n",
    "    if weight_sum != 0:\n",
    "        sent_vec /= weight_sum\n",
    "    tfidf_sent_vectors.append(sent_vec)\n",
    "    row += 1"
   ]
  },
  {
   "cell_type": "code",
   "execution_count": 54,
   "metadata": {},
   "outputs": [
    {
     "data": {
      "text/plain": [
       "(42000, 50)"
      ]
     },
     "execution_count": 54,
     "metadata": {},
     "output_type": "execute_result"
    }
   ],
   "source": [
    "x_train_tfw2v = np.array(tfidf_sent_vectors)\n",
    "y_train_tfw2v = train_data['Score']\n",
    "x_train_tfw2v.shape"
   ]
  },
  {
   "cell_type": "code",
   "execution_count": 55,
   "metadata": {},
   "outputs": [],
   "source": [
    "# training model for test dataset\n",
    "model = TfidfVectorizer()\n",
    "tf_idf_matrix = model.fit_transform(test_data['CleanedText'].values)\n",
    "# we are converting a dictionary with word as a key, and the idf as a value\n",
    "dictionary = dict(zip(model.get_feature_names(), list(model.idf_)))"
   ]
  },
  {
   "cell_type": "code",
   "execution_count": 57,
   "metadata": {},
   "outputs": [
    {
     "name": "stderr",
     "output_type": "stream",
     "text": [
      "100%|███████████████████████████████████| 18000/18000 [02:00<00:00, 149.97it/s]\n"
     ]
    }
   ],
   "source": [
    "# TF-IDF weighted Word2Vec\n",
    "tfidf_feat = model.get_feature_names() # tfidf words/col-names\n",
    "# final_tf_idf is the sparse matrix with row= sentence, col=word and cell_val = tfidf\n",
    "\n",
    "tfidf_sent_vectors = []; # the tfidf-w2v for each sentence/review is stored in this list\n",
    "row=0;\n",
    "for sent in tqdm(list_of_sent): # for each review/sentence \n",
    "    sent_vec = np.zeros(50) # as word vectors are of zero length\n",
    "    weight_sum =0; # num of words with a valid vector in the sentence/review\n",
    "    for word in sent: # for each word in a review/sentence\n",
    "        if word in w2v_words:\n",
    "            vec = w2v_model.wv[word]\n",
    "            # tf_idf = tf_idf_matrix[row, tfidf_feat.index(word)]\n",
    "            # to reduce the computation we are \n",
    "            # dictionary[word] = idf value of word in whole courpus\n",
    "            # sent.count(word) = tf valeus of word in this review\n",
    "            tf_idf = dictionary[word]*(sent.count(word)/len(sent))\n",
    "            sent_vec += (vec * tf_idf)\n",
    "            weight_sum += tf_idf\n",
    "    if weight_sum != 0:\n",
    "        sent_vec /= weight_sum\n",
    "    tfidf_sent_vectors.append(sent_vec)\n",
    "    row += 1"
   ]
  },
  {
   "cell_type": "code",
   "execution_count": 58,
   "metadata": {},
   "outputs": [
    {
     "data": {
      "text/plain": [
       "(18000, 50)"
      ]
     },
     "execution_count": 58,
     "metadata": {},
     "output_type": "execute_result"
    }
   ],
   "source": [
    "x_test_tfw2v = np.array(tfidf_sent_vectors)\n",
    "y_test_tfw2v = test_data['Score']\n",
    "x_test_tfw2v.shape"
   ]
  },
  {
   "cell_type": "code",
   "execution_count": 59,
   "metadata": {},
   "outputs": [
    {
     "name": "stdout",
     "output_type": "stream",
     "text": [
      "\n",
      "CV f1-score for k = 1 is 0.895784\n",
      "\n",
      "CV f1-score for k = 3 is 0.917117\n",
      "\n",
      "CV f1-score for k = 5 is 0.922605\n",
      "\n",
      "CV f1-score for k = 7 is 0.925572\n",
      "\n",
      "CV f1-score for k = 9 is 0.927377\n",
      "\n",
      "CV f1-score for k = 11 is 0.928361\n",
      "\n",
      "CV f1-score for k = 13 is 0.928518\n",
      "\n",
      "CV f1-score for k = 15 is 0.928443\n",
      "\n",
      "CV f1-score for k = 17 is 0.928312\n",
      "\n",
      "CV f1-score for k = 19 is 0.928113\n",
      "\n",
      "CV f1-score for k = 21 is 0.927907\n",
      "\n",
      "CV f1-score for k = 23 is 0.927615\n",
      "\n",
      "CV f1-score for k = 25 is 0.927612\n",
      "\n",
      "CV f1-score for k = 27 is 0.927743\n",
      "\n",
      "CV f1-score for k = 29 is 0.927834\n",
      "\n",
      "The optimal number of neighbors is 13.\n",
      "\n",
      "****Test f1-score for k = 13 is 0.913751****\n",
      "\n",
      "****Test accuracy for k = 13 is 84.688889%****\n"
     ]
    }
   ],
   "source": [
    "# split the train data set into cross validation train and cross validation test\n",
    "X_tr, X_cv, y_tr, y_cv = cross_validation.train_test_split(x_train_tfw2v, y_train_tfw2v, test_size=0.3)\n",
    "\n",
    "f1_scores=[]\n",
    "myList = list(range(0,30))\n",
    "neighbors = list(filter(lambda x: x % 2 != 0, myList))\n",
    "\n",
    "for i in neighbors:\n",
    "    # instantiate learning model (k = 30)\n",
    "    knn = KNeighborsClassifier(n_neighbors=i, algorithm='brute')\n",
    "\n",
    "    # fitting the model on crossvalidation train\n",
    "    knn.fit(X_tr, y_tr)\n",
    "\n",
    "    # predict the response on the crossvalidation train\n",
    "    pred = knn.predict(X_cv)\n",
    "    \n",
    "    #evaluate CV f1-score\n",
    "    f1 = f1_score(y_cv, pred, pos_label='positive', average='binary')\n",
    "    \n",
    "    #printing f1-score of positive class for each k\n",
    "    print('\\nCV f1-score for k = %d is %f' % (i, f1))\n",
    "    f1_scores.append(f1)\n",
    "    \n",
    "\n",
    "# determining optimal k\n",
    "optimal_k = neighbors[f1_scores.index(max(f1_scores))]\n",
    "print('\\nThe optimal number of neighbors is %d.' % optimal_k)\n",
    "\n",
    "knn = KNeighborsClassifier(optimal_k)\n",
    "knn.fit(X_tr,y_tr)\n",
    "pred = knn.predict(x_test_tfw2v)\n",
    "\n",
    "#determining the Test f1 score for optimal k\n",
    "f1 = f1_score(y_test_tfw2v, pred, pos_label='positive', average='binary')\n",
    "print('\\n****Test f1-score for k = %d is %f****' % (optimal_k,f1))\n",
    "\n",
    "#determining the Test accuracy for optimal k\n",
    "acc = accuracy_score(y_test_tfw2v, pred, normalize=True) * float(100)\n",
    "print('\\n****Test accuracy for k = %d is %f%%****' % (optimal_k,acc))"
   ]
  },
  {
   "cell_type": "code",
   "execution_count": 60,
   "metadata": {},
   "outputs": [
    {
     "data": {
      "image/png": "[encoded data removed]",
      "text/plain": [
       "<matplotlib.figure.Figure at 0x1552be08278>"
      ]
     },
     "metadata": {},
     "output_type": "display_data"
    },
    {
     "name": "stdout",
     "output_type": "stream",
     "text": [
      "The f1-score for each k value is :  [0.89578 0.91712 0.9226  0.92557 0.92738 0.92836 0.92852 0.92844 0.92831\n",
      " 0.92811 0.92791 0.92761 0.92761 0.92774 0.92783]\n"
     ]
    }
   ],
   "source": [
    "# plot f1-score vs k \n",
    "plt.figure(figsize=(15,10))\n",
    "plt.plot(neighbors, f1_scores)\n",
    "for xy in zip(neighbors, np.round(f1_scores,3)):\n",
    "    plt.annotate('(%s, %s)' % xy, xy=xy, textcoords='data')\n",
    "\n",
    "plt.xlabel('Number of Neighbors K')\n",
    "plt.ylabel('f1-score')\n",
    "plt.show()\n",
    "\n",
    "print(\"The f1-score for each k value is : \", np.round(f1_scores,5))"
   ]
  },
  {
   "cell_type": "markdown",
   "metadata": {},
   "source": [
    "### Simple Cross Validation (kd-tree)"
   ]
  },
  {
   "cell_type": "code",
   "execution_count": 20,
   "metadata": {},
   "outputs": [],
   "source": [
    "# training model for train dataset\n",
    "model = TfidfVectorizer()\n",
    "tf_idf_matrix = model.fit_transform(train_data_kd['CleanedText'].values)\n",
    "# we are converting a dictionary with word as a key, and the idf as a value\n",
    "dictionary = dict(zip(model.get_feature_names(), list(model.idf_)))"
   ]
  },
  {
   "cell_type": "code",
   "execution_count": 23,
   "metadata": {},
   "outputs": [
    {
     "name": "stderr",
     "output_type": "stream",
     "text": [
      "100%|█████████████████████████████████████| 7000/7000 [00:34<00:00, 202.16it/s]\n"
     ]
    }
   ],
   "source": [
    "# TF-IDF weighted Word2Vec\n",
    "tfidf_feat = model.get_feature_names() # tfidf words/col-names\n",
    "# final_tf_idf is the sparse matrix with row= sentence, col=word and cell_val = tfidf\n",
    "\n",
    "tfidf_sent_vectors = []; # the tfidf-w2v for each sentence/review is stored in this list\n",
    "row=0;\n",
    "for sent in tqdm(list_of_sent): # for each review/sentence \n",
    "    sent_vec = np.zeros(50) # as word vectors are of zero length\n",
    "    weight_sum =0; # num of words with a valid vector in the sentence/review\n",
    "    for word in sent: # for each word in a review/sentence\n",
    "        if word in w2v_words:\n",
    "            vec = w2v_model.wv[word]\n",
    "            # tf_idf = tf_idf_matrix[row, tfidf_feat.index(word)]\n",
    "            # to reduce the computation we are \n",
    "            # dictionary[word] = idf value of word in whole courpus\n",
    "            # sent.count(word) = tf valeus of word in this review\n",
    "            tf_idf = dictionary[word]*(sent.count(word)/len(sent))\n",
    "            sent_vec += (vec * tf_idf)\n",
    "            weight_sum += tf_idf\n",
    "    if weight_sum != 0:\n",
    "        sent_vec /= weight_sum\n",
    "    tfidf_sent_vectors.append(sent_vec)\n",
    "    row += 1"
   ]
  },
  {
   "cell_type": "code",
   "execution_count": 24,
   "metadata": {},
   "outputs": [
    {
     "data": {
      "text/plain": [
       "(7000, 50)"
      ]
     },
     "execution_count": 24,
     "metadata": {},
     "output_type": "execute_result"
    }
   ],
   "source": [
    "x_train_tfw2v_kd = np.array(tfidf_sent_vectors)\n",
    "y_train_tfw2v_kd = train_data_kd['Score']\n",
    "x_train_tfw2v_kd.shape"
   ]
  },
  {
   "cell_type": "code",
   "execution_count": 26,
   "metadata": {},
   "outputs": [],
   "source": [
    "# training model for test dataset\n",
    "model = TfidfVectorizer()\n",
    "tf_idf_matrix = model.fit_transform(test_data_kd['CleanedText'].values)\n",
    "# we are converting a dictionary with word as a key, and the idf as a value\n",
    "dictionary = dict(zip(model.get_feature_names(), list(model.idf_)))"
   ]
  },
  {
   "cell_type": "code",
   "execution_count": 27,
   "metadata": {},
   "outputs": [
    {
     "name": "stderr",
     "output_type": "stream",
     "text": [
      "100%|█████████████████████████████████████| 3000/3000 [00:15<00:00, 189.16it/s]\n"
     ]
    }
   ],
   "source": [
    "# TF-IDF weighted Word2Vec\n",
    "tfidf_feat = model.get_feature_names() # tfidf words/col-names\n",
    "# final_tf_idf is the sparse matrix with row= sentence, col=word and cell_val = tfidf\n",
    "\n",
    "tfidf_sent_vectors = []; # the tfidf-w2v for each sentence/review is stored in this list\n",
    "row=0;\n",
    "for sent in tqdm(list_of_sent): # for each review/sentence \n",
    "    sent_vec = np.zeros(50) # as word vectors are of zero length\n",
    "    weight_sum =0; # num of words with a valid vector in the sentence/review\n",
    "    for word in sent: # for each word in a review/sentence\n",
    "        if word in w2v_words:\n",
    "            vec = w2v_model.wv[word]\n",
    "            # tf_idf = tf_idf_matrix[row, tfidf_feat.index(word)]\n",
    "            # to reduce the computation we are \n",
    "            # dictionary[word] = idf value of word in whole courpus\n",
    "            # sent.count(word) = tf valeus of word in this review\n",
    "            tf_idf = dictionary[word]*(sent.count(word)/len(sent))\n",
    "            sent_vec += (vec * tf_idf)\n",
    "            weight_sum += tf_idf\n",
    "    if weight_sum != 0:\n",
    "        sent_vec /= weight_sum\n",
    "    tfidf_sent_vectors.append(sent_vec)\n",
    "    row += 1"
   ]
  },
  {
   "cell_type": "code",
   "execution_count": 28,
   "metadata": {},
   "outputs": [
    {
     "data": {
      "text/plain": [
       "(3000, 50)"
      ]
     },
     "execution_count": 28,
     "metadata": {},
     "output_type": "execute_result"
    }
   ],
   "source": [
    "x_test_tfw2v_kd = np.array(tfidf_sent_vectors)\n",
    "y_test_tfw2v_kd = test_data_kd['Score']\n",
    "x_test_tfw2v_kd.shape"
   ]
  },
  {
   "cell_type": "code",
   "execution_count": 29,
   "metadata": {},
   "outputs": [
    {
     "name": "stdout",
     "output_type": "stream",
     "text": [
      "\n",
      "CV f1-score for k = 1 is 0.891775\n",
      "\n",
      "CV f1-score for k = 3 is 0.921319\n",
      "\n",
      "CV f1-score for k = 5 is 0.934594\n",
      "\n",
      "CV f1-score for k = 7 is 0.937611\n",
      "\n",
      "CV f1-score for k = 9 is 0.938579\n",
      "\n",
      "CV f1-score for k = 11 is 0.938403\n",
      "\n",
      "CV f1-score for k = 13 is 0.938734\n",
      "\n",
      "CV f1-score for k = 15 is 0.939034\n",
      "\n",
      "CV f1-score for k = 17 is 0.938528\n",
      "\n",
      "CV f1-score for k = 19 is 0.938528\n",
      "\n",
      "CV f1-score for k = 21 is 0.938796\n",
      "\n",
      "CV f1-score for k = 23 is 0.938796\n",
      "\n",
      "CV f1-score for k = 25 is 0.938322\n",
      "\n",
      "CV f1-score for k = 27 is 0.938322\n",
      "\n",
      "CV f1-score for k = 29 is 0.938322\n",
      "\n",
      "The optimal number of neighbors is 15.\n",
      "\n",
      "****Test f1-score for k = 15 is 0.935724****\n",
      "\n",
      "****Test accuracy for k = 15 is 87.933333%****\n"
     ]
    }
   ],
   "source": [
    "# split the train data set into cross validation train and cross validation test\n",
    "X_tr, X_cv, y_tr, y_cv = cross_validation.train_test_split(x_train_tfw2v_kd, y_train_tfw2v_kd, test_size=0.3)\n",
    "\n",
    "f1_scores=[]\n",
    "myList = list(range(0,30))\n",
    "neighbors = list(filter(lambda x: x % 2 != 0, myList))\n",
    "\n",
    "for i in neighbors:\n",
    "    # instantiate learning model (k = 30)\n",
    "    knn = KNeighborsClassifier(n_neighbors=i, algorithm='kd_tree')\n",
    "\n",
    "    # fitting the model on crossvalidation train\n",
    "    knn.fit(X_tr, y_tr)\n",
    "\n",
    "    # predict the response on the crossvalidation train\n",
    "    pred = knn.predict(X_cv)\n",
    "    \n",
    "    #evaluate CV f1-score\n",
    "    f1 = f1_score(y_cv, pred, pos_label='positive', average='binary')\n",
    "    \n",
    "    #printing f1-score of positive class for each k\n",
    "    print('\\nCV f1-score for k = %d is %f' % (i, f1))\n",
    "    f1_scores.append(f1)\n",
    "\n",
    "# determining optimal k\n",
    "optimal_k = neighbors[f1_scores.index(max(f1_scores))]\n",
    "print('\\nThe optimal number of neighbors is %d.' % optimal_k)\n",
    "\n",
    "knn = KNeighborsClassifier(optimal_k)\n",
    "knn.fit(X_tr,y_tr)\n",
    "pred = knn.predict(x_test_tfw2v_kd)\n",
    "#determining the Test f1 score for optimal k\n",
    "f1 = f1_score(y_test_tfw2v_kd, pred, pos_label='positive', average='binary')\n",
    "print('\\n****Test f1-score for k = %d is %f****' % (optimal_k,f1))\n",
    "#determining the Test accuracy for optimal k\n",
    "acc = accuracy_score(y_test_tfw2v_kd, pred, normalize=True) * float(100)\n",
    "print('\\n****Test accuracy for k = %d is %f%%****' % (optimal_k,acc))"
   ]
  },
  {
   "cell_type": "markdown",
   "metadata": {},
   "source": [
    "### Confusion Matrix"
   ]
  },
  {
   "cell_type": "code",
   "execution_count": 61,
   "metadata": {},
   "outputs": [
    {
     "name": "stdout",
     "output_type": "stream",
     "text": [
      "[[  645  2502]\n",
      " [  254 14599]]\n"
     ]
    }
   ],
   "source": [
    "#computing confusion matrix\n",
    "cm = confusion_matrix(y_test_w2v, pred)\n",
    "print(cm)"
   ]
  },
  {
   "cell_type": "code",
   "execution_count": 62,
   "metadata": {},
   "outputs": [
    {
     "data": {
      "text/plain": [
       "<matplotlib.axes._subplots.AxesSubplot at 0x1552be08cf8>"
      ]
     },
     "execution_count": 62,
     "metadata": {},
     "output_type": "execute_result"
    },
    {
     "data": {
      "image/png": "[encoded data removed]",
      "text/plain": [
       "<matplotlib.figure.Figure at 0x1552be06c50>"
      ]
     },
     "metadata": {},
     "output_type": "display_data"
    }
   ],
   "source": [
    "#plotting confusion matrix as heatmap\n",
    "df_cm = pd.DataFrame(cm, range(2),range(2))\n",
    "sn.set(font_scale=1.4) #for label size\n",
    "sn.heatmap(df_cm, annot=True,annot_kws={\"size\": 16}) #font size"
   ]
  },
  {
   "cell_type": "markdown",
   "metadata": {},
   "source": [
    "## Conclusion"
   ]
  },
  {
   "cell_type": "code",
   "execution_count": 33,
   "metadata": {},
   "outputs": [
    {
     "name": "stdout",
     "output_type": "stream",
     "text": [
      "+--------------+---------+-----------+----------+----------+\n",
      "|  Vectorizer  |  Model  | optimal k | f1-score | accuracy |\n",
      "+--------------+---------+-----------+----------+----------+\n",
      "|     BoW      |  Brute  |     9     | 0.904950 |  82.75%  |\n",
      "|    Tfidf     |  Brute  |     13    | 0.910450 |  83.82%  |\n",
      "| Avg Word2Vec |  Brute  |     17    | 0.91912  |  85.67%  |\n",
      "|  Tfidf-W2V   |  Brute  |     13    | 0.91375  |  84.68%  |\n",
      "|     BoW      | Kd-Tree |     13    | 0.936420 |  88.10%  |\n",
      "|    Tfidf     | Kd-Tree |     7     | 0.93392  |  83.66%  |\n",
      "| Avg Word2Vec | Kd-Tree |     25    | 0.93553  |  87.90%  |\n",
      "|  Tfidf-W2V   | Kd-Tree |     15    | 0.93572  |  87.93%  |\n",
      "+--------------+---------+-----------+----------+----------+\n"
     ]
    }
   ],
   "source": [
    "x=PrettyTable()\n",
    "x.field_names = ['Vectorizer','Model','optimal k','f1-score','accuracy']\n",
    "x.add_row(['BoW','Brute','9','0.904950','82.75%'])\n",
    "x.add_row(['Tfidf','Brute','13','0.910450','83.82%'])\n",
    "x.add_row(['Avg Word2Vec','Brute','17','0.91912','85.67%'])\n",
    "x.add_row(['Tfidf-W2V','Brute','13','0.91375','84.68%'])\n",
    "x.add_row(['BoW','Kd-Tree','13','0.936420','88.10%'])\n",
    "x.add_row(['Tfidf','Kd-Tree','7','0.93392','83.66%'])\n",
    "x.add_row(['Avg Word2Vec','Kd-Tree','25','0.93553','87.90%'])\n",
    "x.add_row(['Tfidf-W2V','Kd-Tree','15','0.93572','87.93%'])\n",
    "print(x)"
   ]
  },
  {
   "cell_type": "markdown",
   "metadata": {},
   "source": [
    "From the above table, we conclude:-\n",
    "1. For Brute Force implementation, Avg Word2Vec gives the largest value of f1-score(0.919) as well as the highest accuracy(85.67). \n",
    "2. For Kd-Tree implementation, BoW gives the largest value of f1-score(0.936) as well as the highest accuracy(88.10).\n",
    "3. Therefore, Kd-Tree implementation of KNN is more efficient as compared to Brute Force implementation for all featurization methods."
   ]
  }
 ],
 "metadata": {
  "kernelspec": {
   "display_name": "Python 3",
   "language": "python",
   "name": "python3"
  },
  "language_info": {
   "codemirror_mode": {
    "name": "ipython",
    "version": 3
   },
   "file_extension": ".py",
   "mimetype": "text/x-python",
   "name": "python",
   "nbconvert_exporter": "python",
   "pygments_lexer": "ipython3",
   "version": "3.7.1"
  }
 },
 "nbformat": 4,
 "nbformat_minor": 2
}
